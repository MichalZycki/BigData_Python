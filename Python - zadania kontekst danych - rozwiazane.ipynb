{
 "cells": [
  {
   "cell_type": "markdown",
   "id": "87d76c8b",
   "metadata": {},
   "source": [
    "### Opis danych we wszystkich plikach\n",
    "- 'age', - wiek klienta\n",
    "- 'account_name', - imie klienta\n",
    "- 'account_surname', - nazwisko klienta\n",
    "- 'product', - produkt\n",
    "- 'order_city', - miasto z ktorego zlozono zamowienie\n",
    "- 'color', - kolor produktu\n",
    "- 'date', - data produkcji\n",
    "- 'delivery_date', - data dostarczenia\n",
    "- 'production_date', - data zamowienia\n",
    "- 'discount', - upust %\n",
    "- 'ordered', - ilosc zamowiona\n",
    "- 'quantity', - ilosc dostarczona \n",
    "- 'Invoice_Id', - numer faktury, klucz\n",
    "- 'region', - region\n",
    "- 'additional_delivery_cost', - oznaczenie typu dostawy i kosztu dostawy\n",
    "- 'wrh_city', - relacja magazyn z ktorego wyslano towar i destynacja zamowienia\n",
    "- 'price' - cena\n",
    "- 'City' - miasto\n",
    "- 'Zone' - region\n",
    "---\n",
    "'additional_delivery_cost'\n",
    "- T - truck - koszt na sztuke dostarczona (0.15 per sztuka)\n",
    "- C - container - koszt na sztuke zadeklarowana/zamowiona (0.11 per sztuka)\n",
    "- F - flight - koszt na sztuke dostarczona (0.82 per sztuka)\n",
    "- ? - brak danych\n"
   ]
  },
  {
   "cell_type": "markdown",
   "id": "c8e7b976",
   "metadata": {},
   "source": [
    "**1. Zaimportuj potrzebne biblioteki**"
   ]
  },
  {
   "cell_type": "code",
   "execution_count": 1,
   "id": "fb8f2677",
   "metadata": {},
   "outputs": [],
   "source": [
    "import pandas as pd\n",
    "import pyarrow\n",
    "import openpyxl"
   ]
  },
  {
   "cell_type": "markdown",
   "id": "a29c482a",
   "metadata": {},
   "source": [
    "**2. Zaimportuj dane**\n",
    "\n",
    "Zaimportuj dane z plikow:\n",
    "- ZadaniaDf1 - csv\n",
    "- ZadaniaDf2.parquet - parquet\n",
    "- ZadaniaDf3 - txt\n",
    "- ZadaniaDf4 - xlsx\n",
    "\n",
    "Nazwy DataFrameow powinny miec odpowiednio nazwy df1,df2,df3,df4\n",
    "Dane powinny być zaimportowane w taki sposób aby kolumny posiadaly odpowiednie nazwy oraz unikalny indeks na poczatku"
   ]
  },
  {
   "cell_type": "code",
   "execution_count": 2,
   "id": "d80f50b8",
   "metadata": {},
   "outputs": [],
   "source": [
    "df1=pd.read_csv(r\"C:\\Users\\michal.zycki\\OneDrive - summ-it s.a\\Desktop\\BigData\\Zajecia2\\ZadaniaDf1.csv\"\n",
    "               ,sep=\"/\"\n",
    "               )\n",
    "df2=pd.read_parquet(r\"C:\\Users\\michal.zycki\\OneDrive - summ-it s.a\\Desktop\\BigData\\Zajecia2\\ZadaniaDf2.parquet\"\n",
    "                   ,use_nullable_dtypes=True\n",
    "                   ,engine=\"pyarrow\")\n",
    "df3=pd.read_csv(r\"C:\\Users\\michal.zycki\\OneDrive - summ-it s.a\\Desktop\\BigData\\Zajecia2\\ZadaniaDf3.txt\"\n",
    "               ,sep=\" \")\n",
    "df4=pd.read_excel(r\"C:\\Users\\michal.zycki\\OneDrive - summ-it s.a\\Desktop\\BigData\\Zajecia2\\ZadaniaDf4.xlsx\")"
   ]
  },
  {
   "cell_type": "markdown",
   "id": "75404148",
   "metadata": {},
   "source": [
    "**3. Dokonaj rewizji danych**\n",
    "\n",
    "Dokonaj wstępnej rewizji każdego DataFrameu:\n",
    "- Przejrzyj kilka pierwszych i ostatnich rekordow kazdego zestawu danych\n",
    "- Zweryfikuj czy w danych pojawiaja sie nulle oraz ile ich jest\n",
    "- Zidentyfikuj ewentualne klucze w celu polaczenia zestawow\n",
    "- Zidentyfikuj czy dane sie duplikuja"
   ]
  },
  {
   "cell_type": "code",
   "execution_count": 3,
   "id": "d82a0c9f",
   "metadata": {},
   "outputs": [
    {
     "name": "stderr",
     "output_type": "stream",
     "text": [
      "C:\\Users\\michal.zycki\\AppData\\Local\\Temp\\ipykernel_27268\\1365869062.py:1: FutureWarning: null_counts is deprecated. Use show_counts instead\n",
      "  print(df1.info(null_counts=True))\n"
     ]
    },
    {
     "name": "stdout",
     "output_type": "stream",
     "text": [
      "<class 'pandas.core.frame.DataFrame'>\n",
      "RangeIndex: 5000000 entries, 0 to 4999999\n",
      "Data columns (total 10 columns):\n",
      " #   Column           Non-Null Count    Dtype \n",
      "---  ------           --------------    ----- \n",
      " 0   Invoice_Id       5000000 non-null  object\n",
      " 1   account_name     4772470 non-null  object\n",
      " 2   account_surname  4231219 non-null  object\n",
      " 3   age              5000000 non-null  int64 \n",
      " 4   product          4443677 non-null  object\n",
      " 5   order_city       4688008 non-null  object\n",
      " 6   color            5000000 non-null  object\n",
      " 7   date             5000000 non-null  object\n",
      " 8   delivery_date    5000000 non-null  object\n",
      " 9   production_date  5000000 non-null  int64 \n",
      "dtypes: int64(2), object(8)\n",
      "memory usage: 381.5+ MB\n",
      "None\n"
     ]
    },
    {
     "name": "stderr",
     "output_type": "stream",
     "text": [
      "C:\\Users\\michal.zycki\\AppData\\Local\\Temp\\ipykernel_27268\\1365869062.py:2: FutureWarning: null_counts is deprecated. Use show_counts instead\n",
      "  print(df2.info(null_counts=True))\n"
     ]
    },
    {
     "name": "stdout",
     "output_type": "stream",
     "text": [
      "<class 'pandas.core.frame.DataFrame'>\n",
      "RangeIndex: 5000000 entries, 0 to 4999999\n",
      "Data columns (total 9 columns):\n",
      " #   Column                    Non-Null Count    Dtype \n",
      "---  ------                    --------------    ----- \n",
      " 0   account_name              5000000 non-null  string\n",
      " 1   account_surname           5000000 non-null  string\n",
      " 2   Invoice_Id                5000000 non-null  string\n",
      " 3   discount                  5000000 non-null  string\n",
      " 4   ordered                   5000000 non-null  Int32 \n",
      " 5   quantity                  5000000 non-null  Int32 \n",
      " 6   region                    5000000 non-null  string\n",
      " 7   additional_delivery_cost  5000000 non-null  string\n",
      " 8   wrh_city                  5000000 non-null  string\n",
      "dtypes: Int32(2), string(7)\n",
      "memory usage: 314.7 MB\n",
      "None\n"
     ]
    },
    {
     "name": "stderr",
     "output_type": "stream",
     "text": [
      "C:\\Users\\michal.zycki\\AppData\\Local\\Temp\\ipykernel_27268\\1365869062.py:3: FutureWarning: null_counts is deprecated. Use show_counts instead\n",
      "  print(df3.info(null_counts=True))\n"
     ]
    },
    {
     "name": "stdout",
     "output_type": "stream",
     "text": [
      "<class 'pandas.core.frame.DataFrame'>\n",
      "RangeIndex: 5000000 entries, 0 to 4999999\n",
      "Data columns (total 8 columns):\n",
      " #   Column                    Non-Null Count    Dtype  \n",
      "---  ------                    --------------    -----  \n",
      " 0   Invoice_Id                5000000 non-null  object \n",
      " 1   discount                  3999612 non-null  float64\n",
      " 2   ordered                   5000000 non-null  int64  \n",
      " 3   quantity                  5000000 non-null  int64  \n",
      " 4   region                    0 non-null        float64\n",
      " 5   additional_delivery_cost  5000000 non-null  object \n",
      " 6   wrh_city                  5000000 non-null  object \n",
      " 7   price                     5000000 non-null  int64  \n",
      "dtypes: float64(2), int64(3), object(3)\n",
      "memory usage: 305.2+ MB\n",
      "None\n",
      "<class 'pandas.core.frame.DataFrame'>\n",
      "RangeIndex: 15 entries, 0 to 14\n",
      "Data columns (total 2 columns):\n",
      " #   Column  Non-Null Count  Dtype \n",
      "---  ------  --------------  ----- \n",
      " 0   City    15 non-null     object\n",
      " 1   Zone    15 non-null     object\n",
      "dtypes: object(2)\n",
      "memory usage: 372.0+ bytes\n",
      "None\n"
     ]
    },
    {
     "name": "stderr",
     "output_type": "stream",
     "text": [
      "C:\\Users\\michal.zycki\\AppData\\Local\\Temp\\ipykernel_27268\\1365869062.py:4: FutureWarning: null_counts is deprecated. Use show_counts instead\n",
      "  print(df4.info(null_counts=True))\n"
     ]
    }
   ],
   "source": [
    "print(df1.info(null_counts=True))\n",
    "print(df2.info(null_counts=True))\n",
    "print(df3.info(null_counts=True))\n",
    "print(df4.info(null_counts=True))"
   ]
  },
  {
   "cell_type": "code",
   "execution_count": 4,
   "id": "72c24cab",
   "metadata": {},
   "outputs": [
    {
     "data": {
      "text/html": [
       "<div>\n",
       "<style scoped>\n",
       "    .dataframe tbody tr th:only-of-type {\n",
       "        vertical-align: middle;\n",
       "    }\n",
       "\n",
       "    .dataframe tbody tr th {\n",
       "        vertical-align: top;\n",
       "    }\n",
       "\n",
       "    .dataframe thead th {\n",
       "        text-align: right;\n",
       "    }\n",
       "</style>\n",
       "<table border=\"1\" class=\"dataframe\">\n",
       "  <thead>\n",
       "    <tr style=\"text-align: right;\">\n",
       "      <th></th>\n",
       "      <th>Invoice_Id</th>\n",
       "      <th>account_name</th>\n",
       "      <th>account_surname</th>\n",
       "      <th>age</th>\n",
       "      <th>product</th>\n",
       "      <th>order_city</th>\n",
       "      <th>color</th>\n",
       "      <th>date</th>\n",
       "      <th>delivery_date</th>\n",
       "      <th>production_date</th>\n",
       "    </tr>\n",
       "  </thead>\n",
       "  <tbody>\n",
       "    <tr>\n",
       "      <th>0</th>\n",
       "      <td>Invoice: 1A</td>\n",
       "      <td>Patricia</td>\n",
       "      <td>Old_Clifford</td>\n",
       "      <td>28</td>\n",
       "      <td>NaN</td>\n",
       "      <td>Stockholm</td>\n",
       "      <td>black</td>\n",
       "      <td>2014-09-10</td>\n",
       "      <td>2014-09-25</td>\n",
       "      <td>20140908</td>\n",
       "    </tr>\n",
       "    <tr>\n",
       "      <th>1</th>\n",
       "      <td>Invoice: 2A</td>\n",
       "      <td>John</td>\n",
       "      <td>Luciano</td>\n",
       "      <td>31</td>\n",
       "      <td>Prod C</td>\n",
       "      <td>Palermo</td>\n",
       "      <td>orange</td>\n",
       "      <td>2010-11-29</td>\n",
       "      <td>2010-11-30</td>\n",
       "      <td>20101125</td>\n",
       "    </tr>\n",
       "    <tr>\n",
       "      <th>2</th>\n",
       "      <td>Invoice: 3A</td>\n",
       "      <td>Elizabeth</td>\n",
       "      <td>Clifford</td>\n",
       "      <td>32</td>\n",
       "      <td>NaN</td>\n",
       "      <td>Nairobi</td>\n",
       "      <td>indigo</td>\n",
       "      <td>2010-05-30</td>\n",
       "      <td>2010-06-09</td>\n",
       "      <td>20100529</td>\n",
       "    </tr>\n",
       "  </tbody>\n",
       "</table>\n",
       "</div>"
      ],
      "text/plain": [
       "    Invoice_Id account_name account_surname  age product order_city   color  \\\n",
       "0  Invoice: 1A     Patricia    Old_Clifford   28     NaN  Stockholm   black   \n",
       "1  Invoice: 2A         John         Luciano   31  Prod C    Palermo  orange   \n",
       "2  Invoice: 3A    Elizabeth        Clifford   32     NaN    Nairobi  indigo   \n",
       "\n",
       "         date delivery_date  production_date  \n",
       "0  2014-09-10    2014-09-25         20140908  \n",
       "1  2010-11-29    2010-11-30         20101125  \n",
       "2  2010-05-30    2010-06-09         20100529  "
      ]
     },
     "execution_count": 4,
     "metadata": {},
     "output_type": "execute_result"
    }
   ],
   "source": [
    "df1.head(3)"
   ]
  },
  {
   "cell_type": "code",
   "execution_count": 5,
   "id": "a4f8a0aa",
   "metadata": {},
   "outputs": [
    {
     "data": {
      "text/html": [
       "<div>\n",
       "<style scoped>\n",
       "    .dataframe tbody tr th:only-of-type {\n",
       "        vertical-align: middle;\n",
       "    }\n",
       "\n",
       "    .dataframe tbody tr th {\n",
       "        vertical-align: top;\n",
       "    }\n",
       "\n",
       "    .dataframe thead th {\n",
       "        text-align: right;\n",
       "    }\n",
       "</style>\n",
       "<table border=\"1\" class=\"dataframe\">\n",
       "  <thead>\n",
       "    <tr style=\"text-align: right;\">\n",
       "      <th></th>\n",
       "      <th>account_name</th>\n",
       "      <th>account_surname</th>\n",
       "      <th>Invoice_Id</th>\n",
       "      <th>discount</th>\n",
       "      <th>ordered</th>\n",
       "      <th>quantity</th>\n",
       "      <th>region</th>\n",
       "      <th>additional_delivery_cost</th>\n",
       "      <th>wrh_city</th>\n",
       "    </tr>\n",
       "  </thead>\n",
       "  <tbody>\n",
       "    <tr>\n",
       "      <th>4999997</th>\n",
       "      <td>MarY</td>\n",
       "      <td>Luciano</td>\n",
       "      <td>Invoice: 4999998A</td>\n",
       "      <td>0.1</td>\n",
       "      <td>30</td>\n",
       "      <td>11</td>\n",
       "      <td></td>\n",
       "      <td>TF</td>\n",
       "      <td>Wroclaw_Tokyo</td>\n",
       "    </tr>\n",
       "    <tr>\n",
       "      <th>4999998</th>\n",
       "      <td>RobeRT</td>\n",
       "      <td></td>\n",
       "      <td>Invoice: 4999999A</td>\n",
       "      <td></td>\n",
       "      <td>67</td>\n",
       "      <td>51</td>\n",
       "      <td></td>\n",
       "      <td>T</td>\n",
       "      <td>Krakow_Moscow</td>\n",
       "    </tr>\n",
       "    <tr>\n",
       "      <th>4999999</th>\n",
       "      <td>Jennifer</td>\n",
       "      <td>Hawkins</td>\n",
       "      <td>Invoice: 5000000A</td>\n",
       "      <td>0.3</td>\n",
       "      <td>95</td>\n",
       "      <td>82</td>\n",
       "      <td></td>\n",
       "      <td>TF</td>\n",
       "      <td>Poznan_Nairobi</td>\n",
       "    </tr>\n",
       "  </tbody>\n",
       "</table>\n",
       "</div>"
      ],
      "text/plain": [
       "        account_name account_surname         Invoice_Id discount  ordered  \\\n",
       "4999997         MarY         Luciano  Invoice: 4999998A      0.1       30   \n",
       "4999998       RobeRT                  Invoice: 4999999A                67   \n",
       "4999999     Jennifer         Hawkins  Invoice: 5000000A      0.3       95   \n",
       "\n",
       "         quantity region additional_delivery_cost        wrh_city  \n",
       "4999997        11                              TF   Wroclaw_Tokyo  \n",
       "4999998        51                               T   Krakow_Moscow  \n",
       "4999999        82                              TF  Poznan_Nairobi  "
      ]
     },
     "execution_count": 5,
     "metadata": {},
     "output_type": "execute_result"
    }
   ],
   "source": [
    "df2.tail(3)"
   ]
  },
  {
   "cell_type": "code",
   "execution_count": 6,
   "id": "abf0cf45",
   "metadata": {},
   "outputs": [
    {
     "data": {
      "text/html": [
       "<div>\n",
       "<style scoped>\n",
       "    .dataframe tbody tr th:only-of-type {\n",
       "        vertical-align: middle;\n",
       "    }\n",
       "\n",
       "    .dataframe tbody tr th {\n",
       "        vertical-align: top;\n",
       "    }\n",
       "\n",
       "    .dataframe thead th {\n",
       "        text-align: right;\n",
       "    }\n",
       "</style>\n",
       "<table border=\"1\" class=\"dataframe\">\n",
       "  <thead>\n",
       "    <tr style=\"text-align: right;\">\n",
       "      <th></th>\n",
       "      <th>account_name</th>\n",
       "      <th>account_surname</th>\n",
       "      <th>Invoice_Id</th>\n",
       "      <th>discount</th>\n",
       "      <th>ordered</th>\n",
       "      <th>quantity</th>\n",
       "      <th>region</th>\n",
       "      <th>additional_delivery_cost</th>\n",
       "      <th>wrh_city</th>\n",
       "    </tr>\n",
       "  </thead>\n",
       "  <tbody>\n",
       "    <tr>\n",
       "      <th>0</th>\n",
       "      <td>Patricia</td>\n",
       "      <td>Old_Clifford</td>\n",
       "      <td>Invoice: 1A</td>\n",
       "      <td>0.2</td>\n",
       "      <td>19</td>\n",
       "      <td>16</td>\n",
       "      <td></td>\n",
       "      <td>T</td>\n",
       "      <td>Poznan_Stockholm</td>\n",
       "    </tr>\n",
       "    <tr>\n",
       "      <th>1</th>\n",
       "      <td>John</td>\n",
       "      <td>Luciano</td>\n",
       "      <td>Invoice: 2A</td>\n",
       "      <td>0.1</td>\n",
       "      <td>56</td>\n",
       "      <td>37</td>\n",
       "      <td></td>\n",
       "      <td>T</td>\n",
       "      <td>Krakow_Palermo</td>\n",
       "    </tr>\n",
       "    <tr>\n",
       "      <th>2</th>\n",
       "      <td>Elizabeth</td>\n",
       "      <td>Clifford</td>\n",
       "      <td>Invoice: 3A</td>\n",
       "      <td>0.4</td>\n",
       "      <td>37</td>\n",
       "      <td>23</td>\n",
       "      <td></td>\n",
       "      <td>TF</td>\n",
       "      <td>Poznan_Nairobi</td>\n",
       "    </tr>\n",
       "  </tbody>\n",
       "</table>\n",
       "</div>"
      ],
      "text/plain": [
       "  account_name account_surname   Invoice_Id discount  ordered  quantity  \\\n",
       "0     Patricia    Old_Clifford  Invoice: 1A      0.2       19        16   \n",
       "1         John         Luciano  Invoice: 2A      0.1       56        37   \n",
       "2    Elizabeth        Clifford  Invoice: 3A      0.4       37        23   \n",
       "\n",
       "  region additional_delivery_cost          wrh_city  \n",
       "0                               T  Poznan_Stockholm  \n",
       "1                               T    Krakow_Palermo  \n",
       "2                              TF    Poznan_Nairobi  "
      ]
     },
     "execution_count": 6,
     "metadata": {},
     "output_type": "execute_result"
    }
   ],
   "source": [
    "df2.head(3)"
   ]
  },
  {
   "cell_type": "code",
   "execution_count": 7,
   "id": "12cab033",
   "metadata": {},
   "outputs": [
    {
     "data": {
      "text/html": [
       "<div>\n",
       "<style scoped>\n",
       "    .dataframe tbody tr th:only-of-type {\n",
       "        vertical-align: middle;\n",
       "    }\n",
       "\n",
       "    .dataframe tbody tr th {\n",
       "        vertical-align: top;\n",
       "    }\n",
       "\n",
       "    .dataframe thead th {\n",
       "        text-align: right;\n",
       "    }\n",
       "</style>\n",
       "<table border=\"1\" class=\"dataframe\">\n",
       "  <thead>\n",
       "    <tr style=\"text-align: right;\">\n",
       "      <th></th>\n",
       "      <th>account_name</th>\n",
       "      <th>account_surname</th>\n",
       "      <th>Invoice_Id</th>\n",
       "      <th>discount</th>\n",
       "      <th>ordered</th>\n",
       "      <th>quantity</th>\n",
       "      <th>region</th>\n",
       "      <th>additional_delivery_cost</th>\n",
       "      <th>wrh_city</th>\n",
       "    </tr>\n",
       "  </thead>\n",
       "  <tbody>\n",
       "    <tr>\n",
       "      <th>4999997</th>\n",
       "      <td>MarY</td>\n",
       "      <td>Luciano</td>\n",
       "      <td>Invoice: 4999998A</td>\n",
       "      <td>0.1</td>\n",
       "      <td>30</td>\n",
       "      <td>11</td>\n",
       "      <td></td>\n",
       "      <td>TF</td>\n",
       "      <td>Wroclaw_Tokyo</td>\n",
       "    </tr>\n",
       "    <tr>\n",
       "      <th>4999998</th>\n",
       "      <td>RobeRT</td>\n",
       "      <td></td>\n",
       "      <td>Invoice: 4999999A</td>\n",
       "      <td></td>\n",
       "      <td>67</td>\n",
       "      <td>51</td>\n",
       "      <td></td>\n",
       "      <td>T</td>\n",
       "      <td>Krakow_Moscow</td>\n",
       "    </tr>\n",
       "    <tr>\n",
       "      <th>4999999</th>\n",
       "      <td>Jennifer</td>\n",
       "      <td>Hawkins</td>\n",
       "      <td>Invoice: 5000000A</td>\n",
       "      <td>0.3</td>\n",
       "      <td>95</td>\n",
       "      <td>82</td>\n",
       "      <td></td>\n",
       "      <td>TF</td>\n",
       "      <td>Poznan_Nairobi</td>\n",
       "    </tr>\n",
       "  </tbody>\n",
       "</table>\n",
       "</div>"
      ],
      "text/plain": [
       "        account_name account_surname         Invoice_Id discount  ordered  \\\n",
       "4999997         MarY         Luciano  Invoice: 4999998A      0.1       30   \n",
       "4999998       RobeRT                  Invoice: 4999999A                67   \n",
       "4999999     Jennifer         Hawkins  Invoice: 5000000A      0.3       95   \n",
       "\n",
       "         quantity region additional_delivery_cost        wrh_city  \n",
       "4999997        11                              TF   Wroclaw_Tokyo  \n",
       "4999998        51                               T   Krakow_Moscow  \n",
       "4999999        82                              TF  Poznan_Nairobi  "
      ]
     },
     "execution_count": 7,
     "metadata": {},
     "output_type": "execute_result"
    }
   ],
   "source": [
    "df2.tail(3)"
   ]
  },
  {
   "cell_type": "code",
   "execution_count": 8,
   "id": "3357049c",
   "metadata": {},
   "outputs": [
    {
     "data": {
      "text/html": [
       "<div>\n",
       "<style scoped>\n",
       "    .dataframe tbody tr th:only-of-type {\n",
       "        vertical-align: middle;\n",
       "    }\n",
       "\n",
       "    .dataframe tbody tr th {\n",
       "        vertical-align: top;\n",
       "    }\n",
       "\n",
       "    .dataframe thead th {\n",
       "        text-align: right;\n",
       "    }\n",
       "</style>\n",
       "<table border=\"1\" class=\"dataframe\">\n",
       "  <thead>\n",
       "    <tr style=\"text-align: right;\">\n",
       "      <th></th>\n",
       "      <th>Invoice_Id</th>\n",
       "      <th>discount</th>\n",
       "      <th>ordered</th>\n",
       "      <th>quantity</th>\n",
       "      <th>region</th>\n",
       "      <th>additional_delivery_cost</th>\n",
       "      <th>wrh_city</th>\n",
       "      <th>price</th>\n",
       "    </tr>\n",
       "  </thead>\n",
       "  <tbody>\n",
       "    <tr>\n",
       "      <th>0</th>\n",
       "      <td>Invoice: 1A</td>\n",
       "      <td>0.2</td>\n",
       "      <td>19</td>\n",
       "      <td>16</td>\n",
       "      <td>NaN</td>\n",
       "      <td>T</td>\n",
       "      <td>Poznan_Stockholm</td>\n",
       "      <td>99</td>\n",
       "    </tr>\n",
       "    <tr>\n",
       "      <th>1</th>\n",
       "      <td>Invoice: 2A</td>\n",
       "      <td>0.1</td>\n",
       "      <td>56</td>\n",
       "      <td>37</td>\n",
       "      <td>NaN</td>\n",
       "      <td>T</td>\n",
       "      <td>Krakow_Palermo</td>\n",
       "      <td>7</td>\n",
       "    </tr>\n",
       "    <tr>\n",
       "      <th>2</th>\n",
       "      <td>Invoice: 3A</td>\n",
       "      <td>0.4</td>\n",
       "      <td>37</td>\n",
       "      <td>23</td>\n",
       "      <td>NaN</td>\n",
       "      <td>TF</td>\n",
       "      <td>Poznan_Nairobi</td>\n",
       "      <td>99</td>\n",
       "    </tr>\n",
       "  </tbody>\n",
       "</table>\n",
       "</div>"
      ],
      "text/plain": [
       "    Invoice_Id  discount  ordered  quantity  region additional_delivery_cost  \\\n",
       "0  Invoice: 1A       0.2       19        16     NaN                        T   \n",
       "1  Invoice: 2A       0.1       56        37     NaN                        T   \n",
       "2  Invoice: 3A       0.4       37        23     NaN                       TF   \n",
       "\n",
       "           wrh_city  price  \n",
       "0  Poznan_Stockholm     99  \n",
       "1    Krakow_Palermo      7  \n",
       "2    Poznan_Nairobi     99  "
      ]
     },
     "execution_count": 8,
     "metadata": {},
     "output_type": "execute_result"
    }
   ],
   "source": [
    "df3.head(3)"
   ]
  },
  {
   "cell_type": "code",
   "execution_count": 9,
   "id": "82dd4e05",
   "metadata": {},
   "outputs": [
    {
     "data": {
      "text/html": [
       "<div>\n",
       "<style scoped>\n",
       "    .dataframe tbody tr th:only-of-type {\n",
       "        vertical-align: middle;\n",
       "    }\n",
       "\n",
       "    .dataframe tbody tr th {\n",
       "        vertical-align: top;\n",
       "    }\n",
       "\n",
       "    .dataframe thead th {\n",
       "        text-align: right;\n",
       "    }\n",
       "</style>\n",
       "<table border=\"1\" class=\"dataframe\">\n",
       "  <thead>\n",
       "    <tr style=\"text-align: right;\">\n",
       "      <th></th>\n",
       "      <th>Invoice_Id</th>\n",
       "      <th>discount</th>\n",
       "      <th>ordered</th>\n",
       "      <th>quantity</th>\n",
       "      <th>region</th>\n",
       "      <th>additional_delivery_cost</th>\n",
       "      <th>wrh_city</th>\n",
       "      <th>price</th>\n",
       "    </tr>\n",
       "  </thead>\n",
       "  <tbody>\n",
       "    <tr>\n",
       "      <th>4999997</th>\n",
       "      <td>Invoice: 4999998A</td>\n",
       "      <td>0.1</td>\n",
       "      <td>30</td>\n",
       "      <td>11</td>\n",
       "      <td>NaN</td>\n",
       "      <td>TF</td>\n",
       "      <td>Wroclaw_Tokyo</td>\n",
       "      <td>9</td>\n",
       "    </tr>\n",
       "    <tr>\n",
       "      <th>4999998</th>\n",
       "      <td>Invoice: 4999999A</td>\n",
       "      <td>NaN</td>\n",
       "      <td>67</td>\n",
       "      <td>51</td>\n",
       "      <td>NaN</td>\n",
       "      <td>T</td>\n",
       "      <td>Krakow_Moscow</td>\n",
       "      <td>9</td>\n",
       "    </tr>\n",
       "    <tr>\n",
       "      <th>4999999</th>\n",
       "      <td>Invoice: 5000000A</td>\n",
       "      <td>0.3</td>\n",
       "      <td>95</td>\n",
       "      <td>82</td>\n",
       "      <td>NaN</td>\n",
       "      <td>TF</td>\n",
       "      <td>Poznan_Nairobi</td>\n",
       "      <td>5</td>\n",
       "    </tr>\n",
       "  </tbody>\n",
       "</table>\n",
       "</div>"
      ],
      "text/plain": [
       "                Invoice_Id  discount  ordered  quantity  region  \\\n",
       "4999997  Invoice: 4999998A       0.1       30        11     NaN   \n",
       "4999998  Invoice: 4999999A       NaN       67        51     NaN   \n",
       "4999999  Invoice: 5000000A       0.3       95        82     NaN   \n",
       "\n",
       "        additional_delivery_cost        wrh_city  price  \n",
       "4999997                       TF   Wroclaw_Tokyo      9  \n",
       "4999998                        T   Krakow_Moscow      9  \n",
       "4999999                       TF  Poznan_Nairobi      5  "
      ]
     },
     "execution_count": 9,
     "metadata": {},
     "output_type": "execute_result"
    }
   ],
   "source": [
    "df3.tail(3)"
   ]
  },
  {
   "cell_type": "code",
   "execution_count": 10,
   "id": "0db18a34",
   "metadata": {},
   "outputs": [
    {
     "data": {
      "text/html": [
       "<div>\n",
       "<style scoped>\n",
       "    .dataframe tbody tr th:only-of-type {\n",
       "        vertical-align: middle;\n",
       "    }\n",
       "\n",
       "    .dataframe tbody tr th {\n",
       "        vertical-align: top;\n",
       "    }\n",
       "\n",
       "    .dataframe thead th {\n",
       "        text-align: right;\n",
       "    }\n",
       "</style>\n",
       "<table border=\"1\" class=\"dataframe\">\n",
       "  <thead>\n",
       "    <tr style=\"text-align: right;\">\n",
       "      <th></th>\n",
       "      <th>City</th>\n",
       "      <th>Zone</th>\n",
       "    </tr>\n",
       "  </thead>\n",
       "  <tbody>\n",
       "    <tr>\n",
       "      <th>0</th>\n",
       "      <td>Stockholm</td>\n",
       "      <td>Europe</td>\n",
       "    </tr>\n",
       "    <tr>\n",
       "      <th>1</th>\n",
       "      <td>Denver</td>\n",
       "      <td>America</td>\n",
       "    </tr>\n",
       "    <tr>\n",
       "      <th>2</th>\n",
       "      <td>Moscow</td>\n",
       "      <td>Asia</td>\n",
       "    </tr>\n",
       "  </tbody>\n",
       "</table>\n",
       "</div>"
      ],
      "text/plain": [
       "        City     Zone\n",
       "0  Stockholm   Europe\n",
       "1     Denver  America\n",
       "2     Moscow     Asia"
      ]
     },
     "execution_count": 10,
     "metadata": {},
     "output_type": "execute_result"
    }
   ],
   "source": [
    "df4.head(3)"
   ]
  },
  {
   "cell_type": "code",
   "execution_count": 11,
   "id": "99aaf6ee",
   "metadata": {},
   "outputs": [
    {
     "data": {
      "text/html": [
       "<div>\n",
       "<style scoped>\n",
       "    .dataframe tbody tr th:only-of-type {\n",
       "        vertical-align: middle;\n",
       "    }\n",
       "\n",
       "    .dataframe tbody tr th {\n",
       "        vertical-align: top;\n",
       "    }\n",
       "\n",
       "    .dataframe thead th {\n",
       "        text-align: right;\n",
       "    }\n",
       "</style>\n",
       "<table border=\"1\" class=\"dataframe\">\n",
       "  <thead>\n",
       "    <tr style=\"text-align: right;\">\n",
       "      <th></th>\n",
       "      <th>City</th>\n",
       "      <th>Zone</th>\n",
       "    </tr>\n",
       "  </thead>\n",
       "  <tbody>\n",
       "    <tr>\n",
       "      <th>11</th>\n",
       "      <td>Bogotá</td>\n",
       "      <td>America</td>\n",
       "    </tr>\n",
       "    <tr>\n",
       "      <th>12</th>\n",
       "      <td>Manila</td>\n",
       "      <td>Asia</td>\n",
       "    </tr>\n",
       "    <tr>\n",
       "      <th>13</th>\n",
       "      <td>Madrid</td>\n",
       "      <td>Europe</td>\n",
       "    </tr>\n",
       "    <tr>\n",
       "      <th>14</th>\n",
       "      <td>Milwaukee</td>\n",
       "      <td>America</td>\n",
       "    </tr>\n",
       "  </tbody>\n",
       "</table>\n",
       "</div>"
      ],
      "text/plain": [
       "         City     Zone\n",
       "11     Bogotá  America\n",
       "12     Manila     Asia\n",
       "13     Madrid   Europe\n",
       "14  Milwaukee  America"
      ]
     },
     "execution_count": 11,
     "metadata": {},
     "output_type": "execute_result"
    }
   ],
   "source": [
    "df4.tail(4)"
   ]
  },
  {
   "cell_type": "code",
   "execution_count": 12,
   "id": "aa1c30f9",
   "metadata": {},
   "outputs": [],
   "source": [
    "# W df2 replikuja sie kolumny \"account_name\" i \"account_surname\"\n",
    "# W df3 replikuja sie kolumny \"discount\", \"ordered\",\"quantity\",\"region\",\"additional_delivery_cost\" i \"wrh_city\"\n",
    "# Kluczami polaczenia beda odpowiednio \"Invoice_Id\" oraz \"order_city\" i \"City\" \n",
    "# Kolumny z pustymi wartosciami nad uzupelnieniem trzeba bedzie sie zastanowic to \"account_name\", \"account_surname\", \"product\", \"order_city\",\"discount\",\"region\""
   ]
  },
  {
   "cell_type": "code",
   "execution_count": 13,
   "id": "fa920a43",
   "metadata": {},
   "outputs": [
    {
     "data": {
      "text/plain": [
       "0.1    1000789\n",
       "0.2    1000448\n",
       "       1000388\n",
       "0.4    1000050\n",
       "0.3     998325\n",
       "Name: discount, dtype: Int64"
      ]
     },
     "execution_count": 13,
     "metadata": {},
     "output_type": "execute_result"
    }
   ],
   "source": [
    "df2[\"discount\"].value_counts()"
   ]
  },
  {
   "cell_type": "markdown",
   "id": "311eb9e0",
   "metadata": {},
   "source": [
    "**4. Nadpisz datasety**\n",
    "- Nadpisz wszystkie datasety tak aby posiadaly wylacznie unikalne kolumny (brak duplikatow - nalezy wybrac kolumny albo zastosowac drop). \n",
    "- Pamietaj aby nie usunac kolumn ktore sa zidentyfikowane jako klucze. \n",
    "- Nadaj prefix \"u_\" dla kazdego datasetu. Nawet jesli dataset nie jest redukowany powinien otrzymac prefix."
   ]
  },
  {
   "cell_type": "code",
   "execution_count": 14,
   "id": "be90a359",
   "metadata": {},
   "outputs": [],
   "source": [
    "u_df1 = df1\n",
    "u_df2 = df2.drop(columns=[\"account_name\",\"account_surname\"])\n",
    "u_df3 = df3.drop(columns=[\"discount\", \"ordered\",\"quantity\",\"region\",\"additional_delivery_cost\",\"wrh_city\"])\n",
    "u_df4 = df4"
   ]
  },
  {
   "cell_type": "markdown",
   "id": "477abf4c",
   "metadata": {},
   "source": [
    "**5. Polacz datasety**\n",
    "- Polacz ze soba datasety. \n",
    "- Dolaczaj do siebie datasety df1 do df2 etc. Kazde kolejne polaczenie nadpisuje pod nazwa \"u_df1_merge\". \n",
    "- Po skonczonych polaczeniach usun niepotrzebne kolumny \"City\" i zapisz dataset jako \"merged_df\""
   ]
  },
  {
   "cell_type": "code",
   "execution_count": 15,
   "id": "4562c49f",
   "metadata": {},
   "outputs": [],
   "source": [
    "u_df1_merge = u_df1.merge(right=u_df2,how=\"left\",left_on=\"Invoice_Id\",right_on=\"Invoice_Id\")"
   ]
  },
  {
   "cell_type": "code",
   "execution_count": 16,
   "id": "a82282d1",
   "metadata": {},
   "outputs": [],
   "source": [
    "u_df1_merge= u_df1_merge.merge(right=u_df3,how=\"left\",left_on=\"Invoice_Id\",right_on=\"Invoice_Id\")"
   ]
  },
  {
   "cell_type": "code",
   "execution_count": 17,
   "id": "3682df85",
   "metadata": {},
   "outputs": [],
   "source": [
    "u_df1_merge= u_df1_merge.merge(right=u_df4[[\"City\",\"Zone\"]],how=\"left\",left_on=\"order_city\",right_on=\"City\")"
   ]
  },
  {
   "cell_type": "code",
   "execution_count": 18,
   "id": "7c7d0684",
   "metadata": {},
   "outputs": [],
   "source": [
    "merged_df=u_df1_merge.drop(columns=\"City\")"
   ]
  },
  {
   "cell_type": "markdown",
   "id": "cd242d54",
   "metadata": {},
   "source": [
    "**6. Zapisz dane do pliku, wykonaj ponowna analize danych i pogleb ja**\n",
    "- Zapisz dane do pliku .csv pod nazwa \"merged_df\". \n",
    "- Zrestartuj kernel aby zwolnic pamiec ram. \n",
    "- Odczytaj zapisany wczesniej plik i dokonaj jego analizy, sprawdz czy wczesniej ustalone kolumny z pustymi wartosciami sa takie same czy cos sie zmienilo\n",
    "- Wstepna wizualizacja danych przy tak duzej ilosci danych moze byc nieskuteczna/nieczytelna. Dlatego poleca sie zweryfikowac unikalne wartosci dla kazdej z kolumn. W przypadku ograniczenia widocznosci poleca sie przekonwertowac dane na liste.\n",
    "- Mozna pominac klucz po ktorym laczono dane poniewaz jest unikalny "
   ]
  },
  {
   "cell_type": "code",
   "execution_count": 19,
   "id": "1849227e",
   "metadata": {},
   "outputs": [],
   "source": [
    "merged_df.to_csv(r\"C:\\Users\\michal.zycki\\OneDrive - summ-it s.a\\Desktop\\BigData\\Zajecia2\\merged_df.csv\",index=False)"
   ]
  },
  {
   "cell_type": "code",
   "execution_count": 20,
   "id": "718a9493",
   "metadata": {},
   "outputs": [
    {
     "name": "stderr",
     "output_type": "stream",
     "text": [
      "C:\\Users\\michal.zycki\\AppData\\Local\\Temp\\ipykernel_27268\\3614383788.py:2: FutureWarning: null_counts is deprecated. Use show_counts instead\n",
      "  merged_df.info(null_counts=True)\n"
     ]
    },
    {
     "name": "stdout",
     "output_type": "stream",
     "text": [
      "<class 'pandas.core.frame.DataFrame'>\n",
      "RangeIndex: 5000000 entries, 0 to 4999999\n",
      "Data columns (total 18 columns):\n",
      " #   Column                    Non-Null Count    Dtype  \n",
      "---  ------                    --------------    -----  \n",
      " 0   Invoice_Id                5000000 non-null  object \n",
      " 1   account_name              4772470 non-null  object \n",
      " 2   account_surname           4231219 non-null  object \n",
      " 3   age                       5000000 non-null  int64  \n",
      " 4   product                   4443677 non-null  object \n",
      " 5   order_city                4688008 non-null  object \n",
      " 6   color                     5000000 non-null  object \n",
      " 7   date                      5000000 non-null  object \n",
      " 8   delivery_date             5000000 non-null  object \n",
      " 9   production_date           5000000 non-null  int64  \n",
      " 10  discount                  3999612 non-null  float64\n",
      " 11  ordered                   5000000 non-null  int64  \n",
      " 12  quantity                  5000000 non-null  int64  \n",
      " 13  region                    0 non-null        float64\n",
      " 14  additional_delivery_cost  5000000 non-null  object \n",
      " 15  wrh_city                  5000000 non-null  object \n",
      " 16  price                     5000000 non-null  int64  \n",
      " 17  Zone                      4688008 non-null  object \n",
      "dtypes: float64(2), int64(5), object(11)\n",
      "memory usage: 686.6+ MB\n"
     ]
    }
   ],
   "source": [
    "merged_df = pd.read_csv(r\"C:\\Users\\michal.zycki\\OneDrive - summ-it s.a\\Desktop\\BigData\\Zajecia2\\merged_df.csv\")\n",
    "merged_df.info(null_counts=True)"
   ]
  },
  {
   "cell_type": "code",
   "execution_count": 21,
   "id": "0a931647",
   "metadata": {},
   "outputs": [
    {
     "data": {
      "text/plain": [
       "array(['Patricia', 'John', 'Elizabeth', 'Robert', 'patricia', 'Ahmed',\n",
       "       'Salomon', 'Jennifer', 'James', nan, 'Richard', 'RobeRT',\n",
       "       'William', 'Juan Luis', 'JohN', 'Mary', 'Michael', 'MarY', 'Linda',\n",
       "       'Barbara', 'james', 'Susan'], dtype=object)"
      ]
     },
     "execution_count": 21,
     "metadata": {},
     "output_type": "execute_result"
    }
   ],
   "source": [
    "merged_df[\"account_name\"].unique()"
   ]
  },
  {
   "cell_type": "code",
   "execution_count": 22,
   "id": "0f86231a",
   "metadata": {},
   "outputs": [
    {
     "data": {
      "text/plain": [
       "array(['Old_Clifford', 'Luciano', 'Clifford', 'Vallllentine', 'Peroni',\n",
       "       'Old_Robust', 'Robust', 'Ellen', nan, 'Hawkins', 'Vallentine',\n",
       "       'Nici'], dtype=object)"
      ]
     },
     "execution_count": 22,
     "metadata": {},
     "output_type": "execute_result"
    }
   ],
   "source": [
    "merged_df[\"account_surname\"].unique()"
   ]
  },
  {
   "cell_type": "code",
   "execution_count": 23,
   "id": "45b18191",
   "metadata": {},
   "outputs": [
    {
     "data": {
      "text/plain": [
       "array([ 28,  31,  32,  25,  47,  63,  38,  42,  26,  43,  40, 310,  44,\n",
       "       520,  56,  39,  54,  62,  36,  46,  51,  55,  29, 340,  64,  49,\n",
       "        48,  33,  59,  57,  34,  27,  35,  37, 270,  52,  50,  61, 330,\n",
       "        45, 420, 470,  41, 450, 550,  60, 620,  30, 490,  53, 380, 630,\n",
       "       410, 530,  58, 560, 510, 440, 300, 290, 350, 390, 260, 460, 280,\n",
       "       370, 250, 570, 610, 500, 400, 590, 360, 480, 540, 320, 430, 580,\n",
       "       600, 640], dtype=int64)"
      ]
     },
     "execution_count": 23,
     "metadata": {},
     "output_type": "execute_result"
    }
   ],
   "source": [
    "merged_df[\"age\"].unique()"
   ]
  },
  {
   "cell_type": "code",
   "execution_count": 24,
   "id": "e1e2789e",
   "metadata": {},
   "outputs": [
    {
     "data": {
      "text/plain": [
       "array([nan, 'Prod C', 'Prod D', 'Prod A', 'Prod E', 'Prod G', 'Prod F',\n",
       "       'Prod B', 'Prod H'], dtype=object)"
      ]
     },
     "execution_count": 24,
     "metadata": {},
     "output_type": "execute_result"
    }
   ],
   "source": [
    "merged_df[\"product\"].unique()"
   ]
  },
  {
   "cell_type": "code",
   "execution_count": 25,
   "id": "b3124acf",
   "metadata": {},
   "outputs": [
    {
     "data": {
      "text/plain": [
       "array(['Stockholm', 'Palermo', 'Nairobi', nan, 'Marseille', 'Denver',\n",
       "       'Oslo', 'Madrid', 'Tokyo', 'Milwaukee', 'Berlin', 'Lisbon',\n",
       "       'Manila', 'Bogotá', 'Río de Janeiro', 'Moscow'], dtype=object)"
      ]
     },
     "execution_count": 25,
     "metadata": {},
     "output_type": "execute_result"
    }
   ],
   "source": [
    "merged_df[\"order_city\"].unique()"
   ]
  },
  {
   "cell_type": "code",
   "execution_count": 26,
   "id": "4701c175",
   "metadata": {},
   "outputs": [
    {
     "data": {
      "text/plain": [
       "array(['black', 'orange', 'indigo', 'green', 'pink', 'brown', 'white',\n",
       "       'purple', 'yellow', 'gold', 'blue', 'grey', 'beige', 'red',\n",
       "       'silver'], dtype=object)"
      ]
     },
     "execution_count": 26,
     "metadata": {},
     "output_type": "execute_result"
    }
   ],
   "source": [
    "merged_df[\"color\"].unique()"
   ]
  },
  {
   "cell_type": "code",
   "execution_count": 27,
   "id": "89749305",
   "metadata": {},
   "outputs": [
    {
     "name": "stdout",
     "output_type": "stream",
     "text": [
      "['2014-09-10', '2010-11-29', '2010-05-30', '2017-02-01', '2017-01-29', '2011-10-04', '2012-12-12', '2015-05-26', '2017-04-16', '2018-01-17', '2015-06-02', '2011-07-13', '2016-10-08', '2014-03-05', '2014-04-20', '2015-05-22', '2013-06-06', '2010-12-27', '2011-04-16', '2010-08-02', '2010-03-05', '2017-06-13', '2012-09-24', '2013-08-05', '2011-12-13', '2011-12-18', '2015-01-04', '2011-12-22', '2012-03-21', '2014-01-14', '2010-10-02', '2015-01-24', '2010-06-07', '2015-06-26', '2016-08-29', '2016-06-21', '2014-05-22', '2010-02-22', '2011-08-01', '2016-04-15', '2013-03-22', '2011-04-17', '2012-02-07', '2017-09-26', '2011-01-21', '2016-02-15', '2012-08-03', '2012-02-05', '2013-04-11', '2014-05-21', '2015-06-17', '2012-04-12', '2014-07-23', '2014-06-27', '2015-07-03', '2015-08-21', '2015-11-03', '2014-06-23', '2014-03-22', '2014-10-25', '2010-10-12', '2017-03-20', '2013-10-25', '2011-02-12', '2016-12-15', '2017-06-05', '2014-07-08', '2011-01-05', '2011-07-22', '2011-07-06', '2015-09-26', '2017-03-09', '2016-08-30', '2012-06-29', '2017-04-30', '2010-03-12', '2012-10-14', '2016-09-12', '2014-05-28', '2018-02-28', '2017-01-25', '2010-12-06', '2010-11-24', '2010-07-31', '2010-09-05', '2016-10-31', '2018-01-15', '2016-02-10', '2016-07-11', '2014-08-22', '2016-02-06', '2015-11-17', '2012-06-12', '2013-04-19', '2011-06-09', '2016-04-18', '2010-11-25', '2018-01-29', '2011-09-25', '2010-04-17', '2011-05-25', '2010-08-31', '2012-07-22', '2016-09-18', '2014-07-10', '2016-06-01', '2017-12-13', '2012-06-14', '2015-01-26', '2012-05-03', '2015-03-26', '2017-10-04', '2011-03-14', '2014-05-29', '2012-01-23', '2016-02-24', '2011-07-16', '2014-09-28', '2012-12-03', '2010-05-24', '2016-12-23', '2015-07-19', '2015-12-11', '2011-12-03', '2013-09-11', '2011-03-03', '2015-10-12', '2012-08-23', '2015-04-17', '2013-03-02', '2017-07-16', '2014-01-27', '2014-12-24', '2011-02-05', '2016-03-19', '2011-06-20', '2012-06-05', '2010-10-07', '2014-12-22', '2015-07-05', '2012-09-19', '2012-03-04', '2012-01-28', '2015-02-10', '2011-02-27', '2011-06-29', '2010-01-02', '2013-06-14', '2014-01-19', '2012-08-25', '2015-11-18', '2014-12-02', '2016-07-03', '2011-01-22', '2016-07-07', '2016-05-06', '2012-01-20', '2017-07-29', '2011-05-03', '2016-08-06', '2010-07-13', '2014-01-15', '2017-12-05', '2016-01-16', '2017-12-17', '2017-12-22', '2016-03-06', '2015-05-24', '2016-09-19', '2014-06-13', '2012-03-07', '2015-12-19', '2011-07-23', '2014-03-23', '2010-04-15', '2017-12-28', '2013-09-13', '2016-12-03', '2012-07-02', '2015-05-18', '2011-02-14', '2011-08-08', '2012-03-02', '2015-12-04', '2013-01-25', '2017-04-14', '2015-09-21', '2013-01-23', '2015-03-30', '2010-05-28', '2015-06-12', '2011-09-03', '2010-04-30', '2017-08-04', '2015-09-09', '2012-01-11', '2010-07-18', '2011-06-01', '2011-07-19', '2010-11-05', '2015-12-22', '2010-01-21', '2017-03-14', '2013-02-22', '2015-10-18', '2011-09-08', '2013-03-12', '2010-06-03', '2013-04-14', '2011-03-07', '2016-07-15', '2017-04-08', '2010-06-09', '2012-06-07', '2018-01-28', '2016-09-25', '2010-09-14', '2015-11-27', '2016-03-08', '2016-07-06', '2014-03-20', '2017-10-15', '2014-01-28', '2016-12-28', '2016-04-03', '2011-11-06', '2016-06-03', '2010-12-07', '2011-02-08', '2012-11-30', '2012-12-10', '2014-04-26', '2018-02-10', '2011-06-24', '2014-08-21', '2013-05-26', '2012-10-09', '2016-11-11', '2010-12-31', '2012-02-26', '2017-12-11', '2014-03-15', '2012-01-01', '2011-03-01', '2010-02-11', '2013-08-15', '2011-08-25', '2014-10-18', '2013-01-13', '2011-10-26', '2011-06-22', '2015-03-25', '2014-10-02', '2016-05-17', '2014-01-11', '2012-01-14', '2013-08-22', '2012-02-22', '2015-09-14', '2014-12-05', '2010-03-08', '2015-02-07', '2016-06-04', '2014-12-01', '2013-08-21', '2012-11-29', '2014-06-22', '2015-12-24', '2010-06-16', '2015-07-01', '2015-09-11', '2017-05-12', '2010-08-21', '2014-10-08', '2013-03-21', '2013-05-13', '2012-12-30', '2015-07-11', '2015-06-19', '2015-05-05', '2014-02-21', '2016-09-13', '2010-11-28', '2017-05-24', '2013-08-23', '2011-11-24', '2015-04-06', '2013-03-27', '2016-02-01', '2014-02-18', '2011-09-21', '2014-10-30', '2017-11-24', '2014-11-12', '2010-04-03', '2010-11-04', '2016-11-16', '2010-08-27', '2017-06-07', '2012-12-18', '2016-01-01', '2012-03-08', '2014-06-04', '2012-11-25', '2013-04-13', '2013-09-01', '2014-12-10', '2017-11-04', '2012-11-26', '2014-02-04', '2015-12-12', '2012-02-17', '2015-01-17', '2010-09-15', '2018-02-07', '2011-11-12', '2011-08-14', '2017-09-08', '2016-03-31', '2013-06-03', '2011-12-06', '2017-08-22', '2015-03-11', '2012-06-28', '2012-07-11', '2017-11-03', '2012-05-18', '2014-02-09', '2016-07-10', '2013-12-28', '2017-07-20', '2015-11-26', '2015-05-12', '2013-12-13', '2011-08-02', '2017-06-04', '2011-10-31', '2015-09-05', '2010-09-02', '2014-04-22', '2011-07-02', '2018-02-03', '2011-05-15', '2010-02-17', '2010-03-25', '2011-05-22', '2013-07-17', '2012-08-14', '2012-01-07', '2015-02-24', '2014-09-18', '2013-04-05', '2013-07-27', '2017-08-24', '2017-03-12', '2015-10-13', '2016-12-12', '2012-05-31', '2010-10-19', '2012-01-29', '2010-05-27', '2015-09-15', '2010-08-23', '2013-05-14', '2012-10-15', '2017-07-30', '2016-05-01', '2012-02-19', '2014-12-19', '2015-09-19', '2015-06-24', '2017-11-11', '2014-09-22', '2013-11-05', '2013-05-10', '2010-07-15', '2012-07-15', '2013-09-08', '2015-11-28', '2011-04-03', '2013-02-19', '2017-11-17', '2010-07-30', '2014-04-30', '2015-05-19', '2010-02-05', '2010-03-22', '2012-04-27', '2010-09-23', '2017-05-13', '2017-10-19', '2016-09-27', '2013-01-16', '2013-11-12', '2010-07-19', '2011-10-25', '2017-04-05', '2010-04-12', '2012-11-05', '2015-08-20', '2011-10-20', '2015-07-06', '2012-08-04', '2012-09-16', '2013-09-15', '2013-08-01', '2013-01-29', '2016-02-22', '2014-10-20', '2013-02-03', '2016-04-07', '2012-01-21', '2013-01-06', '2014-04-28', '2012-05-01', '2010-03-26', '2015-05-04', '2011-09-19', '2015-05-03', '2014-01-12', '2017-01-06', '2014-03-18', '2014-02-25', '2016-05-31', '2012-01-03', '2014-05-13', '2016-04-10', '2014-11-06', '2011-09-20', '2016-02-13', '2014-08-26', '2014-05-27', '2014-07-27', '2011-12-10', '2017-12-14', '2015-08-14', '2012-08-15', '2016-04-17', '2015-10-07', '2011-11-18', '2012-07-26', '2011-01-06', '2011-04-13', '2014-09-09', '2012-04-25', '2017-05-09', '2014-04-02', '2012-04-11', '2011-02-15', '2016-03-04', '2014-01-22', '2013-07-01', '2012-06-13', '2013-11-11', '2010-11-15', '2010-04-10', '2017-02-06', '2016-04-08', '2018-03-12', '2014-10-13', '2011-02-10', '2014-10-11', '2017-07-11', '2013-04-25', '2016-07-27', '2017-12-01', '2013-08-12', '2012-03-27', '2012-08-21', '2013-04-02', '2017-12-24', '2018-03-05', '2011-02-23', '2014-04-03', '2010-01-28', '2016-10-16', '2017-01-21', '2015-04-16', '2016-05-03', '2014-05-20', '2013-10-01', '2018-02-02', '2016-03-21', '2015-09-01', '2011-12-27', '2014-09-23', '2014-05-17', '2016-05-07', '2011-02-06', '2010-06-06', '2015-02-18', '2015-09-04', '2011-02-24', '2017-08-01', '2015-10-02', '2018-03-06', '2015-06-10', '2016-09-20', '2013-12-10', '2014-12-23', '2011-04-06', '2012-05-11', '2014-01-31', '2012-07-09', '2013-03-30', '2012-07-14', '2018-01-16', '2014-12-08', '2016-03-23', '2010-10-31', '2011-03-06', '2013-07-25', '2013-12-17', '2012-08-01', '2014-11-18', '2010-09-04', '2013-06-25', '2017-08-19', '2017-09-19', '2011-08-05', '2017-06-21', '2014-10-17', '2014-09-14', '2015-02-06', '2017-10-11', '2017-02-04', '2010-03-29', '2014-08-07', '2013-04-16', '2010-03-17', '2015-02-13', '2011-11-29', '2013-05-27', '2017-03-07', '2011-05-23', '2013-01-15', '2012-10-06', '2016-04-04', '2011-08-15', '2014-01-26', '2011-07-14', '2010-05-17', '2012-06-25', '2011-04-07', '2012-11-18', '2014-10-29', '2016-06-19', '2016-02-20', '2011-04-10', '2012-10-20', '2014-08-18', '2013-12-25', '2010-02-02', '2013-10-28', '2013-07-10', '2012-01-16', '2016-06-26', '2012-05-19', '2015-03-07', '2016-11-22', '2012-08-20', '2011-05-04', '2012-04-08', '2012-07-07', '2012-08-10', '2015-11-21', '2010-11-27', '2011-03-21', '2016-05-14', '2013-11-01', '2013-06-28', '2010-07-04', '2012-11-20', '2010-05-26', '2014-08-20', '2016-11-23', '2016-09-07', '2012-10-21', '2017-11-13', '2012-04-16', '2013-11-06', '2017-01-30', '2016-10-23', '2012-03-29', '2014-02-12', '2010-01-05', '2011-04-04', '2016-03-18', '2014-01-20', '2014-10-15', '2016-03-28', '2012-07-01', '2011-11-13', '2017-03-26', '2010-01-27', '2010-12-20', '2016-12-08', '2013-11-27', '2017-04-29', '2015-08-24', '2013-03-28', '2012-05-09', '2017-07-17', '2014-09-27', '2011-01-18', '2013-10-19', '2012-07-03', '2013-04-09', '2016-01-24', '2016-12-16', '2010-04-21', '2013-09-03', '2011-12-24', '2017-07-08', '2011-08-23', '2015-08-16', '2016-01-22', '2011-06-28', '2011-10-30', '2015-01-27', '2017-05-27', '2013-08-25', '2010-07-09', '2010-10-05', '2017-02-12', '2015-10-05', '2015-06-29', '2010-07-29', '2011-11-08', '2015-03-12', '2016-07-13', '2013-03-23', '2011-10-09', '2010-01-19', '2013-05-16', '2017-04-24', '2010-01-14', '2017-02-14', '2012-02-10', '2011-03-13', '2010-04-16', '2015-03-23', '2010-01-10', '2014-10-31', '2012-06-11', '2012-10-02', '2014-03-06', '2014-11-04', '2016-04-27', '2013-10-20', '2016-06-22', '2013-03-14', '2014-02-15', '2015-01-03', '2017-06-15', '2011-04-12', '2012-01-22', '2015-10-03', '2014-11-25', '2018-02-21', '2014-10-26', '2015-10-08', '2017-08-10', '2012-03-03', '2011-12-17', '2012-11-04', '2014-09-21', '2013-08-31', '2014-06-03', '2010-06-05', '2016-05-08', '2016-06-18', '2011-10-23', '2012-06-20', '2016-11-26', '2013-04-28', '2011-09-09', '2012-07-04', '2013-02-27', '2010-06-01', '2010-08-01', '2013-04-24', '2017-07-18', '2014-10-05', '2016-10-14', '2016-02-03', '2015-07-13', '2010-05-05', '2010-05-22', '2013-09-20', '2017-07-15', '2011-07-05', '2011-08-11', '2014-06-20', '2012-04-18', '2016-11-27', '2014-08-11', '2015-02-23', '2017-05-06', '2010-12-28', '2011-03-12', '2013-01-07', '2016-08-27', '2013-10-30', '2016-01-21', '2010-08-25', '2018-01-31', '2013-01-17', '2012-07-12', '2015-08-05', '2017-02-18', '2011-01-15', '2010-12-30', '2014-02-06', '2012-06-21', '2010-03-10', '2017-04-18', '2015-10-19', '2013-06-10', '2011-07-18', '2013-06-01', '2013-10-04', '2015-06-01', '2012-01-24', '2012-07-18', '2013-06-18', '2015-02-14', '2018-01-06', '2010-12-23', '2011-04-11', '2011-09-07', '2016-09-24', '2011-01-03', '2011-10-15', '2016-05-21', '2013-12-26', '2010-01-01', '2016-07-17', '2014-04-23', '2017-08-31', '2011-10-24', '2014-07-30', '2016-04-28', '2014-05-09', '2013-03-29', '2015-05-25', '2015-02-26', '2015-12-06', '2017-04-28', '2015-11-25', '2016-03-24', '2012-09-07', '2011-07-30', '2016-11-18', '2011-01-09', '2014-01-04', '2012-05-08', '2012-05-29', '2011-01-16', '2015-09-25', '2011-05-19', '2018-02-25', '2012-11-15', '2014-07-05', '2013-04-15', '2014-07-26', '2013-04-01', '2012-09-28', '2013-08-29', '2014-03-19', '2011-08-13', '2014-04-04', '2010-06-18', '2017-11-19', '2013-07-11', '2012-04-23', '2018-01-04', '2013-10-27', '2011-09-23', '2013-11-19', '2017-03-25', '2010-10-01', '2016-05-09', '2013-11-20', '2011-06-14', '2017-08-17', '2018-01-22', '2016-11-10', '2018-01-26', '2013-02-02', '2013-04-07', '2015-07-23', '2017-08-25', '2011-09-15', '2013-03-09', '2011-02-26', '2015-08-28', '2015-08-25', '2016-08-17', '2011-09-13', '2010-03-09', '2015-08-27', '2013-03-10', '2014-11-24', '2013-01-21', '2014-02-13', '2014-09-30', '2010-01-30', '2010-03-07', '2016-09-30', '2015-11-16', '2015-09-06', '2013-08-20', '2016-12-31', '2010-02-28', '2014-01-16', '2017-03-17', '2016-11-08', '2013-11-08', '2016-09-29', '2011-06-03', '2010-09-26', '2018-03-17', '2010-06-11', '2015-06-28', '2014-09-13', '2010-09-07', '2013-12-27', '2017-01-03', '2014-08-15', '2010-05-23', '2010-02-18', '2015-12-01', '2012-07-24', '2010-06-23', '2017-05-07', '2014-09-07', '2012-05-23', '2017-09-07', '2017-07-14', '2014-08-14', '2015-01-20', '2012-08-05', '2010-11-10', '2014-05-14', '2014-01-23', '2017-10-26', '2014-03-02', '2010-07-16', '2013-04-04', '2015-12-02', '2011-03-05', '2011-09-16', '2014-10-10', '2017-08-28', '2017-04-13', '2016-06-08', '2013-01-03', '2012-08-27', '2015-08-06', '2015-12-26', '2012-04-06', '2018-02-06', '2012-09-25', '2011-07-15', '2011-09-02', '2017-03-03', '2011-10-14', '2010-02-08', '2014-09-12', '2013-03-26', '2017-04-27', '2014-07-18', '2013-09-18', '2014-09-15', '2014-04-08', '2014-12-03', '2010-01-13', '2016-07-14', '2016-08-01', '2014-07-16', '2010-10-20', '2015-04-25', '2013-01-27', '2014-05-01', '2014-08-01', '2018-02-27', '2014-04-18', '2011-03-16', '2015-02-16', '2012-12-05', '2016-05-16', '2012-07-28', '2017-03-16', '2011-01-17', '2017-05-08', '2017-07-19', '2012-11-02', '2013-01-14', '2017-03-31', '2015-11-09', '2010-07-22', '2012-09-17', '2016-07-31', '2011-07-24', '2014-12-09', '2012-06-10', '2013-02-15', '2010-02-09', '2016-02-12', '2011-12-29', '2014-03-24', '2017-08-12', '2015-11-05', '2011-03-29', '2016-04-01', '2017-12-09', '2015-11-02', '2013-07-09', '2015-11-01', '2011-10-29', '2016-01-26', '2012-09-11', '2015-11-12', '2011-05-24', '2016-02-29', '2012-09-08', '2011-03-23', '2017-01-13', '2013-10-13', '2015-10-23', '2017-10-03', '2015-10-21', '2012-08-08', '2015-12-14', '2014-05-16', '2016-03-02', '2010-09-09', '2010-05-18', '2012-03-05', '2013-06-07', '2016-06-25', '2013-10-29', '2016-01-09', '2013-10-24', '2010-02-25', '2015-07-17', '2013-02-06', '2011-11-15', '2017-04-10', '2013-12-14', '2012-05-16', '2017-08-09', '2012-03-16', '2016-10-03', '2013-10-31', '2015-04-05', '2014-11-28', '2013-04-21', '2017-01-05', '2012-05-07', '2012-05-20', '2018-01-11', '2010-09-13', '2017-07-03', '2013-10-11', '2016-10-05', '2015-02-12', '2010-01-31', '2012-02-25', '2010-10-15', '2012-08-11', '2013-12-18', '2015-10-16', '2016-11-21', '2014-12-17', '2012-02-08', '2012-04-20', '2011-01-30', '2010-03-16', '2016-11-13', '2011-03-11', '2011-08-12', '2014-08-23', '2012-10-05', '2015-03-13', '2012-08-17', '2015-05-10', '2014-06-01', '2010-08-29', '2012-12-17', '2016-03-10', '2013-02-28', '2013-03-31', '2015-08-22', '2015-08-29', '2011-12-25', '2013-07-08', '2011-12-04', '2018-01-08', '2010-08-08', '2011-01-19', '2010-07-25', '2011-08-20', '2013-10-26', '2014-11-08', '2012-08-16', '2016-09-14', '2014-05-07', '2015-10-14', '2010-02-04', '2011-11-23', '2011-11-30', '2012-05-02', '2013-09-25', '2012-05-05', '2013-11-13', '2015-07-31', '2015-11-04', '2010-07-24', '2014-04-29', '2012-03-26', '2016-01-04', '2013-02-13', '2012-06-03', '2011-10-02', '2017-03-24', '2010-11-16', '2015-09-20', '2017-08-30', '2018-01-19', '2012-10-28', '2012-09-05', '2016-03-26', '2013-08-13', '2012-04-05', '2015-12-03', '2015-11-24', '2012-03-11', '2010-03-31', '2011-08-28', '2013-09-16', '2014-12-07', '2013-10-02', '2016-09-09', '2010-04-28', '2017-10-02', '2014-08-13', '2010-04-14', '2013-07-13', '2010-07-10', '2012-04-01', '2015-10-09', '2017-02-23', '2015-10-26', '2013-01-11', '2015-05-27', '2016-04-09', '2013-08-17', '2016-03-03', '2016-11-04', '2012-06-24', '2014-12-13', '2011-08-29', '2011-01-12', '2011-01-20', '2012-05-24', '2011-11-26', '2011-12-07', '2013-11-10', '2014-10-23', '2010-01-22', '2013-04-06', '2016-06-14', '2012-12-02', '2010-08-11', '2013-01-10', '2015-02-20', '2011-06-11', '2016-01-05', '2017-07-25', '2015-04-14', '2010-11-02', '2011-09-12', '2011-01-23', '2015-04-30', '2010-01-23', '2016-10-20', '2016-02-27', '2010-10-26', '2015-12-25', '2011-12-19', '2011-09-18', '2017-06-28', '2014-05-12', '2017-05-02', '2014-04-01', '2010-05-15', '2017-02-27', '2012-11-12', '2010-07-12', '2016-03-05', '2017-11-09', '2015-01-22', '2011-03-22', '2010-11-26', '2015-07-29', '2015-10-30', '2013-09-24', '2016-08-05', '2016-04-13', '2014-03-21', '2014-10-24', '2014-12-21', '2012-04-10', '2010-06-28', '2014-05-18', '2016-05-25', '2011-11-25', '2012-02-09', '2017-03-02', '2016-01-18', '2018-02-22', '2016-01-17', '2015-03-19', '2012-01-12', '2012-03-09', '2016-03-07', '2013-05-23', '2013-05-04', '2017-10-08', '2010-10-08', '2015-10-15', '2016-01-23', '2016-01-30', '2015-09-23', '2017-08-18', '2010-11-17', '2016-06-13', '2014-09-03', '2012-07-08', '2016-02-23', '2017-10-22', '2014-09-11', '2017-09-01', '2010-11-12', '2015-06-27', '2016-04-11', '2014-06-29', '2013-06-13', '2014-02-26', '2011-06-26', '2011-01-11', '2017-03-27', '2011-08-04', '2017-02-26', '2012-09-20', '2017-12-15', '2011-02-03', '2017-01-17', '2011-08-03', '2017-04-22', '2017-12-10', '2010-01-24', '2012-02-01', '2014-08-27', '2012-11-19', '2013-07-06', '2011-08-24', '2012-10-29', '2015-01-28', '2011-08-06', '2017-09-28', '2010-12-05', '2011-02-01', '2012-06-09', '2018-01-13', '2016-07-21', '2017-03-13', '2014-01-13', '2014-06-15', '2015-11-07', '2015-11-29', '2015-05-11', '2014-03-28', '2016-12-24', '2010-06-24', '2013-03-19', '2012-06-02', '2010-12-19', '2013-03-07', '2013-06-19', '2017-12-20', '2012-08-31', '2015-01-18', '2011-05-17', '2015-12-29', '2010-04-11', '2016-05-19', '2012-02-29', '2017-07-02', '2017-04-01', '2010-09-30', '2016-09-06', '2012-03-14', '2012-07-10', '2011-07-25', '2012-06-23', '2017-01-28', '2012-08-24', '2010-10-13', '2013-09-26', '2017-07-28', '2012-04-03', '2013-05-05', '2013-05-18', '2011-03-04', '2012-06-17', '2014-09-01', '2011-11-11', '2017-09-27', '2010-04-19', '2013-05-03', '2014-12-15', '2017-02-02', '2015-05-28', '2016-10-28', '2018-02-17', '2010-01-18', '2015-08-11', '2016-01-07', '2016-10-07', '2017-08-16', '2017-09-30', '2017-07-07', '2011-11-27', '2017-07-09', '2017-09-03', '2017-09-02', '2012-11-11', '2013-11-02', '2011-10-12', '2013-05-19', '2015-01-12', '2016-06-17', '2018-03-16', '2013-07-03', '2016-10-29', '2016-08-04', '2018-03-04', '2015-10-04', '2012-05-26', '2016-06-10', '2017-02-17', '2012-01-31', '2010-05-29', '2011-10-17', '2018-03-19', '2014-11-09', '2012-10-10', '2015-03-08', '2015-03-28', '2016-05-20', '2014-11-15', '2012-03-22', '2013-08-10', '2013-05-01', '2012-01-25', '2013-12-20', '2014-02-20', '2011-12-09', '2017-03-01', '2011-08-22', '2012-06-26', '2017-03-30', '2012-09-21', '2014-08-02', '2012-01-06', '2013-06-09', '2016-01-10', '2013-07-07', '2010-05-06', '2013-01-05', '2013-09-05', '2016-09-03', '2016-08-19', '2015-05-07', '2016-05-05', '2011-03-09', '2011-02-17', '2011-12-30', '2011-05-05', '2017-08-29', '2011-10-16', '2013-04-12', '2016-07-28', '2017-11-12', '2011-04-25', '2016-09-16', '2015-03-27', '2011-08-09', '2018-01-05', '2016-08-25', '2015-03-16', '2010-08-17', '2017-01-31', '2015-12-17', '2011-03-17', '2016-11-20', '2012-05-27', '2017-09-23', '2016-02-16', '2015-09-30', '2018-03-02', '2016-11-06', '2015-03-02', '2016-01-20', '2016-07-26', '2012-12-24', '2016-08-15', '2017-11-18', '2014-10-19', '2017-06-01', '2010-11-01', '2015-06-08', '2010-05-16', '2012-05-28', '2017-06-22', '2012-12-28', '2012-05-13', '2017-08-03', '2010-08-09', '2017-01-15', '2013-10-10', '2016-10-11', '2016-01-15', '2017-07-31', '2017-03-19', '2017-09-21', '2012-11-06', '2013-06-16', '2016-10-24', '2016-06-28', '2012-12-07', '2010-12-24', '2017-04-09', '2017-06-27', '2013-09-10', '2016-08-08', '2014-02-23', '2013-05-17', '2010-11-14', '2012-02-13', '2015-08-19', '2015-06-15', '2014-06-12', '2017-06-09', '2014-05-26', '2014-01-01', '2015-12-27', '2011-02-18', '2013-04-22', '2010-09-16', '2016-08-13', '2015-05-21', '2012-05-21', '2012-12-19', '2015-05-14', '2010-09-24', '2011-02-19', '2016-04-02', '2014-02-05', '2016-07-20', '2016-10-22', '2012-08-12', '2015-10-29', '2013-01-04', '2015-07-20', '2015-04-11', '2011-05-18', '2017-06-20', '2010-12-26', '2010-10-27', '2014-03-12', '2018-02-20', '2011-10-03', '2015-07-07', '2010-09-06', '2010-04-27', '2018-02-08', '2016-07-30', '2017-12-16', '2014-11-21', '2012-02-21', '2012-10-19', '2011-09-11', '2015-02-22', '2010-11-06', '2017-07-13', '2011-05-20', '2012-10-13', '2015-03-21', '2012-10-18', '2014-03-07', '2013-04-10', '2017-11-10', '2016-04-26', '2015-12-30', '2011-07-01', '2017-07-27', '2015-06-16', '2014-08-12', '2010-10-16', '2014-08-28', '2013-07-04', '2013-08-30', '2016-11-02', '2016-01-25', '2012-11-24', '2013-11-22', '2013-05-31', '2016-12-06', '2012-08-02', '2016-02-09', '2016-10-02', '2011-04-18', '2012-11-07', '2012-09-12', '2016-07-22', '2014-04-24', '2017-10-31', '2015-02-08', '2014-09-24', '2016-10-06', '2010-08-18', '2016-09-23', '2015-10-20', '2017-08-02', '2014-07-09', '2010-09-20', '2015-07-28', '2013-04-30', '2014-05-15', '2015-09-28', '2017-10-09', '2010-06-20', '2010-05-20', '2017-12-04', '2015-04-08', '2012-03-10', '2014-06-08', '2017-05-05', '2010-06-13', '2014-04-16', '2010-07-11', '2012-10-03', '2012-04-22', '2014-10-14', '2017-03-29', '2011-01-27', '2015-08-08', '2013-03-15', '2013-06-23', '2017-11-16', '2017-11-20', '2016-08-28', '2013-03-06', '2014-04-10', '2011-08-21', '2017-07-21', '2012-12-22', '2017-11-22', '2017-07-22', '2013-10-05', '2013-05-02', '2013-03-20', '2016-04-21', '2012-02-02', '2013-03-25', '2012-12-26', '2011-05-08', '2016-09-01', '2014-02-07', '2013-08-08', '2015-04-23', '2017-08-06', '2015-12-09', '2016-02-02', '2013-01-30', '2013-03-08', '2013-08-27', '2010-08-03', '2014-05-04', '2016-08-16', '2012-10-31', '2016-03-14', '2011-07-08', '2016-06-02', '2014-11-14', '2016-05-29', '2010-05-08', '2015-12-13', '2014-10-06', '2011-09-26', '2013-03-03', '2013-09-07', '2015-02-02', '2012-07-21', '2011-06-21', '2012-08-22', '2015-06-18', '2018-02-16', '2011-05-14', '2018-03-13', '2017-04-26', '2014-03-13', '2015-06-21', '2016-12-25', '2017-06-02', '2014-11-30', '2013-02-26', '2016-01-06', '2012-10-30', '2012-06-04', '2014-09-17', '2010-12-10', '2010-08-20', '2016-07-29', '2010-06-14', '2010-04-22', '2010-12-13', '2011-08-18', '2015-09-13', '2014-07-13', '2014-11-13', '2014-12-16', '2012-11-17', '2017-03-06', '2016-06-12', '2016-11-09', '2013-07-20', '2012-07-23', '2015-05-23', '2012-10-24', '2013-02-23', '2013-02-20', '2017-02-09', '2017-08-08', '2011-02-09', '2012-10-07', '2016-02-18', '2011-03-18', '2015-11-14', '2010-07-07', '2012-09-15', '2015-01-15', '2017-08-26', '2010-08-15', '2015-09-10', '2016-08-20', '2010-04-01', '2011-06-27', '2015-04-21', '2010-10-29', '2015-04-27', '2014-03-31', '2011-11-05', '2015-10-17', '2014-05-23', '2013-02-01', '2010-01-29', '2012-04-26', '2014-10-12', '2010-04-08', '2011-07-12', '2012-10-01', '2012-09-03', '2015-04-13', '2016-08-23', '2015-05-30', '2014-06-06', '2018-03-11', '2010-12-21', '2010-07-02', '2012-04-29', '2015-02-09', '2015-09-24', '2016-01-02', '2013-04-17', '2015-12-31', '2011-05-30', '2013-03-17', '2013-04-27', '2017-01-02', '2011-03-26', '2012-06-19', '2010-04-18', '2014-06-21', '2016-12-30', '2012-12-15', '2016-07-12', '2011-12-21', '2014-05-10', '2013-02-11', '2015-06-13', '2015-03-20', '2013-05-25', '2014-05-24', '2017-02-08', '2017-09-12', '2015-07-22', '2015-07-14', '2010-03-06', '2016-11-14', '2010-01-08', '2015-01-14', '2010-05-14', '2016-12-19', '2015-01-16', '2015-10-31', '2011-04-30', '2014-08-05', '2011-04-23', '2015-03-29', '2017-01-24', '2012-11-22', '2017-05-16', '2010-10-09', '2015-02-04', '2010-12-04', '2015-08-30', '2015-07-21', '2013-11-16', '2014-10-07', '2016-10-13', '2015-04-10', '2011-04-14', '2017-04-21', '2013-07-16', '2015-07-15', '2011-05-12', '2014-11-17', '2012-09-22', '2013-09-14', '2010-02-16', '2015-02-17', '2014-10-21', '2011-06-19', '2011-01-07', '2013-02-12', '2014-10-22', '2014-06-11', '2011-10-08', '2012-04-13', '2010-11-07', '2016-07-02', '2014-04-06', '2016-09-17', '2015-04-01', '2015-03-09', '2018-01-14', '2015-06-11', '2014-07-04', '2017-05-03', '2014-08-16', '2016-01-31', '2011-04-21', '2012-11-14', '2015-10-25', '2011-02-07', '2013-12-16', '2013-06-27', '2015-05-20', '2015-01-13', '2013-11-29', '2017-06-12', '2010-08-26', '2010-10-22', '2014-03-11', '2016-04-05', '2012-01-09', '2013-02-21', '2015-06-09', '2016-02-26', '2010-01-07', '2013-06-12', '2013-11-07', '2017-10-27', '2016-05-13', '2012-11-23', '2011-06-10', '2017-07-10', '2017-06-18', '2013-07-14', '2017-03-11', '2017-10-14', '2014-12-12', '2016-03-15', '2013-12-09', '2013-11-25', '2015-06-22', '2012-12-01', '2016-05-28', '2016-03-16', '2011-10-18', '2014-03-09', '2012-03-06', '2012-02-06', '2018-01-09', '2016-12-20', '2015-11-13', '2010-01-04', '2014-01-17', '2016-12-02', '2013-06-05', '2017-05-21', '2012-11-13', '2012-05-14', '2016-05-22', '2015-08-17', '2015-05-13', '2015-08-13', '2017-09-06', '2016-03-29', '2015-11-06', '2013-06-08', '2010-05-10', '2014-04-25', '2013-09-19', '2016-03-11', '2014-06-02', '2017-01-19', '2011-05-02', '2014-10-01', '2015-08-18', '2011-10-11', '2016-12-09', '2017-09-20', '2017-08-21', '2013-06-22', '2017-01-11', '2012-04-28', '2011-06-16', '2014-06-26', '2011-11-07', '2014-07-21', '2017-11-05', '2017-01-07', '2015-10-28', '2012-10-25', '2012-12-16', '2012-09-06', '2016-10-21', '2013-08-18', '2016-10-18', '2014-04-27', '2018-01-27', '2012-12-09', '2014-03-27', '2011-05-01', '2017-05-23', '2016-07-09', '2010-05-25', '2011-09-28', '2017-05-29', '2013-08-26', '2014-10-27', '2010-12-18', '2017-02-24', '2016-05-18', '2011-11-21', '2011-03-15', '2013-06-29', '2011-05-11', '2012-07-13', '2014-02-01', '2010-05-12', '2010-03-19', '2015-06-23', '2015-06-07', '2013-11-30', '2013-11-18', '2016-09-28', '2015-10-10', '2016-03-17', '2010-10-04', '2010-02-20', '2011-08-16', '2011-02-11', '2015-10-06', '2012-07-20', '2012-09-29', '2015-05-02', '2017-06-10', '2014-09-02', '2016-03-25', '2010-04-23', '2010-10-28', '2013-03-24', '2013-06-04', '2017-03-28', '2015-04-07', '2012-02-16', '2012-12-20', '2012-08-09', '2014-04-12', '2011-09-30', '2010-08-07', '2010-09-12', '2016-11-28', '2014-09-29', '2017-11-21', '2012-01-02', '2016-04-29', '2013-10-21', '2011-06-17', '2017-10-06', '2015-01-30', '2016-09-08', '2014-07-25', '2017-04-12', '2010-01-17', '2014-08-19', '2011-05-26', '2017-11-14', '2017-04-20', '2013-08-11', '2012-07-17', '2013-08-06', '2017-07-01', '2015-03-17', '2015-02-19', '2014-08-25', '2012-06-01', '2017-09-22', '2015-11-15', '2015-07-30', '2010-04-06', '2015-03-04', '2010-04-09', '2016-10-19', '2014-06-16', '2015-11-10', '2014-12-06', '2014-01-30', '2010-10-10', '2011-06-04', '2013-12-24', '2017-10-17', '2012-05-17', '2017-05-31', '2017-04-07', '2010-10-06', '2015-07-09', '2018-01-20', '2010-04-24', '2016-02-19', '2013-10-08', '2012-12-27', '2014-11-23', '2010-03-30', '2015-09-07', '2013-04-03', '2010-02-21', '2017-04-25', '2014-07-06', '2017-09-29', '2017-09-09', '2011-02-21', '2011-07-29', '2017-04-04', '2014-03-17', '2012-08-28', '2014-04-21', '2017-05-14', '2014-04-15', '2013-07-30', '2011-07-17', '2013-12-04', '2015-07-04', '2017-07-24', '2017-02-05', '2013-11-28', '2011-07-20', '2013-02-04', '2014-02-24', '2013-02-10', '2013-09-09', '2013-12-30', '2013-12-23', '2014-12-11', '2011-11-04', '2011-11-14', '2015-03-05', '2016-12-07', '2017-09-15', '2011-04-26', '2015-12-15', '2011-02-02', '2013-02-18', '2013-08-09', '2015-04-28', '2017-09-10', '2012-11-03', '2017-12-19', '2014-02-16', '2011-01-10', '2018-02-19', '2015-11-30', '2010-12-16', '2017-04-17', '2016-08-09', '2014-03-03', '2015-01-08', '2011-11-02', '2016-04-25', '2014-04-13', '2011-12-26', '2013-01-09', '2015-04-29', '2013-11-03', '2012-11-16', '2012-11-28', '2011-05-06', '2014-08-30', '2015-06-25', '2017-02-22', '2011-03-31', '2011-01-01', '2013-11-15', '2018-01-07', '2014-11-01', '2015-03-14', '2012-05-04', '2014-07-24', '2015-01-07', '2011-11-19', '2014-05-06', '2016-11-17', '2013-11-23', '2014-12-31', '2011-01-02', '2015-06-05', '2012-11-21', '2016-07-24', '2016-03-30', '2016-12-21', '2013-12-19', '2015-08-01', '2010-02-23', '2010-10-11', '2016-10-15', '2010-01-20', '2010-01-06', '2013-10-18', '2012-07-05', '2014-11-07', '2010-08-05', '2014-08-10', '2013-09-06', '2010-06-10', '2011-06-12', '2010-03-20', '2017-06-17', '2013-08-24', '2017-06-11', '2015-12-16', '2017-07-26', '2016-04-20', '2013-11-24', '2017-06-19', '2017-01-08', '2015-03-24', '2013-01-08', '2016-08-24', '2014-02-10', '2016-01-08', '2017-06-23', '2016-10-09', '2012-02-15', '2016-05-15', '2013-11-04', '2013-09-29', '2010-01-15', '2014-12-20', '2012-05-10', '2013-02-05', '2011-11-10', '2015-07-08', '2017-06-08', '2015-02-27', '2016-05-02', '2015-02-28', '2014-05-02', '2017-03-18', '2015-02-01', '2010-11-11', '2012-02-11', '2013-05-21', '2011-05-10', '2015-08-09', '2010-08-12', '2016-01-13', '2017-10-25', '2014-03-10', '2011-03-19', '2014-07-15', '2013-02-24', '2017-05-19', '2017-03-21', '2011-01-04', '2011-01-13', '2017-10-10', '2016-12-10', '2012-10-04', '2015-04-18', '2011-05-21', '2011-12-12', '2010-07-27', '2014-02-11', '2010-06-17', '2012-04-17', '2011-10-01', '2011-06-06', '2017-04-03', '2011-05-13', '2017-10-28', '2011-01-29', '2013-11-21', '2018-02-15', '2014-05-25', '2016-02-11', '2013-04-08', '2011-10-05', '2015-07-12', '2012-01-15', '2014-07-20', '2010-02-19', '2012-10-22', '2013-01-31', '2010-02-10', '2012-08-06', '2015-08-07', '2017-12-18', '2015-12-10', '2018-01-21', '2015-01-01', '2013-11-26', '2010-02-26', '2013-07-02', '2012-08-13', '2017-06-26', '2015-11-11', '2011-07-26', '2015-01-31', '2014-06-30', '2015-05-06', '2011-09-29', '2015-12-08', '2012-09-02', '2010-07-23', '2015-08-10', '2014-05-03', '2010-02-15', '2016-06-27', '2014-11-11', '2017-09-24', '2016-01-03', '2010-08-28', '2012-07-29', '2014-02-28', '2013-06-26', '2017-05-25', '2015-06-14', '2015-11-23', '2017-11-26', '2010-10-24', '2017-12-08', '2018-01-18', '2012-02-03', '2011-06-25', '2017-11-01', '2014-09-26', '2018-02-26', '2014-03-01', '2012-02-20', '2013-08-02', '2010-06-29', '2011-02-20', '2013-01-12', '2016-06-06', '2016-08-11', '2014-06-18', '2016-08-31', '2017-02-15', '2014-01-29', '2013-05-24', '2014-02-19', '2012-09-10', '2011-04-20', '2011-11-17', '2010-11-22', '2017-01-26', '2012-11-10', '2010-11-30', '2011-12-02', '2012-05-15', '2014-08-17', '2017-01-23', '2012-02-04', '2010-02-13', '2010-11-23', '2013-05-06', '2015-08-23', '2015-04-04', '2015-10-01', '2012-07-27', '2016-08-14', '2012-03-25', '2017-06-30', '2013-07-31', '2010-01-25', '2012-05-30', '2010-11-09', '2015-01-29', '2016-04-14', '2015-04-22', '2011-09-27', '2014-10-16', '2013-01-02', '2010-11-08', '2014-09-08', '2016-08-12', '2013-10-23', '2017-03-08', '2013-01-28', '2017-02-10', '2010-06-15', '2011-02-22', '2017-09-14', '2016-01-29', '2018-02-04', '2018-02-12', '2013-12-12', '2011-12-05', '2010-11-19', '2017-06-29', '2012-06-06', '2010-01-16', '2012-12-08', '2015-11-20', '2016-01-11', '2012-02-18', '2016-04-23', '2017-12-30', '2010-08-16', '2016-06-20', '2013-05-15', '2015-01-11', '2016-10-01', '2017-12-03', '2010-03-04', '2010-10-30', '2011-06-18', '2013-06-15', '2012-02-12', '2016-05-04', '2015-05-16', '2014-03-14', '2012-11-27', '2015-08-03', '2016-08-26', '2014-07-07', '2011-07-04', '2016-11-07', '2013-03-01', '2011-09-14', '2017-05-04', '2016-08-18', '2013-09-22', '2016-04-22', '2014-01-21', '2010-07-08', '2011-06-30', '2012-12-06', '2015-05-31', '2012-10-12', '2017-11-29', '2017-12-29', '2014-11-02', '2011-04-22', '2011-04-27', '2013-05-12', '2013-02-08', '2012-06-22', '2016-08-03', '2011-02-28', '2017-10-12', '2010-08-13', '2011-04-09', '2012-04-19', '2014-06-07', '2014-07-01', '2011-09-10', '2014-04-11', '2013-07-28', '2014-03-29', '2013-07-26', '2012-08-18', '2016-12-01', '2015-09-18', '2013-05-07', '2017-07-23', '2010-07-01', '2013-02-25', '2014-11-05', '2014-08-08', '2015-04-12', '2014-11-29', '2010-01-09', '2017-03-22', '2014-02-03', '2012-06-30', '2010-04-29', '2010-04-25', '2017-10-30', '2015-01-21', '2016-12-17', '2017-05-28', '2018-02-18', '2017-09-16', '2013-08-07', '2013-06-21', '2012-03-17', '2010-09-18', '2018-02-13', '2014-11-22', '2015-11-19', '2014-12-14', '2010-04-07', '2015-06-04', '2010-03-03', '2013-07-22', '2016-09-02', '2012-03-01', '2015-08-12', '2016-01-19', '2014-06-14', '2012-08-07', '2015-04-24', '2018-01-25', '2014-12-28', '2015-03-18', '2016-06-24', '2015-06-03', '2015-02-03', '2010-02-01', '2016-01-28', '2014-07-19', '2016-12-11', '2018-03-03', '2011-05-07', '2010-05-01', '2013-02-14', '2014-01-05', '2010-09-08', '2015-03-06', '2016-12-05', '2012-09-27', '2017-02-19', '2012-06-18', '2013-04-29', '2015-01-10', '2011-04-02', '2015-12-18', '2017-07-06', '2015-05-15', '2016-04-30', '2016-07-18', '2017-01-16', '2011-12-20', '2010-07-21', '2016-01-27', '2011-02-25', '2016-03-01', '2018-03-01', '2016-04-19', '2010-06-02', '2011-04-24', '2010-02-12', '2010-06-26', '2016-10-12', '2015-11-22', '2017-10-29', '2010-02-03', '2016-06-09', '2017-11-02', '2013-12-29', '2014-07-29', '2010-03-21', '2017-10-01', '2012-03-28', '2010-03-13', '2017-01-14', '2017-03-10', '2017-03-23', '2018-02-09', '2014-06-10', '2014-12-27', '2014-09-19', '2018-02-23', '2015-04-20', '2010-01-11', '2013-06-11', '2017-04-23', '2016-02-25', '2015-01-02', '2012-12-31', '2017-11-28', '2012-07-19', '2015-03-03', '2016-05-23', '2016-10-04', '2014-06-25', '2011-08-19', '2011-03-28', '2010-12-15', '2015-04-02', '2014-01-07', '2015-06-30', '2017-04-19', '2016-07-05', '2016-10-17', '2012-10-16', '2011-02-16', '2013-12-22', '2014-05-05', '2016-06-05', '2018-03-10', '2010-06-25', '2016-12-04', '2013-10-03', '2014-01-08', '2018-03-18', '2013-07-12', '2013-07-24', '2013-12-21', '2012-09-01', '2012-12-21', '2014-08-31', '2013-09-17', '2013-07-18', '2016-04-12', '2010-07-26', '2012-01-05', '2013-06-02', '2010-08-14', '2012-06-16', '2016-11-29', '2011-12-01', '2012-08-30', '2015-08-04', '2015-08-31', '2016-06-11', '2013-05-30', '2012-03-23', '2017-11-08', '2015-05-09', '2011-12-31', '2017-08-05', '2017-05-18', '2015-03-31', '2012-04-04', '2017-06-25', '2013-08-19', '2015-06-06', '2010-02-14', '2016-02-07', '2013-07-19', '2012-09-18', '2012-01-26', '2014-09-06', '2013-10-16', '2013-07-29', '2017-02-13', '2014-12-25', '2014-04-05', '2011-03-10', '2017-01-12', '2010-03-14', '2014-05-31', '2012-07-30', '2015-08-26', '2010-05-13', '2014-09-04', '2011-11-22', '2014-07-22', '2013-05-29', '2013-05-08', '2012-11-09', '2015-09-12', '2016-02-05', '2012-01-19', '2015-02-21', '2017-02-11', '2014-01-24', '2014-03-26', '2016-03-09', '2011-06-08', '2010-11-20', '2011-10-28', '2013-05-22', '2015-07-02', '2011-05-31', '2015-09-27', '2010-09-01', '2014-07-28', '2011-07-11', '2010-11-21', '2016-07-16', '2012-04-21', '2017-11-25', '2011-06-02', '2014-09-20', '2011-09-22', '2011-04-01', '2011-10-10', '2016-01-14', '2016-07-08', '2016-03-12', '2015-10-27', '2013-06-30', '2012-05-06', '2013-12-02', '2012-07-06', '2011-03-02', '2010-10-17', '2011-01-26', '2014-02-02', '2014-04-07', '2014-03-30', '2014-06-17', '2018-02-11', '2010-12-11', '2010-03-01', '2014-07-31', '2016-03-13', '2017-08-27', '2010-06-21', '2014-05-11', '2015-12-21', '2015-10-11', '2013-12-07', '2017-02-21', '2011-09-06', '2015-09-16', '2015-03-22', '2016-09-11', '2011-06-23', '2016-12-13', '2016-05-10', '2016-06-16', '2011-08-10', '2011-04-15', '2014-02-14', '2012-02-28', '2013-08-28', '2011-02-04', '2013-10-17', '2014-08-09', '2017-02-25', '2014-07-17', '2018-01-01', '2011-11-01', '2013-08-03', '2017-01-20', '2012-10-23', '2017-12-25', '2011-03-27', '2013-09-21', '2012-03-24', '2012-12-23', '2010-06-30', '2018-03-09', '2010-05-19', '2016-07-19', '2014-08-24', '2010-03-18', '2016-11-12', '2011-12-28', '2010-06-19', '2013-12-05', '2014-06-28', '2017-03-15', '2016-10-10', '2012-08-19', '2011-09-24', '2012-04-02', '2012-03-15', '2010-04-02', '2016-08-10', '2014-02-17', '2016-03-20', '2014-12-26', '2014-11-16', '2016-09-22', '2011-03-08', '2016-04-16', '2017-01-10', '2010-07-20', '2011-03-20', '2018-01-30', '2013-02-07', '2014-09-25', '2012-01-13', '2017-10-18', '2014-04-19', '2010-10-21', '2015-07-27', '2011-07-28', '2017-09-25', '2014-10-03', '2012-10-08', '2017-09-11', '2017-09-05', '2013-04-26', '2011-12-08', '2013-06-17', '2014-01-25', '2016-06-29', '2010-09-19', '2010-07-17', '2014-03-25', '2010-04-05', '2014-07-14', '2017-09-13', '2010-08-24', '2015-07-10', '2013-04-18', '2010-02-06', '2016-12-26', '2010-10-18', '2013-06-24', '2012-10-26', '2010-03-28', '2011-04-29', '2011-05-28', '2017-01-01', '2015-05-29', '2015-08-15', '2015-05-17', '2011-04-28', '2013-08-04', '2013-09-02', '2013-01-19', '2011-07-03', '2010-12-14', '2013-12-03', '2015-12-07', '2017-08-11', '2013-03-11', '2017-12-27', '2016-02-14', '2017-08-23', '2011-02-13', '2017-04-11', '2010-01-26', '2016-11-05', '2015-01-06', '2010-12-02', '2017-02-16', '2014-01-09', '2015-04-26', '2012-07-25', '2012-04-07', '2016-11-15', '2016-09-15', '2012-03-19', '2011-09-17', '2013-11-14', '2017-01-22', '2012-10-27', '2016-11-03', '2015-07-24', '2013-10-22', '2015-01-05', '2013-10-12', '2017-05-30', '2011-09-04', '2015-09-17', '2015-05-01', '2010-12-22', '2017-08-20', '2016-10-25', '2017-11-30', '2010-09-29', '2010-06-22', '2011-01-31', '2010-07-05', '2016-06-07', '2010-06-04', '2010-05-09', '2010-02-27', '2012-12-13', '2017-12-23', '2015-09-02', '2013-07-23', '2018-01-03', '2016-07-04', '2011-10-19', '2011-10-21', '2010-07-14', '2014-02-22', '2018-02-24', '2014-11-03', '2010-08-06', '2017-11-15', '2014-01-02', '2017-10-24', '2012-12-29', '2012-03-13', '2010-02-24', '2017-06-16', '2013-11-09', '2017-02-20', '2011-06-07', '2012-09-23', '2017-11-23', '2015-12-20', '2015-03-01', '2016-05-12', '2010-07-28', '2017-10-05', '2017-10-23', '2014-09-16', '2012-10-11', '2015-04-09', '2010-03-11', '2017-06-06', '2010-09-25', '2010-04-26', '2014-05-19', '2015-01-09', '2010-06-12', '2013-06-20', '2010-02-07', '2015-01-23', '2011-12-15', '2013-01-26', '2011-09-01', '2014-01-18', '2012-04-30', '2012-08-26', '2013-07-15', '2012-09-04', '2017-11-06', '2014-04-09', '2015-10-22', '2010-05-07', '2014-01-03', '2011-07-31', '2015-03-15', '2015-07-26', '2017-04-06', '2017-09-04', '2014-09-05', '2011-06-13', '2013-12-01', '2016-09-10', '2015-02-15', '2010-03-15', '2013-05-11', '2010-04-20', '2013-07-05', '2016-10-27', '2017-11-07', '2010-08-22', '2016-06-23', '2013-12-11', '2015-09-03', '2014-01-06', '2012-06-15', '2017-12-26', '2015-07-25', '2011-07-09', '2012-01-04', '2017-08-07', '2014-07-02', '2010-09-21', '2010-08-30', '2015-01-19', '2015-09-22', '2017-08-14', '2014-08-29', '2012-01-27', '2015-05-08', '2015-03-10', '2014-11-20', '2011-05-29', '2011-03-25', '2017-09-17', '2016-11-19', '2011-11-28', '2017-01-18', '2014-08-03', '2015-02-05', '2011-01-14', '2010-12-08', '2010-11-03', '2010-10-14', '2012-07-16', '2010-04-04', '2015-04-03', '2012-09-26', '2010-01-12', '2012-01-18', '2012-04-24', '2017-10-07', '2017-03-05', '2011-07-10', '2010-09-22', '2010-08-10', '2015-01-25', '2010-05-02', '2011-06-05', '2016-05-11', '2014-03-08', '2013-01-24', '2010-09-28', '2016-03-22', '2014-08-04', '2016-03-27', '2017-05-20', '2017-12-07', '2011-08-27', '2014-03-04', '2014-01-10', '2014-12-30', '2010-11-18', '2014-04-14', '2012-09-30', '2010-07-03', '2013-09-12', '2012-08-29', '2018-03-07', '2011-12-14', '2011-07-07', '2013-01-18', '2016-04-24', '2013-12-15', '2013-04-20', '2018-03-14', '2013-10-15', '2011-08-30', '2011-07-21', '2017-08-15', '2014-03-16', '2016-08-02', '2010-09-03', '2010-05-11', '2013-05-20', '2014-06-05', '2011-11-16', '2018-01-24', '2012-02-23', '2015-02-25', '2014-10-04', '2018-02-14', '2010-03-27', '2017-05-26', '2017-01-27', '2013-01-20', '2012-06-27', '2016-11-24', '2011-01-08', '2016-12-27', '2012-05-12', '2010-12-12', '2011-10-27', '2010-05-21', '2014-02-08', '2010-10-23', '2010-04-13', '2017-07-12', '2013-12-31', '2017-11-27', '2017-01-04', '2018-01-23', '2010-01-03', '2011-09-05', '2015-12-05', '2013-09-28', '2016-02-17', '2015-07-18', '2012-04-09', '2011-10-22', '2016-12-14', '2017-05-01', '2015-10-24', '2017-02-07', '2010-09-27', '2011-01-25', '2017-12-12', '2013-03-05', '2017-12-06', '2011-08-26', '2010-06-27', '2014-06-19', '2013-12-06', '2010-06-08', '2013-05-09', '2013-02-17', '2017-10-16', '2014-06-09', '2013-10-06', '2014-10-28', '2015-07-16', '2012-03-31', '2010-05-04', '2013-01-22', '2017-12-31', '2010-08-04', '2014-11-19', '2016-11-01', '2012-10-17', '2013-10-09', '2018-03-08', '2010-09-17', '2016-09-26', '2016-10-30', '2014-12-18', '2016-08-07', '2015-11-08', '2017-06-03', '2012-03-12', '2013-09-30', '2011-11-09', '2014-07-11', '2015-04-15', '2016-04-06', '2011-05-16', '2016-09-04', '2011-05-27', '2014-06-24', '2011-06-15', '2015-08-02', '2017-06-24', '2017-12-21', '2017-07-04', '2018-01-12', '2010-09-10', '2016-05-30', '2015-06-20', '2015-09-08', '2013-10-07', '2010-12-03', '2017-05-10', '2017-05-11', '2011-12-16', '2017-07-05', '2016-02-28', '2018-01-02', '2010-03-23', '2010-12-09', '2012-01-30', '2016-02-04', '2014-07-03', '2011-10-06', '2017-04-15', '2013-04-23', '2016-07-23', '2012-12-25', '2014-10-09', '2013-03-13', '2013-08-14', '2013-03-16', '2012-05-25', '2016-01-12', '2013-12-08', '2016-08-22', '2010-10-03', '2016-12-22', '2017-05-22', '2018-03-15', '2017-10-20', '2013-05-28', '2016-05-27', '2012-07-31', '2014-07-12', '2010-09-11', '2012-11-08', '2015-09-29', '2010-03-02', '2017-10-13', '2016-09-05', '2011-03-24', '2016-11-25', '2012-09-14', '2017-12-02', '2016-11-30', '2016-08-21', '2013-11-17', '2010-03-24', '2013-08-16', '2010-12-17', '2017-06-14', '2015-12-23', '2013-07-21', '2014-11-10', '2014-05-30', '2012-12-11', '2016-02-08', '2010-12-25', '2012-11-01', '2011-05-09', '2014-04-17', '2011-07-27', '2010-05-03', '2017-01-09', '2012-12-14', '2011-08-07', '2011-08-31', '2012-02-24', '2013-09-27', '2013-02-09', '2012-01-08', '2014-11-26', '2011-01-24', '2017-03-04', '2014-08-06', '2018-02-01', '2011-08-17', '2013-09-23', '2012-09-13', '2010-12-01', '2013-03-18', '2016-06-30', '2011-01-28', '2016-02-21', '2017-10-21', '2013-02-16', '2013-01-01', '2013-03-04', '2012-05-22', '2010-10-25', '2012-02-27', '2014-12-29', '2016-05-24', '2012-02-14', '2012-03-18', '2012-04-14', '2016-10-26', '2013-09-04', '2017-05-17', '2017-04-02', '2014-12-04', '2017-02-28', '2012-03-20', '2011-11-03', '2014-02-27', '2011-10-13', '2017-05-15', '2010-12-29', '2016-07-25', '2011-04-19', '2011-10-07', '2016-07-01', '2014-05-08', '2018-01-10', '2010-08-19', '2010-05-31', '2011-04-05', '2010-07-06', '2017-09-18', '2013-10-14', '2014-11-27', '2011-11-20', '2016-05-26', '2015-12-28', '2016-06-15', '2016-12-18', '2011-12-23', '2017-08-13', '2012-01-17', '2011-04-08', '2012-04-15', '2010-11-13', '2012-06-08', '2012-03-30', '2015-02-11', '2012-09-09', '2012-12-04', '2016-09-21', '2011-03-30', '2017-02-03', '2015-04-19', '2016-12-29', '2012-01-10', '2011-12-11', '2018-02-05']\n"
     ]
    }
   ],
   "source": [
    "print(list(merged_df[\"date\"].unique()))"
   ]
  },
  {
   "cell_type": "code",
   "execution_count": 28,
   "id": "b149ca10",
   "metadata": {},
   "outputs": [
    {
     "name": "stdout",
     "output_type": "stream",
     "text": [
      "['2014-09-25', '2010-11-30', '2010-06-09', '2017-02-05', '2017-02-13', '2011-10-05', '2012-12-18', '2015-05-31', '2017-05-03', '2018-01-21', '2015-06-04', '2011-07-23', '2016-10-15', '2014-03-17', '2014-05-06', '2013-06-15', '2011-01-09', '2011-04-28', '2010-08-07', '2010-03-12', '2017-06-23', '2012-10-03', '2013-08-21', '2011-12-23', '2011-12-24', '2015-01-05', '2011-12-28', '2012-04-04', '2014-01-15', '2010-10-02', '2015-02-12', '2010-06-23', '2015-07-15', '2016-09-12', '2016-06-22', '2014-06-10', '2010-02-25', '2011-08-12', '2016-05-04', '2013-03-30', '2011-04-25', '2012-02-17', '2017-10-07', '2011-01-25', '2016-02-24', '2012-08-08', '2012-02-23', '2013-04-28', '2014-05-26', '2015-06-18', '2012-04-14', '2014-08-06', '2014-06-29', '2015-07-23', '2015-09-03', '2015-11-07', '2014-03-23', '2014-10-28', '2010-10-23', '2017-03-25', '2013-11-06', '2011-02-12', '2016-12-15', '2017-06-14', '2014-07-09', '2017-06-16', '2011-01-16', '2011-07-30', '2011-07-13', '2015-10-12', '2017-03-23', '2016-09-04', '2012-06-29', '2017-05-11', '2010-03-30', '2012-10-28', '2016-09-24', '2014-06-05', '2018-03-12', '2014-04-07', '2017-02-09', '2010-12-19', '2010-12-04', '2010-08-05', '2010-09-20', '2016-11-03', '2018-01-17', '2016-02-20', '2016-07-11', '2014-09-09', '2015-11-30', '2012-06-13', '2013-04-26', '2011-06-13', '2016-04-28', '2010-12-02', '2018-02-01', '2011-10-07', '2010-05-04', '2011-06-01', '2010-09-07', '2012-07-28', '2016-09-21', '2014-07-16', '2016-06-17', '2017-12-18', '2012-06-15', '2015-02-08', '2012-05-14', '2015-04-13', '2017-10-14', '2011-03-21', '2014-06-02', '2012-02-04', '2016-03-15', '2011-08-01', '2014-10-11', '2012-12-17', '2010-06-04', '2017-01-03', '2015-08-05', '2016-02-26', '2015-12-16', '2011-12-21', '2013-09-23', '2011-03-03', '2015-10-24', '2012-09-08', '2015-05-07', '2013-03-03', '2017-07-21', '2014-02-01', '2015-01-12', '2011-02-17', '2016-04-06', '2011-06-23', '2012-06-07', '2010-10-16', '2014-12-26', '2015-07-06', '2012-10-05', '2012-03-19', '2012-01-28', '2015-02-11', '2011-03-01', '2011-07-06', '2010-01-08', '2013-07-01', '2014-02-06', '2012-09-01', '2015-11-26', '2014-12-07', '2016-07-03', '2011-02-02', '2016-05-20', '2012-01-29', '2017-08-17', '2011-05-19', '2016-08-23', '2010-07-24', '2014-01-28', '2017-12-12', '2016-01-16', '2018-01-02', '2018-01-11', '2015-06-05', '2016-09-23', '2012-03-18', '2015-12-19', '2011-07-29', '2014-03-30', '2010-04-29', '2013-09-30', '2016-12-05', '2012-07-15', '2015-06-02', '2011-02-25', '2011-08-18', '2012-03-02', '2015-12-04', '2013-02-05', '2017-04-14', '2015-09-22', '2013-02-02', '2015-04-09', '2010-06-14', '2015-06-26', '2011-09-19', '2010-05-05', '2015-09-24', '2010-07-20', '2011-06-08', '2010-11-22', '2016-01-02', '2010-02-05', '2017-03-15', '2013-02-26', '2011-09-20', '2013-03-21', '2010-06-05', '2013-04-19', '2011-03-18', '2016-07-28', '2017-04-12', '2010-12-13', '2012-06-17', '2018-02-10', '2016-10-01', '2010-09-30', '2015-11-28', '2016-03-28', '2016-07-21', '2014-04-01', '2017-10-26', '2016-04-25', '2014-02-09', '2017-01-07', '2018-02-05', '2016-04-08', '2011-11-21', '2016-06-07', '2010-12-09', '2011-02-22', '2012-11-30', '2012-12-29', '2018-02-11', '2011-07-12', '2014-08-25', '2013-06-10', '2012-10-21', '2015-01-24', '2016-11-25', '2011-01-01', '2012-03-01', '2017-12-11', '2014-03-18', '2012-01-03', '2011-03-20', '2015-09-16', '2010-09-05', '2010-02-26', '2013-08-26', '2011-08-26', '2014-11-05', '2013-01-20', '2014-07-14', '2011-11-08', '2011-06-28', '2014-11-04', '2014-10-21', '2016-05-27', '2014-01-21', '2012-01-19', '2013-08-27', '2012-02-25', '2015-10-03', '2014-12-24', '2013-04-29', '2010-03-16', '2016-06-09', '2014-12-10', '2013-09-06', '2014-07-07', '2016-01-08', '2010-06-28', '2013-01-31', '2015-07-02', '2015-09-23', '2017-05-17', '2010-08-21', '2014-10-27', '2013-03-28', '2013-05-17', '2013-01-15', '2015-07-21', '2015-06-27', '2016-07-25', '2015-05-06', '2017-12-22', '2014-03-03', '2016-09-19', '2017-06-03', '2013-09-04', '2011-12-02', '2015-04-24', '2010-08-06', '2013-04-09', '2016-02-02', '2014-03-09', '2011-09-24', '2014-11-01', '2017-12-05', '2014-12-01', '2010-04-07', '2010-11-08', '2016-12-06', '2010-09-13', '2017-06-21', '2012-12-19', '2016-01-19', '2012-03-12', '2014-06-08', '2012-11-26', '2013-05-01', '2013-09-19', '2014-12-20', '2017-11-07', '2012-12-07', '2014-02-05', '2016-01-01', '2012-03-06', '2015-01-18', '2014-12-08', '2010-09-16', '2018-02-12', '2011-11-28', '2013-01-30', '2011-08-23', '2017-09-23', '2016-04-12', '2013-06-09', '2017-09-03', '2015-03-17', '2012-06-28', '2012-07-27', '2017-11-13', '2012-05-28', '2014-02-21', '2016-07-20', '2014-01-06', '2017-07-27', '2015-12-09', '2015-05-26', '2014-01-01', '2011-08-03', '2017-06-05', '2015-09-12', '2014-04-24', '2011-07-02', '2018-02-19', '2011-05-25', '2010-03-09', '2013-07-27', '2012-08-25', '2012-01-10', '2015-03-12', '2014-10-04', '2013-04-21', '2013-08-09', '2017-08-26', '2017-03-20', '2015-10-20', '2016-12-24', '2012-06-05', '2010-10-28', '2012-02-12', '2010-08-24', '2013-05-16', '2012-10-19', '2017-08-06', '2016-05-17', '2012-03-05', '2014-12-19', '2015-10-06', '2015-06-28', '2017-11-22', '2014-09-27', '2010-04-03', '2013-11-16', '2013-05-23', '2010-07-28', '2012-08-03', '2015-12-08', '2015-07-26', '2011-04-23', '2013-03-09', '2017-11-17', '2010-08-09', '2014-05-08', '2015-06-07', '2010-02-09', '2010-04-06', '2015-12-20', '2012-05-10', '2010-09-29', '2017-05-30', '2017-10-28', '2016-10-12', '2013-01-19', '2013-11-15', '2015-09-25', '2010-07-27', '2011-11-04', '2017-04-07', '2010-04-12', '2012-11-07', '2015-08-28', '2011-10-22', '2012-07-31', '2015-07-10', '2012-08-22', '2012-10-01', '2013-10-05', '2013-08-17', '2013-02-18', '2014-09-30', '2016-03-12', '2016-07-07', '2014-11-03', '2016-04-13', '2012-01-23', '2016-07-27', '2013-01-14', '2014-05-11', '2012-05-12', '2010-04-15', '2015-05-05', '2015-05-22', '2010-08-27', '2017-01-10', '2014-03-22', '2014-03-14', '2016-05-16', '2014-05-20', '2017-10-30', '2014-11-11', '2016-02-18', '2014-08-30', '2016-08-01', '2014-06-04', '2014-07-29', '2011-12-16', '2017-12-17', '2015-08-23', '2012-08-18', '2012-03-08', '2011-02-16', '2014-07-15', '2015-10-23', '2011-11-20', '2012-07-30', '2011-01-23', '2010-11-25', '2011-04-15', '2014-09-22', '2017-05-10', '2014-04-16', '2012-04-26', '2016-03-14', '2014-02-04', '2013-07-17', '2012-06-16', '2013-11-18', '2010-11-19', '2013-07-04', '2017-04-17', '2016-04-23', '2018-03-28', '2011-03-02', '2014-10-31', '2017-07-15', '2010-11-13', '2016-07-29', '2017-12-04', '2013-08-25', '2012-04-03', '2012-08-24', '2013-04-02', '2018-01-01', '2018-03-19', '2011-03-09', '2017-07-26', '2014-04-10', '2016-10-26', '2017-01-21', '2015-04-21', '2016-05-08', '2013-10-01', '2018-02-21', '2016-04-02', '2015-06-06', '2012-01-15', '2014-10-07', '2013-01-18', '2016-05-22', '2011-02-23', '2010-06-08', '2015-02-18', '2017-08-11', '2018-03-24', '2016-12-26', '2016-10-03', '2013-12-26', '2014-12-23', '2011-04-06', '2014-02-17', '2012-07-20', '2013-04-11', '2012-07-25', '2018-02-03', '2016-04-10', '2010-11-20', '2012-05-21', '2011-03-24', '2013-07-31', '2013-12-22', '2012-08-06', '2014-11-18', '2010-09-04', '2013-07-13', '2017-08-28', '2017-10-03', '2011-08-24', '2017-07-11', '2014-10-19', '2014-09-20', '2015-02-09', '2013-01-08', '2017-02-06', '2014-08-20', '2013-04-22', '2010-03-25', '2015-02-27', '2011-12-12', '2013-06-11', '2017-03-26', '2011-06-11', '2013-01-17', '2012-10-18', '2016-04-18', '2011-08-31', '2014-02-15', '2011-07-26', '2010-06-03', '2012-07-04', '2012-12-05', '2016-06-25', '2016-02-27', '2011-04-14', '2012-10-29', '2014-08-24', '2014-01-13', '2010-02-08', '2013-11-12', '2013-07-20', '2012-05-31', '2015-03-15', '2016-11-27', '2012-08-26', '2011-05-20', '2012-04-13', '2012-07-09', '2012-08-17', '2015-12-03', '2015-11-18', '2010-12-03', '2011-03-26', '2016-05-15', '2013-07-12', '2010-07-14', '2012-12-08', '2010-06-10', '2014-09-01', '2016-12-13', '2016-09-20', '2012-11-02', '2017-11-27', '2012-04-24', '2013-11-22', '2017-02-12', '2016-11-09', '2012-04-15', '2014-02-16', '2010-01-13', '2011-04-21', '2012-07-13', '2014-01-24', '2016-04-05', '2012-07-11', '2011-12-01', '2017-04-15', '2011-01-02', '2016-09-28', '2016-12-27', '2014-07-06', '2015-06-21', '2013-12-10', '2017-05-06', '2015-08-24', '2013-04-07', '2017-07-30', '2014-10-09', '2012-08-10', '2011-01-24', '2013-11-02', '2013-04-10', '2016-01-30', '2017-01-04', '2011-02-11', '2010-04-28', '2013-09-09', '2011-03-30', '2017-07-28', '2011-08-29', '2015-08-17', '2016-02-10', '2011-07-17', '2011-11-10', '2015-02-15', '2013-12-08', '2017-05-27', '2013-09-01', '2017-02-16', '2015-10-18', '2011-11-13', '2015-03-25', '2013-03-26', '2017-06-13', '2011-10-13', '2014-05-02', '2010-01-24', '2013-05-31', '2014-07-08', '2010-01-31', '2017-02-14', '2012-02-21', '2011-03-27', '2010-05-03', '2010-01-25', '2010-03-28', '2012-04-23', '2014-11-07', '2012-06-18', '2014-03-10', '2016-04-29', '2013-10-26', '2013-04-03', '2010-06-22', '2014-02-28', '2015-01-16', '2017-06-27', '2012-01-24', '2015-10-21', '2018-03-11', '2015-10-28', '2011-12-15', '2017-08-12', '2012-03-17', '2011-12-30', '2012-11-18', '2014-10-05', '2013-09-16', '2014-06-19', '2010-06-07', '2016-07-08', '2011-11-07', '2012-06-30', '2016-12-02', '2013-05-08', '2011-09-11', '2012-09-04', '2010-06-18', '2012-07-05', '2011-11-19', '2013-03-17', '2010-06-21', '2010-08-01', '2015-09-29', '2017-06-17', '2014-10-18', '2013-04-23', '2016-02-08', '2012-01-25', '2015-07-14', '2010-05-06', '2013-10-07', '2011-01-22', '2011-05-06', '2011-07-25', '2012-04-16', '2014-07-04', '2012-05-02', '2016-11-29', '2014-08-11', '2011-01-15', '2011-03-29', '2013-01-25', '2016-09-09', '2016-01-31', '2010-09-09', '2018-02-15', '2015-09-26', '2015-08-19', '2017-03-02', '2011-01-26', '2013-09-08', '2012-01-14', '2014-02-11', '2012-06-21', '2010-03-24', '2017-05-05', '2015-11-03', '2013-06-28', '2011-07-31', '2013-06-06', '2013-10-15', '2015-06-10', '2012-02-06', '2012-07-18', '2013-07-08', '2015-03-03', '2015-10-26', '2018-01-06', '2011-01-04', '2015-03-29', '2016-10-04', '2011-01-18', '2011-10-31', '2014-01-09', '2010-01-10', '2017-07-20', '2015-10-19', '2016-07-31', '2014-05-09', '2017-09-10', '2011-11-06', '2014-08-15', '2013-04-15', '2015-03-14', '2011-12-13', '2015-12-07', '2016-03-30', '2012-09-13', '2011-08-09', '2016-11-23', '2015-03-01', '2011-05-24', '2014-01-20', '2012-05-27', '2011-02-05', '2018-03-04', '2012-11-20', '2013-02-03', '2014-12-28', '2013-04-17', '2014-08-10', '2013-04-05', '2012-09-30', '2013-09-17', '2014-03-19', '2014-04-06', '2010-06-25', '2015-05-19', '2017-12-09', '2015-12-06', '2013-07-29', '2012-04-30', '2015-02-25', '2012-03-13', '2013-11-09', '2011-10-03', '2013-12-04', '2017-04-13', '2017-09-13', '2010-10-19', '2016-05-21', '2013-11-24', '2017-08-21', '2016-11-18', '2018-02-04', '2010-01-12', '2013-02-06', '2015-08-09', '2017-09-06', '2011-09-21', '2015-10-22', '2011-08-11', '2013-03-19', '2011-03-12', '2015-09-11', '2018-03-18', '2011-09-18', '2010-03-15', '2015-09-10', '2014-12-12', '2012-01-07', '2013-02-08', '2014-02-26', '2011-08-20', '2010-02-04', '2010-03-26', '2018-01-09', '2015-11-17', '2016-08-31', '2013-09-05', '2017-01-17', '2010-01-27', '2011-06-09', '2010-03-04', '2014-01-26', '2016-11-21', '2016-10-05', '2012-07-07', '2011-06-04', '2014-06-20', '2015-07-03', '2018-02-23', '2014-09-24', '2010-09-23', '2013-12-31', '2017-01-06', '2010-09-25', '2016-09-15', '2012-08-20', '2010-05-30', '2010-02-28', '2012-08-14', '2014-04-05', '2010-07-09', '2017-03-01', '2017-05-14', '2017-09-08', '2013-06-13', '2014-08-28', '2011-09-22', '2015-02-01', '2012-08-19', '2010-04-10', '2010-11-11', '2015-09-14', '2014-05-31', '2014-02-08', '2017-10-31', '2014-03-21', '2014-06-15', '2010-07-21', '2016-09-10', '2011-10-02', '2014-12-21', '2014-10-15', '2013-12-17', '2017-04-30', '2016-06-28', '2013-01-09', '2012-08-29', '2015-08-06', '2016-01-09', '2012-04-06', '2018-02-20', '2017-03-21', '2014-01-27', '2012-09-27', '2011-08-02', '2011-09-06', '2017-03-05', '2015-03-19', '2011-10-18', '2010-02-20', '2014-09-13', '2015-02-28', '2013-01-16', '2017-05-01', '2014-07-24', '2013-10-02', '2014-09-18', '2014-04-11', '2014-12-14', '2015-02-23', '2016-08-21', '2014-07-26', '2010-09-14', '2015-05-13', '2013-02-10', '2014-05-03', '2014-08-09', '2014-05-05', '2011-03-16', '2015-02-21', '2011-02-20', '2012-08-04', '2017-03-22', '2017-05-22', '2017-08-03', '2016-05-01', '2012-11-11', '2015-11-19', '2012-02-16', '2010-08-02', '2012-09-20', '2016-08-03', '2018-01-22', '2012-06-22', '2014-06-09', '2013-02-17', '2016-02-12', '2017-08-24', '2015-11-10', '2011-04-18', '2016-04-16', '2017-12-29', '2013-07-09', '2015-11-09', '2012-05-01', '2013-05-06', '2012-09-17', '2016-03-09', '2012-09-15', '2011-04-08', '2017-01-30', '2015-10-27', '2017-10-19', '2016-01-03', '2014-05-28', '2016-03-16', '2011-08-22', '2010-09-17', '2010-05-19', '2013-06-21', '2013-11-04', '2016-01-28', '2015-07-07', '2013-10-30', '2010-10-20', '2010-02-27', '2015-08-02', '2010-11-24', '2017-04-11', '2011-08-17', '2013-12-19', '2012-05-19', '2017-08-16', '2015-04-23', '2014-12-11', '2016-07-10', '2012-01-12', '2012-05-20', '2018-01-16', '2013-10-13', '2016-10-25', '2015-02-22', '2010-02-16', '2012-03-09', '2011-01-17', '2014-02-07', '2010-10-17', '2014-01-05', '2016-12-07', '2014-12-30', '2012-02-27', '2012-04-20', '2011-02-04', '2010-03-23', '2016-11-24', '2017-01-27', '2011-03-13', '2012-10-24', '2015-03-18', '2012-08-30', '2014-06-18', '2010-09-15', '2013-03-31', '2012-12-27', '2014-03-15', '2011-02-07', '2013-03-20', '2015-06-20', '2011-03-14', '2013-04-12', '2015-08-25', '2015-08-31', '2012-01-09', '2010-08-11', '2011-02-08', '2010-08-08', '2011-09-03', '2014-08-17', '2010-09-22', '2013-10-31', '2014-11-10', '2012-08-28', '2016-09-17', '2014-05-25', '2011-12-07', '2010-02-13', '2015-03-04', '2011-11-25', '2016-09-26', '2011-11-30', '2012-05-06', '2013-10-03', '2012-05-23', '2018-02-28', '2013-11-30', '2015-08-20', '2014-05-19', '2016-01-15', '2013-02-14', '2011-10-04', '2012-05-30', '2014-09-05', '2015-10-05', '2017-03-14', '2017-09-14', '2018-02-06', '2012-11-08', '2012-09-14', '2017-07-01', '2013-08-01', '2010-02-15', '2012-03-29', '2010-04-02', '2011-09-05', '2013-09-18', '2016-05-10', '2013-11-14', '2017-01-24', '2010-05-14', '2014-09-02', '2010-04-23', '2016-07-22', '2010-07-15', '2012-04-05', '2017-02-28', '2010-06-19', '2015-11-12', '2015-06-13', '2016-04-15', '2013-08-18', '2016-03-08', '2012-07-06', '2013-05-07', '2011-01-31', '2011-02-06', '2011-12-05', '2013-11-27', '2016-06-18', '2013-02-12', '2012-12-03', '2010-08-14', '2012-08-05', '2015-03-11', '2014-03-11', '2017-07-25', '2016-01-24', '2016-02-14', '2015-04-29', '2010-09-18', '2010-11-15', '2014-12-15', '2011-01-27', '2015-05-18', '2014-09-08', '2016-10-23', '2011-01-12', '2015-11-21', '2016-02-28', '2015-10-08', '2010-11-03', '2015-12-30', '2016-02-07', '2017-07-13', '2014-05-16', '2018-01-24', '2014-04-08', '2010-05-20', '2015-11-27', '2017-03-13', '2012-11-17', '2010-07-29', '2016-03-10', '2014-07-23', '2017-11-29', '2013-07-10', '2014-02-23', '2015-01-28', '2011-04-09', '2016-11-22', '2015-12-27', '2017-11-20', '2015-08-15', '2015-11-05', '2014-10-01', '2016-08-14', '2014-11-09', '2016-08-02', '2010-07-03', '2016-05-29', '2011-12-08', '2017-03-08', '2018-03-05', '2012-11-19', '2012-08-21', '2016-05-23', '2015-03-23', '2016-08-09', '2012-01-22', '2012-03-10', '2016-03-23', '2016-04-26', '2013-06-03', '2013-05-15', '2017-10-08', '2010-10-26', '2015-10-15', '2016-02-11', '2013-09-29', '2015-09-30', '2018-03-09', '2017-08-18', '2011-06-12', '2011-02-01', '2012-04-19', '2017-11-08', '2015-05-29', '2017-09-15', '2015-05-15', '2014-07-10', '2010-11-29', '2015-07-16', '2016-04-20', '2017-08-05', '2013-06-29', '2011-11-14', '2011-06-27', '2011-01-21', '2017-03-28', '2011-08-13', '2014-10-08', '2017-02-27', '2014-08-05', '2011-02-15', '2017-02-03', '2011-08-06', '2017-05-12', '2017-06-12', '2017-12-30', '2012-02-18', '2014-08-27', '2012-11-21', '2011-09-12', '2012-11-13', '2015-01-29', '2017-09-12', '2017-10-11', '2011-08-25', '2010-12-24', '2018-01-31', '2016-08-08', '2015-02-14', '2016-10-06', '2013-04-20', '2017-05-02', '2014-01-22', '2014-06-27', '2015-12-01', '2015-05-25', '2013-05-24', '2014-04-03', '2011-03-17', '2011-12-18', '2017-01-01', '2010-07-01', '2010-10-13', '2018-01-05', '2012-09-07', '2015-02-02', '2011-05-26', '2016-01-17', '2016-05-31', '2013-07-16', '2013-05-27', '2017-07-05', '2014-09-04', '2017-04-10', '2016-11-26', '2014-05-14', '2016-03-07', '2011-08-07', '2012-07-10', '2017-02-02', '2012-08-27', '2017-08-08', '2013-05-11', '2013-05-21', '2011-03-11', '2012-07-02', '2011-11-16', '2017-09-20', '2013-05-14', '2015-01-04', '2015-05-28', '2016-10-29', '2016-03-02', '2015-08-13', '2016-01-21', '2016-10-10', '2013-11-07', '2010-06-11', '2010-09-21', '2017-03-27', '2017-07-07', '2017-09-18', '2014-11-12', '2012-11-25', '2013-11-13', '2011-11-01', '2013-05-22', '2015-01-14', '2016-06-26', '2018-03-27', '2012-02-29', '2016-08-07', '2016-09-22', '2012-09-18', '2015-10-04', '2014-09-16', '2012-06-03', '2016-10-07', '2016-06-15', '2017-02-25', '2011-10-17', '2016-04-03', '2010-07-23', '2014-03-28', '2017-04-05', '2018-03-26', '2014-11-26', '2013-04-24', '2015-02-24', '2018-03-31', '2015-03-27', '2013-10-11', '2016-06-06', '2014-12-04', '2013-08-23', '2017-05-18', '2012-02-13', '2014-01-03', '2010-09-19', '2017-04-24', '2017-03-12', '2014-07-12', '2014-10-12', '2014-12-16', '2013-04-04', '2012-09-29', '2014-08-21', '2012-01-18', '2016-01-29', '2010-05-18', '2016-09-03', '2013-03-07', '2017-03-24', '2016-05-06', '2017-08-04', '2011-05-17', '2011-10-30', '2016-08-12', '2017-11-25', '2014-10-25', '2011-04-26', '2015-04-03', '2013-01-27', '2015-03-20', '2010-08-31', '2015-12-22', '2011-03-23', '2012-06-06', '2013-09-02', '2017-10-02', '2016-03-06', '2018-03-14', '2014-09-12', '2015-03-06', '2016-02-04', '2013-01-07', '2016-08-28', '2017-12-02', '2015-12-29', '2014-12-18', '2014-09-10', '2016-09-11', '2014-07-13', '2014-09-03', '2013-01-04', '2010-11-04', '2015-06-16', '2011-02-18', '2014-12-17', '2017-07-04', '2012-12-28', '2012-05-13', '2017-08-15', '2010-08-10', '2017-01-19', '2012-02-19', '2014-02-27', '2013-10-12', '2016-10-20', '2015-11-08', '2013-08-11', '2016-02-01', '2014-04-13', '2010-04-04', '2011-10-29', '2012-01-26', '2017-08-09', '2017-05-09', '2017-09-30', '2013-06-17', '2016-10-31', '2016-07-16', '2012-12-24', '2011-12-22', '2013-12-02', '2013-09-28', '2010-02-01', '2013-10-21', '2011-04-10', '2014-03-06', '2016-01-20', '2015-08-26', '2015-06-29', '2014-06-12', '2015-07-31', '2017-06-24', '2014-06-07', '2018-03-06', '2013-09-15', '2016-01-12', '2013-09-25', '2011-02-24', '2011-05-09', '2013-05-09', '2012-05-24', '2015-06-08', '2012-12-23', '2016-04-11', '2014-02-14', '2010-06-17', '2010-03-22', '2016-11-05', '2012-08-15', '2015-10-30', '2012-01-06', '2015-08-03', '2015-04-26', '2017-06-30', '2012-05-15', '2011-10-20', '2010-12-08', '2015-07-18', '2010-05-11', '2013-05-25', '2014-12-27', '2018-02-13', '2010-01-21', '2017-12-20', '2016-07-13', '2015-11-16', '2015-04-15', '2012-10-23', '2017-12-31', '2011-09-30', '2013-12-29', '2015-03-02', '2016-08-06', '2011-04-24', '2017-07-29', '2014-08-31', '2015-04-05', '2012-10-31', '2014-03-08', '2017-11-18', '2013-12-25', '2016-01-14', '2011-07-08', '2017-08-07', '2014-08-19', '2010-11-01', '2013-10-29', '2016-04-27', '2012-10-14', '2015-11-11', '2016-11-14', '2013-01-22', '2016-02-05', '2013-12-07', '2011-11-12', '2016-12-11', '2012-08-12', '2013-03-15', '2010-09-06', '2016-02-25', '2017-04-02', '2018-03-07', '2011-05-03', '2015-02-05', '2012-11-27', '2014-06-16', '2012-09-22', '2014-04-25', '2017-11-15', '2014-10-10', '2011-06-16', '2015-07-30', '2011-03-05', '2017-08-20', '2017-11-16', '2012-02-11', '2014-02-22', '2015-11-14', '2017-10-18', '2013-07-28', '2010-06-27', '2010-05-28', '2012-03-28', '2015-07-05', '2012-12-06', '2018-03-13', '2017-07-03', '2014-06-22', '2010-06-13', '2014-05-01', '2011-10-21', '2012-10-10', '2012-05-03', '2015-05-12', '2015-10-02', '2015-01-03', '2015-08-14', '2013-03-29', '2016-09-01', '2015-12-28', '2013-03-08', '2014-04-30', '2013-04-30', '2011-08-27', '2013-01-02', '2017-12-03', '2013-10-06', '2013-05-04', '2017-12-15', '2013-01-12', '2013-03-23', '2014-08-23', '2014-11-27', '2011-05-15', '2016-09-14', '2014-06-24', '2013-08-20', '2010-04-18', '2015-12-23', '2016-02-06', '2013-02-09', '2010-08-22', '2014-05-12', '2016-08-22', '2017-07-19', '2016-07-15', '2011-07-28', '2014-11-30', '2012-09-26', '2011-09-23', '2010-05-25', '2014-10-17', '2011-10-11', '2015-02-20', '2015-02-16', '2011-06-30', '2016-05-02', '2012-09-09', '2013-06-05', '2016-02-23', '2018-03-15', '2017-05-04', '2013-04-01', '2017-06-11', '2011-06-21', '2013-03-16', '2016-01-18', '2011-06-20', '2012-11-03', '2013-01-21', '2012-06-14', '2010-12-21', '2010-08-23', '2016-08-15', '2010-10-01', '2010-06-29', '2011-02-28', '2010-04-25', '2010-12-28', '2011-09-07', '2015-09-19', '2010-01-14', '2012-08-31', '2012-01-20', '2014-08-02', '2010-07-16', '2012-12-04', '2017-03-19', '2016-06-24', '2016-11-15', '2013-07-30', '2015-07-28', '2013-06-19', '2011-12-19', '2017-05-08', '2012-11-04', '2013-03-05', '2017-02-20', '2015-04-06', '2014-10-14', '2011-02-09', '2016-05-19', '2016-11-02', '2016-05-25', '2016-11-28', '2013-07-26', '2011-01-28', '2015-07-04', '2016-05-18', '2010-09-02', '2010-03-03', '2011-07-07', '2015-04-25', '2010-07-26', '2010-11-02', '2015-05-01', '2010-08-15', '2015-04-30', '2014-04-15', '2010-03-01', '2011-11-05', '2017-09-19', '2013-02-07', '2014-03-05', '2015-03-10', '2014-10-13', '2015-01-17', '2010-04-26', '2017-04-01', '2014-06-13', '2011-01-10', '2014-10-20', '2014-12-03', '2013-05-05', '2015-12-10', '2017-01-13', '2012-12-20', '2016-07-23', '2014-05-23', '2011-12-25', '2013-02-28', '2015-03-28', '2014-09-17', '2015-10-13', '2013-06-12', '2014-05-27', '2017-09-16', '2014-09-29', '2011-07-16', '2012-12-21', '2010-03-21', '2016-11-06', '2015-09-05', '2010-10-18', '2015-01-20', '2010-06-02', '2016-12-21', '2011-05-10', '2011-05-05', '2015-04-12', '2012-12-02', '2016-09-25', '2016-09-13', '2010-12-31', '2015-02-17', '2016-05-12', '2010-12-12', '2013-11-25', '2012-07-01', '2016-10-22', '2017-06-29', '2010-06-12', '2013-07-24', '2015-07-25', '2014-11-17', '2013-09-14', '2010-02-18', '2015-02-19', '2011-07-04', '2014-11-13', '2012-11-05', '2014-10-22', '2013-11-19', '2017-03-09', '2010-11-23', '2017-11-23', '2013-07-14', '2016-07-06', '2014-04-12', '2014-06-03', '2011-04-01', '2015-03-22', '2012-10-16', '2011-04-05', '2018-01-23', '2012-12-25', '2014-07-19', '2016-02-03', '2014-11-15', '2017-08-23', '2012-11-24', '2014-01-04', '2011-10-01', '2013-07-11', '2015-04-20', '2017-12-16', '2010-03-14', '2010-06-06', '2017-07-02', '2010-09-01', '2010-11-05', '2011-04-03', '2015-06-11', '2013-06-24', '2013-11-10', '2016-11-12', '2016-05-14', '2012-11-23', '2012-08-13', '2011-06-10', '2017-07-24', '2012-11-14', '2017-07-06', '2013-07-18', '2017-11-01', '2013-11-21', '2016-04-04', '2012-09-05', '2014-01-12', '2010-07-19', '2016-06-03', '2016-03-19', '2016-09-05', '2012-09-16', '2011-10-25', '2013-06-20', '2014-03-20', '2017-04-21', '2016-05-28', '2012-03-21', '2013-08-29', '2010-09-27', '2010-03-31', '2010-07-04', '2015-11-22', '2010-01-19', '2013-09-26', '2014-01-25', '2010-08-29', '2017-05-21', '2014-12-05', '2016-03-31', '2016-03-04', '2018-02-02', '2015-11-13', '2013-07-22', '2011-10-27', '2014-11-06', '2013-06-18', '2016-06-23', '2012-01-02', '2016-03-26', '2014-06-11', '2015-11-01', '2011-05-18', '2011-09-08', '2016-12-20', '2017-10-06', '2017-09-04', '2017-01-25', '2012-12-11', '2012-05-08', '2016-05-26', '2014-07-03', '2015-04-08', '2017-10-05', '2014-08-04', '2014-07-22', '2014-06-26', '2013-12-28', '2010-12-20', '2010-10-21', '2012-07-12', '2017-09-11', '2017-01-20', '2015-11-15', '2010-04-17', '2013-01-03', '2014-02-13', '2016-11-07', '2018-02-08', '2011-12-29', '2014-12-02', '2011-08-05', '2011-05-07', '2017-06-02', '2016-07-26', '2017-04-28', '2013-02-16', '2017-01-18', '2011-01-29', '2010-05-27', '2011-10-14', '2017-06-10', '2017-07-18', '2011-01-05', '2014-09-11', '2017-02-24', '2011-11-27', '2011-08-30', '2013-07-07', '2016-06-21', '2017-12-08', '2012-07-22', '2014-02-02', '2016-02-22', '2010-09-11', '2015-12-11', '2015-07-09', '2011-03-15', '2013-12-05', '2013-11-29', '2015-01-23', '2016-10-11', '2015-10-29', '2010-10-05', '2018-04-05', '2018-03-16', '2017-08-25', '2010-03-07', '2016-11-11', '2016-06-16', '2016-05-09', '2015-10-10', '2010-05-23', '2012-08-01', '2013-08-28', '2012-10-11', '2018-01-27', '2016-06-11', '2016-12-22', '2011-07-09', '2010-05-01', '2017-03-30', '2011-02-14', '2012-02-03', '2012-08-23', '2014-04-14', '2011-10-10', '2011-06-25', '2010-08-26', '2016-12-12', '2010-01-06', '2013-12-14', '2011-06-24', '2010-12-30', '2017-10-21', '2015-02-03', '2012-02-07', '2016-11-04', '2010-01-30', '2011-06-14', '2017-08-01', '2013-08-30', '2012-07-24', '2013-08-07', '2017-07-10', '2015-04-02', '2012-06-20', '2017-10-10', '2015-11-29', '2014-07-05', '2015-03-30', '2010-04-21', '2010-11-28', '2015-01-07', '2017-08-27', '2017-04-06', '2011-09-26', '2011-08-10', '2014-06-17', '2012-05-07', '2011-08-15', '2014-05-22', '2017-03-16', '2014-03-29', '2014-02-03', '2014-04-19', '2017-10-22', '2012-06-04', '2017-06-08', '2017-04-18', '2010-10-15', '2015-07-13', '2017-01-26', '2013-01-06', '2013-11-08', '2018-01-28', '2015-05-11', '2010-05-07', '2013-10-16', '2013-12-09', '2012-12-30', '2010-04-16', '2015-09-08', '2010-03-02', '2017-09-17', '2010-09-26', '2015-09-06', '2011-08-04', '2012-02-26', '2013-02-23', '2014-10-06', '2017-04-22', '2018-02-09', '2014-04-29', '2017-05-26', '2013-04-18', '2013-08-08', '2012-02-05', '2011-07-21', '2017-01-12', '2014-11-29', '2012-02-24', '2017-06-25', '2014-09-23', '2013-09-21', '2015-07-20', '2013-03-22', '2011-07-24', '2014-05-15', '2013-02-24', '2014-03-16', '2014-01-02', '2013-03-01', '2014-01-19', '2014-08-01', '2013-03-25', '2013-01-29', '2011-08-16', '2010-10-31', '2014-07-27', '2010-05-29', '2012-07-23', '2012-10-04', '2017-09-26', '2011-11-22', '2016-12-19', '2011-05-01', '2011-06-02', '2013-02-20', '2011-05-16', '2011-02-03', '2013-01-01', '2017-05-28', '2016-12-04', '2012-10-13', '2017-10-24', '2011-10-26', '2016-05-03', '2017-09-21', '2018-01-03', '2014-02-24', '2011-01-30', '2018-03-03', '2015-11-06', '2011-10-08', '2017-01-02', '2017-03-10', '2010-12-22', '2017-01-08', '2015-01-09', '2014-04-23', '2016-08-16', '2014-03-12', '2012-12-10', '2017-01-22', '2014-05-17', '2011-01-06', '2018-01-10', '2014-10-23', '2014-11-19', '2013-10-28', '2017-11-19', '2014-07-28', '2013-10-14', '2015-01-21', '2015-09-13', '2016-01-26', '2011-11-29', '2014-07-30', '2014-05-13', '2014-06-23', '2017-07-23', '2011-11-18', '2013-12-03', '2015-03-16', '2012-05-26', '2014-05-24', '2014-11-28', '2011-01-14', '2014-07-25', '2015-05-27', '2011-04-17', '2016-08-04', '2011-11-26', '2010-05-12', '2013-12-30', '2017-10-12', '2010-03-08', '2017-09-01', '2010-02-07', '2017-06-18', '2013-10-24', '2013-04-08', '2011-12-11', '2015-05-03', '2014-11-23', '2015-09-27', '2010-08-18', '2014-12-31', '2016-08-27', '2014-08-26', '2011-07-27', '2016-01-05', '2016-08-10', '2014-05-10', '2012-04-27', '2016-08-26', '2014-02-25', '2016-01-13', '2016-10-18', '2017-12-28', '2013-10-18', '2014-10-29', '2013-11-23', '2015-09-18', '2016-10-28', '2013-09-27', '2017-03-18', '2015-03-24', '2010-08-25', '2013-09-24', '2015-10-16', '2013-02-22', '2017-07-22', '2017-03-17', '2014-08-16', '2014-03-07', '2015-03-31', '2013-05-10', '2013-05-29', '2012-05-18', '2010-08-28', '2016-01-22', '2017-11-10', '2011-04-20', '2015-01-25', '2014-07-31', '2013-02-25', '2013-12-27', '2017-03-29', '2016-09-02', '2017-10-23', '2016-12-14', '2015-04-27', '2011-12-31', '2014-03-01', '2010-05-31', '2015-08-18', '2011-05-29', '2017-11-14', '2010-10-11', '2017-10-04', '2014-05-29', '2016-02-21', '2011-10-24', '2015-07-19', '2012-08-11', '2012-02-01', '2014-07-20', '2010-02-21', '2012-12-26', '2017-02-01', '2015-04-19', '2013-02-01', '2015-08-12', '2015-08-10', '2012-08-07', '2010-08-17', '2018-01-13', '2011-03-25', '2016-12-23', '2016-10-09', '2015-12-15', '2018-02-07', '2014-11-24', '2017-11-28', '2015-01-08', '2016-01-25', '2010-03-10', '2013-07-06', '2013-03-10', '2018-03-22', '2010-09-28', '2011-01-03', '2015-03-13', '2017-04-03', '2015-06-24', '2014-08-03', '2014-05-21', '2010-01-11', '2015-05-16', '2014-08-22', '2017-07-16', '2016-07-14', '2013-03-27', '2011-12-26', '2012-01-13', '2013-06-25', '2017-07-31', '2014-11-20', '2012-12-01', '2014-02-19', '2011-01-07', '2017-09-09', '2012-07-29', '2017-06-04', '2016-08-05', '2011-03-06', '2010-11-07', '2018-01-04', '2017-09-27', '2011-01-20', '2010-10-22', '2017-09-25', '2010-11-09', '2013-01-13', '2010-12-23', '2016-06-14', '2016-06-19', '2010-08-19', '2015-12-26', '2010-11-21', '2017-08-13', '2014-02-10', '2012-05-29', '2012-12-12', '2013-05-26', '2015-11-02', '2012-01-11', '2011-05-02', '2011-11-17', '2016-05-11', '2015-07-27', '2017-02-15', '2012-11-16', '2010-12-17', '2015-01-31', '2014-08-18', '2010-02-19', '2010-12-11', '2013-05-19', '2010-12-25', '2014-02-12', '2010-07-25', '2012-03-27', '2010-04-13', '2015-07-17', '2013-08-15', '2010-02-12', '2012-04-11', '2017-01-16', '2015-05-10', '2011-10-06', '2016-06-08', '2016-01-23', '2010-11-27', '2012-10-30', '2016-10-16', '2015-04-18', '2012-10-09', '2011-05-23', '2011-04-30', '2011-03-28', '2015-05-02', '2013-05-12', '2010-06-26', '2011-03-08', '2017-09-22', '2018-01-20', '2018-02-16', '2010-10-24', '2016-04-17', '2010-01-09', '2015-08-16', '2018-02-22', '2012-06-11', '2010-01-26', '2012-07-17', '2017-01-11', '2010-05-09', '2018-01-15', '2014-05-30', '2017-12-07', '2013-06-04', '2011-07-03', '2015-12-12', '2016-05-24', '2012-11-22', '2014-07-21', '2014-06-28', '2013-10-08', '2010-11-18', '2012-12-09', '2010-03-18', '2016-08-18', '2012-06-02', '2015-08-11', '2014-07-11', '2015-02-06', '2012-01-31', '2014-09-28', '2011-06-17', '2016-06-27', '2011-09-17', '2016-02-13', '2017-05-19', '2013-12-12', '2012-03-20', '2014-04-27', '2013-10-09', '2013-01-10', '2015-12-05', '2017-09-28', '2010-07-11', '2017-11-02', '2018-01-25', '2014-01-23', '2017-11-21', '2012-09-11', '2011-03-22', '2012-12-14', '2017-11-09', '2015-06-03', '2017-04-23', '2012-06-24', '2016-09-18', '2010-09-08', '2017-06-26', '2011-05-11', '2016-05-30', '2018-03-10', '2016-12-29', '2016-11-16', '2015-07-24', '2011-03-04', '2012-05-04', '2017-10-16', '2010-06-15', '2016-08-29', '2014-08-13', '2018-02-25', '2012-04-21', '2014-10-30', '2011-09-25', '2011-03-19', '2011-09-14', '2015-06-12', '2014-04-09', '2011-06-06', '2013-08-12', '2010-07-02', '2016-12-01', '2017-10-13', '2016-08-11', '2011-11-02', '2013-03-14', '2015-02-07', '2015-04-16', '2016-10-21', '2014-11-22', '2014-08-12', '2011-06-15', '2014-12-13', '2017-04-04', '2014-02-20', '2011-05-30', '2012-06-09', '2012-07-08', '2013-08-06', '2010-05-15', '2015-03-21', '2013-08-24', '2012-01-21', '2013-08-14', '2018-03-01', '2015-08-29', '2013-06-23', '2018-03-02', '2010-04-09', '2015-06-09', '2012-10-22', '2014-06-01', '2015-04-07', '2016-06-01', '2012-03-16', '2015-05-30', '2015-04-28', '2013-12-16', '2010-05-17', '2010-06-30', '2016-04-09', '2018-02-14', '2016-12-28', '2015-01-13', '2017-06-22', '2010-02-02', '2014-09-21', '2011-05-28', '2012-11-10', '2017-11-26', '2011-05-22', '2010-05-02', '2013-02-15', '2014-01-08', '2010-09-12', '2012-02-08', '2012-10-08', '2017-10-27', '2012-06-08', '2012-04-10', '2013-08-16', '2011-03-31', '2011-07-15', '2017-02-08', '2012-02-10', '2016-12-17', '2016-07-18', '2012-11-12', '2018-01-29', '2016-02-16', '2010-12-06', '2017-10-20', '2010-02-23', '2010-03-06', '2018-04-02', '2013-04-06', '2018-02-27', '2016-04-07', '2011-03-10', '2010-06-20', '2011-06-29', '2012-03-07', '2016-06-12', '2016-04-30', '2012-01-05', '2013-01-24', '2015-11-23', '2011-07-11', '2016-07-19', '2015-01-06', '2010-02-24', '2010-02-06', '2016-06-13', '2014-01-10', '2016-08-19', '2014-06-30', '2014-11-25', '2012-04-02', '2013-02-11', '2012-04-22', '2010-10-08', '2016-10-19', '2016-01-10', '2015-01-02', '2017-05-20', '2014-09-26', '2012-05-22', '2016-05-05', '2018-02-24', '2015-01-15', '2016-11-10', '2010-08-04', '2011-05-21', '2014-09-15', '2017-07-17', '2013-01-11', '2015-02-10', '2016-06-02', '2010-07-05', '2017-01-05', '2017-03-03', '2015-06-19', '2011-09-04', '2013-11-03', '2011-11-03', '2010-12-27', '2013-06-07', '2012-03-25', '2016-03-22', '2014-08-14', '2016-07-09', '2012-10-25', '2013-12-23', '2011-07-19', '2014-04-18', '2018-03-17', '2015-09-20', '2017-05-13', '2018-04-06', '2013-07-25', '2012-12-13', '2014-06-06', '2012-10-06', '2016-04-22', '2013-03-11', '2011-02-27', '2015-09-21', '2016-10-13', '2013-11-11', '2011-12-20', '2015-03-08', '2012-06-23', '2016-12-03', '2015-09-09', '2017-12-13', '2016-07-01', '2017-12-25', '2017-05-15', '2015-09-01', '2012-05-17', '2016-04-14', '2017-01-29', '2012-04-01', '2012-09-02', '2015-05-24', '2015-09-28', '2010-04-14', '2014-01-07', '2015-01-01', '2012-01-16', '2012-04-08', '2017-07-12', '2015-11-04', '2013-04-25', '2018-03-25', '2013-03-12', '2013-08-02', '2010-07-08', '2011-04-04', '2015-04-04', '2010-08-12', '2011-08-08', '2010-12-26', '2017-02-23', '2010-09-24', '2012-10-12', '2014-04-17', '2015-01-27', '2011-08-14', '2016-02-19', '2013-03-06', '2012-06-12', '2013-10-20', '2014-01-29', '2015-08-27', '2010-03-19', '2017-12-01', '2014-01-14', '2015-05-20', '2011-12-10', '2013-07-03', '2016-10-08', '2010-11-16', '2013-06-08', '2016-09-30', '2016-09-08', '2013-11-01', '2012-05-16', '2016-06-20', '2011-04-07', '2013-07-02', '2010-07-18', '2016-03-29', '2017-04-08', '2010-12-07', '2013-10-23', '2013-09-12', '2012-07-16', '2014-12-09', '2018-01-30', '2014-08-07', '2017-01-09', '2015-01-26', '2014-10-24', '2012-09-19', '2010-12-05', '2010-12-29', '2016-12-09', '2015-03-09', '2011-05-27', '2015-03-05', '2011-09-13', '2017-09-07', '2017-08-30', '2011-10-16', '2011-09-29', '2012-09-12', '2015-09-07', '2011-04-02', '2011-10-19', '2012-09-06', '2017-06-20', '2010-03-20', '2013-07-05', '2015-09-15', '2014-01-16', '2014-02-18', '2010-07-06', '2015-12-21', '2016-01-06', '2016-06-10', '2015-10-17', '2013-12-20', '2015-04-10', '2010-07-30', '2011-07-18', '2015-07-11', '2016-06-29', '2010-02-03', '2018-01-12', '2011-07-05', '2011-09-27', '2016-07-05', '2010-10-07', '2016-03-21', '2013-12-21', '2016-12-08', '2013-09-11', '2017-05-29', '2014-09-14', '2014-07-17', '2010-01-23', '2018-01-18', '2017-06-28', '2017-08-02', '2013-10-17', '2014-12-22', '2018-01-07', '2017-12-10', '2011-04-27', '2013-09-22', '2012-03-31', '2012-06-01', '2011-05-31', '2017-12-14', '2013-05-03', '2017-06-07', '2018-03-20', '2010-05-24', '2017-12-24', '2015-05-21', '2012-01-17', '2015-07-12', '2016-03-20', '2013-12-24', '2010-04-11', '2013-08-10', '2016-10-24', '2017-04-26', '2011-10-23', '2017-12-23', '2012-04-17', '2015-12-31', '2016-05-13', '2014-03-27', '2017-08-22', '2016-08-17', '2017-10-01', '2010-01-17', '2015-04-14', '2017-01-15', '2011-05-13', '2016-04-21', '2011-03-07', '2010-01-07', '2013-01-28', '2014-07-18', '2010-05-21', '2016-12-25', '2012-09-03', '2012-07-21', '2010-11-06', '2013-04-16', '2010-05-08', '2015-06-17', '2017-10-15', '2017-05-24', '2011-12-03', '2010-10-09', '2012-01-08', '2012-05-05', '2010-09-03', '2016-12-31', '2010-07-12', '2012-10-27', '2012-09-23', '2015-06-01', '2011-12-06', '2013-03-02', '2011-05-14', '2012-10-26', '2013-08-19', '2012-07-26', '2012-07-03', '2011-05-04', '2012-03-24', '2014-12-25', '2017-04-27', '2014-05-04', '2010-06-01', '2012-03-15', '2011-07-10', '2014-03-13', '2013-12-15', '2010-07-07', '2017-11-03', '2014-04-21', '2010-07-17', '2016-08-25', '2014-03-04', '2014-03-02', '2010-08-03', '2012-08-16', '2017-02-11', '2011-01-11', '2016-11-13', '2018-01-26', '2013-04-14', '2012-04-12', '2013-02-27', '2018-01-19', '2012-01-04', '2017-10-17', '2017-09-05', '2013-03-04', '2017-05-16', '2015-04-01', '2015-07-01', '2016-11-01', '2013-06-01', '2017-11-05', '2016-09-29', '2015-12-25', '2015-06-23', '2011-11-09', '2016-11-08', '2016-06-04', '2015-08-01', '2011-09-09', '2013-07-19', '2011-05-12', '2012-06-26', '2015-03-07', '2013-03-24', '2010-12-01', '2010-03-05', '2012-04-28', '2018-01-08', '2013-08-05', '2018-01-14', '2015-08-30', '2010-10-04', '2014-05-07', '2013-12-13', '2015-10-14', '2016-07-24', '2013-08-04', '2014-10-16', '2015-06-14', '2015-12-14', '2010-03-29', '2016-04-19', '2017-04-19', '2010-11-12', '2012-06-19', '2014-11-14', '2017-11-30', '2013-01-05', '2013-03-18', '2017-04-25', '2016-01-27', '2016-01-07', '2012-07-19', '2011-12-04', '2010-06-16', '2010-04-05', '2017-10-09', '2016-02-09', '2013-06-16', '2011-07-14', '2016-02-29', '2017-06-19', '2016-03-05', '2016-07-30', '2016-08-30', '2017-06-01', '2016-01-11', '2016-01-04', '2012-03-11', '2011-09-02', '2016-04-01', '2017-10-25', '2016-12-30', '2014-08-29', '2016-12-16', '2017-02-07', '2010-07-22', '2014-04-26', '2010-10-03', '2010-04-27', '2012-02-02', '2012-04-25', '2018-04-04', '2017-12-06', '2012-09-24', '2010-01-28', '2010-10-30', '2010-08-30', '2010-09-10', '2017-06-09', '2011-01-19', '2016-09-27', '2016-10-02', '2010-06-24', '2017-06-06', '2015-09-04', '2017-01-23', '2015-05-04', '2016-03-11', '2011-04-29', '2017-03-31', '2011-12-14', '2015-02-13', '2011-01-08', '2018-02-26', '2015-10-09', '2011-02-13', '2013-04-27', '2013-12-01', '2015-10-01', '2014-04-22', '2013-08-22', '2010-04-30', '2015-08-21', '2012-02-09', '2013-11-28', '2011-07-20', '2017-10-29', '2017-03-07', '2012-01-30', '2012-10-17', '2012-10-20', '2017-08-29', '2015-05-17', '2016-06-05', '2015-05-23', '2012-03-30', '2017-04-20', '2014-11-02', '2017-02-04', '2017-08-14', '2013-06-30', '2011-12-17', '2011-04-22', '2010-08-20', '2011-02-19', '2013-02-04', '2011-06-05', '2013-02-21', '2017-02-10', '2016-12-10', '2010-04-08', '2017-01-28', '2016-05-07', '2010-11-14', '2012-12-15', '2015-07-08', '2013-06-26', '2011-09-01', '2010-03-17', '2010-05-10', '2010-03-11', '2010-01-15', '2016-08-13', '2015-06-30', '2016-10-17', '2013-12-06', '2010-08-16', '2017-06-15', '2016-03-17', '2013-01-26', '2011-09-10', '2013-09-07', '2015-09-17', '2012-05-09', '2017-02-17', '2016-07-12', '2014-10-26', '2010-01-16', '2011-10-15', '2012-05-11', '2015-10-31', '2012-10-07', '2017-11-06', '2010-05-22', '2014-12-29', '2013-12-11', '2011-08-19', '2010-01-29', '2011-05-08', '2013-07-15', '2017-02-21', '2017-02-18', '2014-03-26', '2015-04-17', '2013-06-22', '2018-03-21', '2013-10-19', '2016-08-24', '2014-09-06', '2011-12-27', '2017-11-24', '2015-06-25', '2016-12-18', '2012-03-04', '2012-10-15', '2015-12-13', '2017-11-04', '2012-09-28', '2010-05-16', '2012-03-22', '2012-09-25', '2015-09-02', '2013-10-10', '2012-03-26', '2015-06-15', '2015-11-25', '2016-03-03', '2013-06-02', '2011-08-21', '2018-03-23', '2016-06-30', '2017-05-07', '2012-11-28', '2015-12-02', '2011-06-22', '2016-04-24', '2018-03-30', '2013-05-20', '2010-11-26', '2011-06-07', '2014-11-08', '2011-01-13', '2014-10-02', '2013-08-31', '2016-03-25', '2013-06-14', '2010-12-15', '2016-11-17', '2012-03-03', '2016-07-04', '2016-02-17', '2015-08-08', '2017-11-11', '2017-12-26', '2012-11-29', '2012-02-28', '2014-06-14', '2013-08-13', '2013-03-13', '2014-03-24', '2013-05-30', '2014-01-18', '2011-04-19', '2011-02-10', '2017-09-29', '2014-04-28', '2016-02-15', '2017-12-19', '2012-03-23', '2011-09-15', '2015-08-07', '2014-05-18', '2014-06-25', '2014-03-31', '2017-09-24', '2016-11-30', '2010-05-26', '2011-04-12', '2015-12-18', '2010-02-11', '2013-06-27', '2015-07-29', '2015-01-30', '2013-04-13', '2014-01-30', '2015-05-08', '2014-01-31', '2012-11-09', '2010-10-27', '2012-04-09', '2017-03-04', '2010-10-06', '2011-09-16', '2010-04-22', '2011-12-09', '2017-04-29', '2013-10-04', '2010-02-17', '2012-04-07', '2018-02-17', '2015-01-19', '2016-08-20', '2011-06-03', '2011-07-01', '2014-04-02', '2010-12-16', '2012-07-14', '2011-04-16', '2015-08-04', '2016-09-07', '2014-06-21', '2014-11-16', '2013-09-10', '2010-01-18', '2010-02-22', '2014-07-01', '2016-09-06', '2010-02-14', '2010-07-10', '2016-03-01', '2010-10-12', '2014-04-04', '2014-12-06', '2015-11-20', '2011-10-28', '2017-02-19', '2013-10-22', '2011-10-12', '2013-07-21', '2010-07-31', '2013-05-02', '2014-11-21', '2015-10-25', '2011-09-28', '2017-05-31', '2017-08-10', '2010-08-13', '2017-08-19', '2017-03-11', '2015-08-22', '2014-10-03', '2011-06-18', '2013-09-03', '2017-07-08', '2012-02-14', '2013-01-23', '2013-02-13', '2016-03-18', '2018-02-18', '2017-01-31', '2014-03-25', '2010-03-13', '2011-06-19', '2011-02-21', '2015-05-09', '2012-12-16', '2013-02-19', '2017-05-23', '2015-04-22', '2017-08-31', '2011-04-13', '2013-10-27', '2011-08-28', '2015-05-14', '2016-03-24', '2015-12-17', '2014-09-19', '2010-04-01', '2014-01-17', '2010-12-14', '2014-08-08', '2013-09-13', '2010-10-14', '2017-07-14', '2011-07-22', '2017-12-27', '2010-02-10', '2015-12-24', '2015-01-11', '2010-12-18', '2013-11-26', '2011-11-24', '2010-04-19', '2012-08-09', '2016-11-19', '2012-11-01', '2010-10-10', '2013-10-25', '2010-11-10', '2010-03-27', '2013-12-18', '2013-11-17', '2014-01-11', '2011-04-11', '2015-11-24', '2015-01-22', '2012-02-15', '2012-06-10', '2012-04-29', '2012-12-31', '2010-04-20', '2010-05-13', '2011-11-15', '2017-02-22', '2012-01-01', '2015-07-22', '2013-07-23', '2016-10-14', '2012-09-10', '2010-10-25', '2010-01-22', '2011-11-23', '2012-09-21', '2016-03-13', '2012-02-20', '2017-03-06', '2012-06-27', '2012-11-06', '2013-11-05', '2010-12-10', '2012-03-14', '2011-11-11', '2018-03-08', '2011-10-09', '2014-04-20', '2017-12-21', '2015-02-04', '2017-11-12', '2017-04-16', '2012-01-27', '2012-10-02', '2010-11-17', '2016-09-16', '2017-05-25', '2015-01-10', '2018-03-29', '2012-02-22', '2013-11-20', '2014-07-02', '2010-10-29', '2013-09-20', '2016-03-27', '2015-10-07', '2012-06-25', '2016-11-20', '2017-02-26', '2015-04-11', '2016-10-30', '2012-08-02', '2013-08-03', '2012-11-15', '2012-05-25', '2010-01-20', '2015-02-26', '2015-06-22', '2010-04-24', '2010-07-13', '2017-04-09', '2014-09-07', '2011-02-26', '2012-12-22', '2011-06-26', '2017-09-02', '2016-10-27', '2015-03-26', '2017-01-14', '2013-05-13', '2013-05-18', '2015-10-11', '2016-07-17', '2018-04-01', '2010-01-04', '2013-05-28', '2017-07-09', '2012-04-18', '2010-01-05', '2018-04-03', '2016-07-02', '2010-01-03', '2018-04-07', '2018-04-08', '2010-01-01', '2010-01-02']\n"
     ]
    }
   ],
   "source": [
    "print(list(merged_df[\"delivery_date\"].unique()))"
   ]
  },
  {
   "cell_type": "code",
   "execution_count": 29,
   "id": "3ca979bb",
   "metadata": {},
   "outputs": [
    {
     "name": "stdout",
     "output_type": "stream",
     "text": [
      "[20140908, 20101125, 20100529, 20170129, 20170127, 20111002, 20121206, 20150517, 20170408, 20180107, 20150528, 20110701, 20160928, 20140225, 20140418, 20150510, 20130530, 20101225, 20110413, 20100801, 20100227, 20170606, 20120920, 20130723, 20111212, 20111209, 20150104, 20111222, 20120310, 20140101, 20100926, 20150117, 20100601, 20150615, 20160829, 20160612, 20140521, 20100219, 20110720, 20160402, 20130317, 20110410, 20120205, 20170922, 20110112, 20160207, 20120802, 20120128, 20130411, 20140516, 20150612, 20120401, 20140710, 20140627, 20150630, 20150811, 20151102, 20140610, 20140315, 20141015, 20101008, 20170307, 20131020, 20110210, 20161212, 20170525, 20170605, 20101229, 20110710, 20110630, 20150918, 20170225, 20160819, 20120622, 20170422, 20100308, 20121005, 20160909, 20180219, 20140320, 20170118, 20101201, 20101113, 20100723, 20100902, 20161022, 20180102, 20160203, 20160628, 20140815, 20160129, 20151107, 20120606, 20110603, 20160416, 20101124, 20180121, 20110918, 20100407, 20110522, 20100830, 20120718, 20160911, 20140708, 20160526, 20171201, 20120614, 20150122, 20120425, 20150319, 20110302, 20120123, 20160216, 20110716, 20140920, 20121130, 20100521, 20161220, 20150719, 20160209, 20151211, 20111124, 20130907, 20110303, 20151010, 20120822, 20150410, 20130302, 20170714, 20140125, 20141217, 20110123, 20160311, 20110618, 20120529, 20101002, 20141216, 20150701, 20120913, 20120301, 20120124, 20150210, 20110226, 20110619, 20091231, 20130604, 20140113, 20120821, 20151118, 20141122, 20160622, 20110114, 20160703, 20160429, 20120113, 20170729, 20110426, 20160726, 20100705, 20140110, 20171129, 20160103, 20171215, 20171219, 20160223, 20150514, 20160918, 20140613, 20120226, 20151216, 20140322, 20100410, 20171223, 20161120, 20120629, 20150516, 20110212, 20110801, 20120225, 20151202, 20130114, 20170405, 20150911, 20130121, 20150321, 20100516, 20150604, 20110830, 20100427, 20170722, 20150827, 20120107, 20100711, 20110601, 20110712, 20101031, 20151213, 20100118, 20170309, 20130210, 20151005, 20110905, 20130310, 20100525, 20130401, 20160705, 20170328, 20100604, 20120603, 20180116, 20160917, 20100904, 20151116, 20160229, 20160626, 20140310, 20171010, 20160405, 20140124, 20161227, 20180117, 20160321, 20111102, 20160530, 20101202, 20110129, 20121119, 20121207, 20140416, 20180209, 20110623, 20140816, 20130517, 20121003, 20150101, 20161031, 20101223, 20120213, 20140307, 20111225, 20110227, 20150902, 20100821, 20100205, 20130802, 20110817, 20141009, 20130107, 20140705, 20111019, 20110620, 20150313, 20141014, 20141002, 20160517, 20131230, 20120105, 20130815, 20120219, 20150906, 20141129, 20130413, 20100223, 20150204, 20160528, 20141125, 20130811, 20121123, 20140617, 20130118, 20150627, 20150903, 20170506, 20100808, 20140926, 20130319, 20130511, 20121228, 20150628, 20150503, 20171205, 20140213, 20160906, 20101120, 20170519, 20130813, 20111112, 20150401, 20100716, 20130326, 20160124, 20140208, 20110917, 20141021, 20171116, 20141105, 20100330, 20101025, 20161105, 20170607, 20121211, 20151222, 20120302, 20140601, 20121114, 20130821, 20141203, 20171028, 20121126, 20140126, 20151207, 20120206, 20141201, 20100905, 20180205, 20130124, 20110805, 20170908, 20160328, 20130529, 20111126, 20170816, 20150303, 20120620, 20120703, 20171031, 20120517, 20140205, 20160627, 20131228, 20170707, 20150505, 20131208, 20110802, 20170528, 20150904, 20100820, 20140415, 20180130, 20110513, 20100209, 20100313, 20130704, 20120813, 20150213, 20140916, 20130331, 20130721, 20170227, 20150930, 20161211, 20120528, 20101015, 20120117, 20100526, 20150913, 20100817, 20141130, 20130506, 20121006, 20170725, 20160425, 20120217, 20141218, 20150916, 20150619, 20171106, 20140917, 20100318, 20131103, 20130428, 20100712, 20120709, 20151124, 20150702, 20110325, 20130213, 20171107, 20100718, 20140424, 20100128, 20100317, 20151206, 20120414, 20100911, 20170513, 20171014, 20160914, 20130103, 20131107, 20150831, 20111013, 20170331, 20100401, 20121024, 20150807, 20111018, 20120706, 20150625, 20120722, 20120911, 20130915, 20130724, 20130123, 20140910, 20160221, 20160619, 20141016, 20130125, 20160327, 20120110, 20160704, 20121224, 20140423, 20120429, 20100323, 20150501, 20110916, 20150425, 20100813, 20140104, 20170105, 20160506, 20140507, 20171006, 20160401, 20110912, 20160201, 20160708, 20140522, 20151201, 20140718, 20171202, 20150810, 20120811, 20120224, 20160417, 20110206, 20140630, 20151007, 20111108, 20120714, 20110104, 20101116, 20110404, 20140902, 20120417, 20170502, 20140321, 20120408, 20110215, 20160303, 20140118, 20130626, 20120604, 20131105, 20101107, 20130607, 20170413, 20170126, 20160407, 20180305, 20141003, 20110130, 20141006, 20170708, 20130423, 20101027, 20171120, 20120325, 20120820, 20130330, 20171221, 20180220, 20110219, 20170719, 20140327, 20100126, 20161003, 20170113, 20150409, 20160428, 20140514, 20130924, 20180126, 20160317, 20150602, 20150828, 20111217, 20140508, 20130101, 20110126, 20100524, 20150206, 20150826, 20110216, 20170723, 20150920, 20180302, 20150609, 20111229, 20160907, 20131128, 20140102, 20110327, 20120511, 20120627, 20130324, 20120701, 20180105, 20141202, 20160315, 20120422, 20130718, 20131214, 20120801, 20141112, 20100831, 20130613, 20170808, 20170914, 20170610, 20141017, 20140912, 20150201, 20121231, 20171011, 20170204, 20100326, 20140804, 20130407, 20150207, 20111127, 20130514, 20170306, 20110523, 20130109, 20160322, 20110705, 20100504, 20120613, 20110331, 20121105, 20141029, 20160208, 20110401, 20121007, 20140807, 20131222, 20131016, 20130705, 20120115, 20160623, 20120510, 20170401, 20150224, 20120815, 20120330, 20120705, 20120806, 20151117, 20151109, 20101123, 20110313, 20160502, 20131101, 20130616, 20100704, 20100519, 20140809, 20161123, 20121014, 20161013, 20120319, 20120702, 20140201, 20100103, 20120626, 20160313, 20140107, 20120628, 20170321, 20101215, 20160901, 20161205, 20140614, 20131122, 20170418, 20150816, 20130316, 20120509, 20170706, 20120725, 20110111, 20131013, 20120621, 20130402, 20160117, 20161215, 20110204, 20100421, 20130828, 20110306, 20111219, 20170702, 20110810, 20150814, 20110627, 20150127, 20131116, 20170514, 20130819, 20100630, 20141206, 20100930, 20170207, 20151001, 20100727, 20111101, 20150304, 20160707, 20111008, 20140413, 20100115, 20170415, 20100104, 20170202, 20100414, 20150315, 20100102, 20100304, 20120406, 20141026, 20120605, 20120925, 20140304, 20141023, 20160427, 20131017, 20100112, 20130305, 20100527, 20140215, 20141230, 20110406, 20120114, 20151003, 20111206, 20120303, 20111207, 20121030, 20140526, 20100528, 20160507, 20120612, 20161126, 20130417, 20110906, 20120812, 20100603, 20130712, 20111025, 20130225, 20100721, 20130422, 20120730, 20170705, 20170527, 20140922, 20130419, 20161002, 20160131, 20120108, 20150704, 20100511, 20110110, 20110428, 20170704, 20120411, 20110807, 20151114, 20120415, 20161116, 20150220, 20170425, 20101224, 20160825, 20131024, 20160116, 20100823, 20180124, 20150912, 20130117, 20150723, 20170213, 20110105, 20130820, 20101226, 20140129, 20100303, 20170407, 20151017, 20130927, 20150521, 20150524, 20120120, 20130618, 20150211, 20171231, 20101214, 20150314, 20110402, 20110904, 20111011, 20130104, 20160513, 20170410, 20131213, 20091223, 20150927, 20160710, 20140412, 20170819, 20111021, 20140722, 20120601, 20140430, 20150519, 20150223, 20151127, 20111208, 20160318, 20120828, 20110730, 20161118, 20150214, 20110102, 20110521, 20131225, 20120506, 20120523, 20110113, 20150914, 20110514, 20180215, 20100222, 20121111, 20130116, 20140629, 20141208, 20130410, 20130406, 20140726, 20130325, 20120928, 20130829, 20140316, 20100315, 20110811, 20140402, 20100616, 20150429, 20171111, 20120423, 20120305, 20180103, 20131019, 20110923, 20131114, 20170322, 20170829, 20131110, 20110611, 20170813, 20180119, 20161101, 20100106, 20130120, 20130403, 20150722, 20170823, 20110903, 20150926, 20110725, 20130227, 20110221, 20150823, 20150818, 20160804, 20150819, 20130307, 20141123, 20111224, 20110728, 20100117, 20100226, 20171226, 20160920, 20151105, 20160822, 20110528, 20140108, 20170313, 20161106, 20131028, 20160921, 20120618, 20110526, 20140524, 20100918, 20180316, 20140801, 20100530, 20180201, 20100825, 20131226, 20161221, 20160824, 20120816, 20100523, 20150219, 20100217, 20151129, 20120723, 20140323, 20120711, 20100621, 20170201, 20170424, 20140906, 20120522, 20170907, 20170709, 20110829, 20120805, 20150322, 20100325, 20101109, 20140506, 20130827, 20140123, 20171017, 20140226, 20140531, 20100709, 20130322, 20151126, 20160821, 20110304, 20110911, 20141209, 20141001, 20170828, 20131201, 20170406, 20160603, 20121225, 20120817, 20150727, 20101122, 20151224, 20120328, 20180125, 20140117, 20120918, 20110702, 20110821, 20150226, 20111004, 20100129, 20130315, 20150218, 20170426, 20140706, 20100707, 20130914, 20140405, 20160729, 20140711, 20101018, 20100910, 20130115, 20140429, 20140729, 20180226, 20150215, 20160504, 20120728, 20130414, 20150901, 20110108, 20160409, 20140927, 20170327, 20120208, 20100710, 20120908, 20160728, 20180110, 20110715, 20141128, 20140517, 20130215, 20100206, 20160204, 20170807, 20151028, 20110320, 20171204, 20130708, 20151101, 20120416, 20120907, 20110314, 20170101, 20131010, 20151016, 20170930, 20151014, 20120807, 20151208, 20140510, 20160219, 20130817, 20100901, 20100518, 20120228, 20160618, 20151231, 20150618, 20131015, 20101001, 20100225, 20150710, 20130128, 20111107, 20101030, 20170329, 20110722, 20131202, 20120513, 20120315, 20160927, 20131021, 20150404, 20141127, 20130416, 20120101, 20170104, 20161109, 20120427, 20120508, 20171229, 20100912, 20170626, 20131005, 20160923, 20150131, 20100130, 20120215, 20120804, 20131215, 20161117, 20120130, 20120419, 20110119, 20100309, 20170120, 20110301, 20110808, 20120927, 20150307, 20150430, 20140529, 20121213, 20110128, 20160301, 20130221, 20150614, 20150815, 20130706, 20151108, 20110117, 20100714, 20110814, 20140719, 20131023, 20141104, 20120803, 20140502, 20111111, 20151011, 20100127, 20111114, 20100730, 20150822, 20160913, 20160711, 20120502, 20130917, 20180223, 20131113, 20150721, 20151023, 20120214, 20110629, 20100722, 20140421, 20111001, 20120515, 20140810, 20170317, 20150917, 20121020, 20120902, 20100827, 20170618, 20130807, 20120403, 20151121, 20100124, 20151123, 20160702, 20170103, 20131001, 20160905, 20170919, 20140803, 20100405, 20160709, 20130707, 20100628, 20120320, 20151004, 20170223, 20160206, 20100607, 20151015, 20150526, 20130814, 20161103, 20120624, 20150531, 20110824, 20110103, 20120521, 20130208, 20111115, 20131030, 20111201, 20100110, 20130122, 20121127, 20100804, 20120720, 20121229, 20120713, 20140222, 20110602, 20151223, 20170718, 20150408, 20101101, 20150421, 20100113, 20161019, 20160225, 20101019, 20151214, 20111211, 20160120, 20170622, 20141119, 20150925, 20170423, 20180109, 20140325, 20100502, 20151113, 20170218, 20121103, 20171109, 20130625, 20140127, 20150121, 20110322, 20171103, 20150726, 20151029, 20130921, 20140911, 20160730, 20160410, 20140309, 20141024, 20160715, 20100617, 20160520, 20111119, 20170221, 20160113, 20160112, 20121022, 20160723, 20160304, 20160329, 20130520, 20130502, 20171007, 20171113, 20160119, 20130923, 20150915, 20171210, 20180211, 20170814, 20101111, 20110529, 20160613, 20140821, 20120708, 20110106, 20120412, 20150518, 20140905, 20170822, 20140623, 20101106, 20150626, 20130630, 20160331, 20140620, 20170715, 20130531, 20110827, 20111014, 20151012, 20110614, 20170320, 20110729, 20151220, 20140918, 20170216, 20180222, 20120914, 20171213, 20140728, 20110203, 20170112, 20170417, 20170531, 20100119, 20120201, 20161028, 20140825, 20130627, 20110813, 20121025, 20170901, 20170928, 20100123, 20110120, 20120527, 20160717, 20150116, 20170312, 20140109, 20141101, 20151026, 20160827, 20130510, 20150120, 20140328, 20110218, 20161224, 20101003, 20130308, 20120526, 20101211, 20130306, 20130808, 20130617, 20171216, 20120824, 20150110, 20110504, 20151221, 20100411, 20160515, 20130702, 20130504, 20140621, 20120413, 20100925, 20120710, 20141124, 20140428, 20110724, 20120617, 20140817, 20101011, 20130919, 20150129, 20120327, 20130427, 20130516, 20120607, 20111109, 20130513, 20170916, 20130503, 20100321, 20141214, 20150515, 20161016, 20151229, 20180210, 20110326, 20160218, 20161001, 20131027, 20100513, 20100913, 20170811, 20170314, 20111117, 20170820, 20121102, 20131031, 20130508, 20150111, 20160605, 20180315, 20120216, 20130622, 20161024, 20160731, 20160908, 20110901, 20120901, 20120630, 20140822, 20120524, 20150525, 20160607, 20120121, 20111012, 20100713, 20140318, 20130318, 20180308, 20161008, 20130405, 20180309, 20150225, 20150316, 20141107, 20120313, 20130729, 20131217, 20100828, 20170217, 20140209, 20140616, 20111203, 20110816, 20091221, 20141211, 20130320, 20141204, 20170330, 20120919, 20130601, 20130629, 20130824, 20160815, 20130224, 20111030, 20170304, 20150424, 20160424, 20110305, 20110208, 20111226, 20161225, 20110427, 20170817, 20140811, 20111009, 20171030, 20120625, 20110422, 20160903, 20150317, 20130108, 20171224, 20160813, 20150306, 20100812, 20170128, 20151212, 20110315, 20130818, 20170917, 20160211, 20150929, 20180228, 20140814, 20150302, 20121216, 20121016, 20130429, 20171108, 20141018, 20170601, 20121226, 20101024, 20141210, 20100505, 20170616, 20120504, 20100109, 20120202, 20161004, 20151019, 20130730, 20121118, 20160107, 20100320, 20111005, 20170730, 20100726, 20170319, 20170414, 20121106, 20130615, 20161018, 20101217, 20170403, 20170617, 20151130, 20131109, 20130908, 20160805, 20111204, 20110109, 20140217, 20160108, 20120204, 20150611, 20140605, 20150730, 20131221, 20180218, 20130911, 20151215, 20130904, 20110417, 20171125, 20160808, 20120514, 20121210, 20150511, 20100917, 20110209, 20160716, 20100307, 20161015, 20170716, 20111210, 20150708, 20150330, 20110512, 20170611, 20101023, 20170728, 20120430, 20110927, 20150624, 20161230, 20130509, 20141108, 20151021, 20171212, 20180202, 20131203, 20170731, 20150216, 20151230, 20101020, 20140303, 20171101, 20160418, 20151227, 20101004, 20130929, 20120923, 20151031, 20161021, 20130102, 20110822, 20160115, 20121116, 20131121, 20130518, 20161206, 20130217, 20180214, 20150509, 20160924, 20110415, 20150123, 20120912, 20140419, 20171021, 20150205, 20120716, 20100903, 20160929, 20120119, 20100806, 20110605, 20151104, 20150714, 20170801, 20140704, 20171104, 20150718, 20140515, 20140202, 20151025, 20170926, 20100520, 20121108, 20130323, 20171203, 20121203, 20180227, 20170604, 20120227, 20140414, 20110223, 20110929, 20121002, 20141005, 20150426, 20170325, 20160105, 20110116, 20150806, 20130314, 20130620, 20120331, 20160820, 20141231, 20121221, 20171118, 20130928, 20171209, 20121223, 20151006, 20140503, 20160415, 20120131, 20161108, 20150417, 20170724, 20150731, 20160122, 20130226, 20160811, 20121023, 20100302, 20110706, 20100114, 20161121, 20141106, 20130825, 20120910, 20160527, 20110909, 20130303, 20111120, 20130826, 20150128, 20150126, 20160423, 20130522, 20110505, 20120421, 20180306, 20140305, 20161217, 20110616, 20141118, 20130220, 20140819, 20110610, 20110721, 20121017, 20130113, 20120525, 20140904, 20160902, 20101130, 20100818, 20100614, 20140824, 20100417, 20150320, 20101205, 20110815, 20150910, 20091224, 20141102, 20161005, 20101121, 20100624, 20121113, 20161104, 20130719, 20130606, 20130216, 20130212, 20120904, 20170806, 20170305, 20141010, 20160215, 20110312, 20151112, 20131022, 20161017, 20160511, 20150613, 20100629, 20150107, 20130709, 20170824, 20101228, 20111205, 20160426, 20100814, 20100228, 20121227, 20150830, 20160810, 20100329, 20110624, 20100702, 20150415, 20100724, 20170228, 20100208, 20101005, 20111028, 20170918, 20120809, 20151013, 20160720, 20140523, 20130130, 20130703, 20150217, 20141007, 20141228, 20110704, 20150406, 20150529, 20101210, 20100622, 20141012, 20111221, 20150202, 20140206, 20150921, 20141121, 20170920, 20160106, 20161110, 20151218, 20101219, 20161226, 20120608, 20100406, 20161228, 20160919, 20130206, 20150308, 20130523, 20170205, 20110922, 20150709, 20161020, 20091230, 20150106, 20101230, 20100508, 20170625, 20161214, 20110423, 20140730, 20110414, 20121109, 20140707, 20170505, 20120726, 20101216, 20100927, 20150715, 20140925, 20120615, 20150328, 20140519, 20110412, 20131018, 20150712, 20120922, 20130910, 20100212, 20141011, 20110609, 20101227, 20141110, 20170316, 20131026, 20170131, 20120402, 20161114, 20170318, 20140401, 20110308, 20150228, 20180106, 20121214, 20150617, 20150606, 20140622, 20160128, 20150802, 20110420, 20120729, 20101010, 20110122, 20121101, 20110118, 20110131, 20150414, 20150508, 20150109, 20100220, 20170612, 20100822, 20101022, 20110318, 20111227, 20150530, 20161113, 20160220, 20160629, 20160505, 20110727, 20170521, 20161030, 20141226, 20130711, 20170226, 20110121, 20101108, 20131029, 20141205, 20131108, 20160309, 20120823, 20131125, 20150620, 20121120, 20160307, 20160816, 20120906, 20130610, 20140306, 20170404, 20160430, 20160529, 20180101, 20161209, 20140120, 20121018, 20160510, 20091229, 20130831, 20140106, 20120404, 20161119, 20100805, 20130602, 20170512, 20160519, 20160125, 20150817, 20141120, 20150813, 20170905, 20160324, 20121021, 20160210, 20130901, 20111007, 20141013, 20130608, 20160609, 20130913, 20140417, 20110607, 20130909, 20111218, 20110309, 20170115, 20110828, 20140929, 20150812, 20161127, 20170815, 20130614, 20170106, 20120223, 20150923, 20160512, 20140626, 20150403, 20111106, 20130126, 20140715, 20130219, 20120126, 20131126, 20140608, 20111231, 20140302, 20100922, 20121205, 20120903, 20161010, 20130309, 20161014, 20140420, 20180120, 20121209, 20111214, 20151002, 20140212, 20130806, 20141103, 20110726, 20110908, 20150301, 20121009, 20130922, 20170412, 20160601, 20140407, 20130211, 20161231, 20170710, 20101212, 20140829, 20160508, 20110803, 20151030, 20171130, 20110507, 20100816, 20100314, 20110225, 20140313, 20130714, 20150601, 20131129, 20111202, 20151009, 20160308, 20140317, 20100924, 20180304, 20100218, 20161025, 20160608, 20160422, 20140709, 20110201, 20150928, 20100507, 20100107, 20120712, 20160523, 20161210, 20110713, 20160325, 20171211, 20130321, 20110205, 20150405, 20110820, 20120112, 20140403, 20110621, 20121013, 20171208, 20161122, 20180212, 20170520, 20171117, 20111228, 20160419, 20131209, 20110615, 20101207, 20160830, 20170409, 20131111, 20110516, 20140921, 20171112, 20130728, 20150305, 20120531, 20170909, 20170927, 20160727, 20150325, 20120808, 20141213, 20170809, 20160817, 20170326, 20150522, 20100402, 20160522, 20140301, 20110812, 20140512, 20170929, 20110708, 20131216, 20140228, 20120405, 20141111, 20170526, 20130812, 20100101, 20121222, 20150506, 20141020, 20100419, 20180115, 20131118, 20121217, 20131210, 20100215, 20170419, 20130131, 20100915, 20120611, 20160620, 20120715, 20141019, 20170504, 20130816, 20130727, 20150621, 20170721, 20170203, 20100422, 20110709, 20130204, 20130202, 20130304, 20130112, 20101016, 20140628, 20110317, 20110508, 20111104, 20120915, 20170915, 20130409, 20150222, 20110424, 20110530, 20151209, 20110517, 20150209, 20110503, 20161107, 20121004, 20150420, 20111017, 20120930, 20160412, 20140329, 20140207, 20140604, 20170219, 20101213, 20130823, 20141022, 20121026, 20130809, 20160722, 20161223, 20140501, 20160826, 20100514, 20170211, 20110323, 20110101, 20131102, 20121110, 20110714, 20170117, 20130925, 20171019, 20131002, 20140520, 20141227, 20150905, 20111116, 20140716, 20140528, 20150909, 20170712, 20111029, 20120229, 20131119, 20130805, 20150227, 20141115, 20100116, 20100412, 20150523, 20140713, 20110403, 20130804, 20160719, 20160330, 20161208, 20110418, 20170910, 20120116, 20100216, 20161007, 20141117, 20150513, 20170602, 20100105, 20131009, 20130312, 20111125, 20150427, 20110207, 20160814, 20100425, 20170522, 20151210, 20110612, 20100319, 20120512, 20130902, 20140901, 20170608, 20170726, 20160411, 20160712, 20120424, 20170108, 20101029, 20121230, 20160818, 20140131, 20161009, 20130214, 20171002, 20171228, 20141025, 20110711, 20150119, 20110707, 20171110, 20130930, 20161026, 20111110, 20100306, 20120104, 20170501, 20130129, 20170630, 20140425, 20140806, 20150125, 20101102, 20091220, 20130424, 20130512, 20120426, 20120103, 20110501, 20110311, 20180108, 20100811, 20130313, 20140702, 20171018, 20110307, 20140714, 20170509, 20160812, 20161203, 20150413, 20110519, 20160915, 20140204, 20100606, 20120409, 20110925, 20111122, 20111022, 20150805, 20171027, 20100916, 20111121, 20121012, 20130328, 20120109, 20140720, 20100213, 20170713, 20130119, 20160213, 20131025, 20150728, 20100121, 20110115, 20160916, 20131014, 20141222, 20120407, 20151226, 20180312, 20151103, 20150221, 20170308, 20150622, 20110502, 20091219, 20151219, 20100413, 20110731, 20150502, 20160615, 20110924, 20151128, 20120830, 20150803, 20180207, 20160625, 20170921, 20121112, 20100819, 20140219, 20120717, 20140724, 20170803, 20160718, 20171121, 20171026, 20150603, 20141225, 20110825, 20140122, 20140602, 20131207, 20101007, 20141219, 20160725, 20141028, 20160606, 20140618, 20100810, 20161201, 20160110, 20170208, 20140119, 20120520, 20111213, 20140210, 20111118, 20110408, 20111113, 20170311, 20101119, 20101118, 20130528, 20170303, 20101014, 20140223, 20180224, 20170123, 20120203, 20150324, 20101128, 20140130, 20100328, 20170324, 20170623, 20130731, 20100627, 20150804, 20101104, 20160408, 20161006, 20120909, 20170827, 20151228, 20141004, 20121220, 20160126, 20150203, 20140903, 20160806, 20120917, 20160509, 20110411, 20150318, 20171024, 20160118, 20180127, 20180208, 20101006, 20160323, 20100224, 20110518, 20180216, 20121125, 20170620, 20120129, 20120209, 20140828, 20120616, 20121008, 20110819, 20170518, 20161115, 20140326, 20130505, 20160922, 20180111, 20100807, 20171127, 20130519, 20170427, 20160421, 20121028, 20160524, 20140224, 20121122, 20120619, 20170428, 20170810, 20140409, 20130912, 20140827, 20101028, 20170727, 20170911, 20151119, 20150821, 20170913, 20100719, 20110617, 20171016, 20161102, 20100717, 20171004, 20170421, 20170925, 20120602, 20120929, 20171122, 20101012, 20171222, 20130430, 20130201, 20170110, 20110823, 20150707, 20100802, 20100515, 20140727, 20180131, 20130619, 20120418, 20100131, 20160222, 20110524, 20130725, 20120814, 20110321, 20170924, 20180310, 20111006, 20100324, 20141109, 20100602, 20140624, 20150402, 20161011, 20140805, 20110531, 20101021, 20170624, 20131112, 20170515, 20110509, 20130311, 20100428, 20131120, 20110723, 20150114, 20120111, 20170516, 20180213, 20151122, 20150824, 20130609, 20161202, 20121124, 20120316, 20150428, 20100517, 20101221, 20120221, 20150527, 20141116, 20100301, 20130715, 20160503, 20130713, 20140823, 20150504, 20150329, 20140203, 20100611, 20150411, 20160316, 20180118, 20141223, 20170524, 20160621, 20130710, 20170821, 20100728, 20160123, 20151225, 20180206, 20110506, 20120317, 20161130, 20140319, 20101105, 20100909, 20110429, 20130209, 20160320, 20130905, 20151020, 20131227, 20170209, 20171022, 20150105, 20130726, 20160721, 20151205, 20170629, 20160807, 20150507, 20121029, 20130218, 20180123, 20101126, 20171012, 20180314, 20160228, 20180221, 20160314, 20110220, 20130223, 20120501, 20130605, 20100331, 20160414, 20131205, 20100625, 20140331, 20100202, 20100122, 20160604, 20160925, 20171025, 20141113, 20120323, 20160823, 20170805, 20100921, 20130701, 20170102, 20111123, 20130418, 20171217, 20180225, 20160904, 20121121, 20160420, 20100720, 20130228, 20121208, 20170411, 20160212, 20171119, 20120410, 20140116, 20160226, 20160803, 20180307, 20161216, 20100809, 20140615, 20110407, 20110328, 20100701, 20130822, 20101208, 20171128, 20101222, 20131104, 20150623, 20110228, 20140609, 20160930, 20121011, 20110211, 20170416, 20180112, 20140427, 20100615, 20170430, 20140820, 20150908, 20121129, 20131219, 20140525, 20120926, 20121215, 20150311, 20160104, 20140404, 20140830, 20170124, 20130527, 20170429, 20170530, 20140527, 20110606, 20110511, 20120819, 20111128, 20120818, 20130426, 20100305, 20170507, 20141027, 20150605, 20150724, 20130420, 20111223, 20101114, 20170510, 20170111, 20160611, 20160610, 20120326, 20180303, 20161222, 20170703, 20101112, 20150326, 20121218, 20120519, 20150323, 20110124, 20101203, 20110107, 20171008, 20131011, 20140220, 20140311, 20100907, 20120921, 20130421, 20160202, 20120721, 20160102, 20160724, 20110626, 20110914, 20130205, 20110224, 20170902, 20150907, 20140913, 20120428, 20130105, 20110324, 20120420, 20140619, 20110213, 20140606, 20131218, 20170614, 20111220, 20101117, 20150115, 20111026, 20151018, 20120707, 20150711, 20131231, 20110804, 20110527, 20110628, 20150113, 20120318, 20120829, 20121001, 20140612, 20141221, 20140530, 20120222, 20170215, 20140831, 20160912, 20120102, 20170619, 20170825, 20171029, 20110319, 20160109, 20160706, 20140703, 20100609, 20160306, 20141126, 20160214, 20101017, 20170212, 20120211, 20111003, 20140607, 20160130, 20100923, 20170812, 20120719, 20140312, 20160312, 20110907, 20131206, 20110310, 20171001, 20151120, 20110613, 20110930, 20150919, 20140919, 20160630, 20130621, 20130717, 20140121, 20170315, 20110127, 20131007, 20170107, 20100920, 20131003, 20150309, 20100322, 20120321, 20120505, 20120518, 20100207, 20100619, 20161207, 20121204, 20100423, 20171218, 20111216, 20100623, 20160302, 20100120, 20110920, 20150412, 20120307, 20120731, 20110717, 20100618, 20160809, 20150820, 20170802, 20150829, 20140826, 20140723, 20140218, 20160910, 20170109, 20111129, 20140211, 20100708, 20110921, 20140701, 20150608, 20140721, 20130111, 20100509, 20161112, 20110329, 20171009, 20110515, 20150720, 20180104, 20140314, 20140603, 20160217, 20170711, 20150208, 20160616, 20100404, 20111010, 20130918, 20100824, 20170615, 20150706, 20130412, 20150825, 20161213, 20101009, 20141207, 20140308, 20120831, 20110913, 20100409, 20150512, 20160326, 20110421, 20140518, 20100914, 20140227, 20180113, 20150416, 20100506, 20141114, 20110419, 20140214, 20130408, 20100125, 20170206, 20170912, 20150705, 20140324, 20171214, 20170310, 20150423, 20150725, 20100420, 20110910, 20170121, 20170302, 20100211, 20100725, 20160521, 20150713, 20110915, 20141215, 20141229, 20160413, 20170323, 20140128, 20150924, 20130716, 20121115, 20150809, 20100908, 20131127, 20111105, 20131204, 20140928, 20140930, 20100703, 20140505, 20140216, 20180217, 20130903, 20160525, 20171023, 20120308, 20100610, 20160828, 20170402, 20111230, 20151027, 20100221, 20130801, 20130301, 20170609, 20100424, 20100416, 20151203, 20100429, 20160516, 20171102, 20170210, 20171005, 20120609, 20161218, 20171105, 20140813, 20161125, 20170130, 20130106, 20170621, 20101220, 20121031, 20150327, 20130612, 20170826, 20111215, 20121128, 20150331, 20120827, 20130415, 20110806, 20110520, 20120220, 20151217, 20170116, 20161027, 20171126, 20100210, 20100706, 20110826, 20171124, 20120825, 20151204, 20111016, 20140422, 20120810, 20140511, 20170603, 20160614, 20100430, 20130404, 20100612, 20161111, 20160531, 20121117, 20110409, 20150422, 20140818, 20110818, 20130526, 20120503, 20140105, 20100829, 20140717, 20110202, 20130628, 20120218, 20161012, 20170628, 20130611, 20130501, 20140725, 20130810, 20151106, 20120118, 20150808, 20120724, 20110703, 20131117, 20140115, 20091225, 20100729, 20170903, 20161129, 20140712, 20121107, 20120304, 20170613, 20151008, 20170122, 20170222, 20171206, 20160701, 20131211, 20130906, 20120324, 20110316, 20130425, 20161023, 20120309, 20151110, 20120530, 20130803, 20100929, 20121201, 20131115, 20100426, 20170831, 20130203, 20160205, 20170214, 20101206, 20100510, 20130623, 20130110, 20100803, 20120106, 20161204, 20131212, 20130207, 20131008, 20100906, 20110416, 20110926, 20171020, 20110217, 20150102, 20120704, 20161219, 20100204, 20100108, 20140808, 20100731, 20170517, 20110510, 20131006, 20151022, 20180129, 20140513, 20170904, 20140426, 20100310, 20101204, 20180301, 20170125, 20140731, 20150212, 20161124, 20110625, 20100408, 20100522, 20120207, 20100531, 20160114, 20101110, 20150629, 20131004, 20120312, 20130830, 20130327, 20110809, 20100316, 20180128, 20170804, 20160602, 20110425, 20101231, 20141030, 20110608, 20170119, 20160310, 20150124, 20171225, 20110919, 20100815, 20170627, 20100403, 20111130, 20131223, 20100512, 20161229, 20130525, 20110902, 20110430, 20150801, 20100214, 20111031, 20160802, 20131224, 20120924, 20111020, 20140914, 20130720, 20101103, 20121015, 20170830, 20120516, 20160127, 20160111, 20160403, 20160406, 20100826, 20121219, 20170906, 20111023, 20150419, 20131130, 20130507, 20110125, 20130329, 20100501, 20121104, 20120329, 20140112, 20171015, 20140111, 20131124, 20171227, 20121212, 20130722, 20170220, 20091227, 20171123, 20141212, 20140509, 20100613, 20140812, 20160926, 20161029, 20120507, 20101026, 20101218, 20101013, 20160801, 20130524, 20100620, 20170114, 20100605, 20150130, 20140625, 20151115, 20110214, 20160518, 20140907, 20140410, 20130926, 20160319, 20150112, 20170701, 20150616, 20160831, 20110622, 20170508, 20140330, 20170511, 20131229, 20100312, 20150310, 20101209, 20121202, 20130624, 20110330, 20160121, 20110831, 20170523, 20151111, 20150520, 20150717, 20110928, 20130916, 20171114, 20160101, 20171013, 20150418, 20171115, 20140406, 20180204, 20140924, 20140611, 20140221, 20150108, 20100111, 20100626, 20101115, 20160305, 20140923, 20120322, 20100311, 20170818, 20110604, 20151024, 20091228, 20140915, 20120314, 20150610, 20120306, 20110525, 20141220, 20160714, 20170717, 20100327, 20180114, 20170923, 20091222, 20161128, 20131220, 20160227, 20120127, 20120311, 20141224, 20140802, 20140408, 20131012, 20160514, 20140504, 20100715, 20150118, 20140103, 20111024, 20170420, 20100928, 20130127, 20150703, 20170720, 20150729, 20120210, 20130222, 20100415, 20110405, 20101129, 20120610, 20100418, 20110719, 20130515, 20110222, 20110718, 20120916, 20121027, 20131123, 20180203, 20130920, 20111103, 20151125, 20130521, 20171220, 20180122, 20121019, 20100608, 20120212, 20141031, 20140411, 20120905, 20111015, 20160501, 20120826, 20101127, 20100503, 20141008, 20160617, 20160224, 20170529, 20170224, 20150407, 20100203, 20140909, 20121010, 20100201, 20170301, 20100919, 20120623, 20091226, 20150922, 20180318, 20171230, 20140114, 20171207, 20160404, 20111027, 20171003, 20150607, 20160713, 20131106, 20120125, 20180313, 20180311, 20150103, 20130603, 20120727, 20150716, 20120122, 20150312, 20170503, 20160624, 20180317, 20180319]\n"
     ]
    }
   ],
   "source": [
    "print(list(merged_df[\"production_date\"].unique()))"
   ]
  },
  {
   "cell_type": "code",
   "execution_count": 39,
   "id": "3fc75271",
   "metadata": {},
   "outputs": [
    {
     "data": {
      "text/plain": [
       "array([0.2, 0.1, 0.4, nan, 0.3])"
      ]
     },
     "execution_count": 39,
     "metadata": {},
     "output_type": "execute_result"
    }
   ],
   "source": [
    "merged_df[\"discount\"].unique()"
   ]
  },
  {
   "cell_type": "code",
   "execution_count": 40,
   "id": "51895e54",
   "metadata": {},
   "outputs": [
    {
     "data": {
      "text/plain": [
       "array([19, 56, 37, 14, 12, 16, 28, 94, 55, 74, 47, 62, 49, 95, 70, 41, 69,\n",
       "       80, 58, 86, 76, 60, 71, 38, 26, 25, 57, 13, 39, 99, 96, 24, 48, 34,\n",
       "       67, 89, 42, 43, 30, 84, 17, 52, 11, 61, 72, 92, 36, 98, 59, 91, 87,\n",
       "       22, 97, 27, 83, 33, 20, 81, 65, 64, 93, 75, 82, 50, 78, 44, 73, 29,\n",
       "       23, 68, 85, 31, 63, 88, 21, 53, 32, 15, 51, 10, 77, 45, 66, 79, 46,\n",
       "       35, 40, 90, 18, 54], dtype=int64)"
      ]
     },
     "execution_count": 40,
     "metadata": {},
     "output_type": "execute_result"
    }
   ],
   "source": [
    "merged_df[\"ordered\"].unique()"
   ]
  },
  {
   "cell_type": "code",
   "execution_count": 41,
   "id": "2038832c",
   "metadata": {},
   "outputs": [
    {
     "data": {
      "text/plain": [
       "array([16, 37, 23,  3,  9,  6, 17, 75, 40, 64, 55, 13, 38, 48, 81, 70, 32,\n",
       "       53, 63, 58, 51, 79, 43, 59, 27, 20, 56, 41, -3,  1, 62, 82, 92,  5,\n",
       "        7, 77, 24, 26, 71, 47, 57, 46,  4, -7, 54, 72, 19, 45, 34, 11, 80,\n",
       "       42, 90, 14,  8, 73, 61, 22, 67, 49, 78, 99, 60, 84, 68, 29, 21, 18,\n",
       "       15, 89, 25, 44, 12, -2, 31, 69, 85, 36, 91, 76, 83, 33, 50, 52,  2,\n",
       "       35, 66, 86, 30, 88, 87, 28, 93, 74, 65, -4, 39, 10,  0, -5, -6, 95,\n",
       "       -8, 94, 96, 97, -1, -9, 98], dtype=int64)"
      ]
     },
     "execution_count": 41,
     "metadata": {},
     "output_type": "execute_result"
    }
   ],
   "source": [
    "merged_df[\"quantity\"].unique()"
   ]
  },
  {
   "cell_type": "code",
   "execution_count": 42,
   "id": "42026475",
   "metadata": {},
   "outputs": [
    {
     "data": {
      "text/plain": [
       "array([nan])"
      ]
     },
     "execution_count": 42,
     "metadata": {},
     "output_type": "execute_result"
    }
   ],
   "source": [
    "merged_df[\"region\"].unique()"
   ]
  },
  {
   "cell_type": "code",
   "execution_count": 43,
   "id": "4963d456",
   "metadata": {},
   "outputs": [
    {
     "data": {
      "text/plain": [
       "array(['T', 'TF', '?', 'TC'], dtype=object)"
      ]
     },
     "execution_count": 43,
     "metadata": {},
     "output_type": "execute_result"
    }
   ],
   "source": [
    "merged_df[\"additional_delivery_cost\"].unique()"
   ]
  },
  {
   "cell_type": "code",
   "execution_count": 44,
   "id": "49b687f0",
   "metadata": {},
   "outputs": [
    {
     "data": {
      "text/plain": [
       "array(['Poznan_Stockholm', 'Krakow_Palermo', 'Poznan_Nairobi', 'Wroclaw_',\n",
       "       'Krakow_Marseille', 'Wroclaw_Denver', 'Wroclaw_Marseille',\n",
       "       'Krakow_Oslo', 'Krakow_Madrid', 'Warsaw_Tokyo', 'Poznan_Palermo',\n",
       "       'Warsaw_Oslo', 'Warsaw_Milwaukee', 'Wroclaw_Berlin',\n",
       "       'Krakow_Lisbon', 'Poznan_', 'Poznan_Tokyo', 'Poznan_Lisbon',\n",
       "       'Warsaw_', 'Krakow_Manila', 'Wroclaw_Bogotá',\n",
       "       'Krakow_Río de Janeiro', 'Wroclaw_Tokyo', 'Krakow_Moscow',\n",
       "       'Wroclaw_Nairobi', 'Warsaw_Madrid', 'Poznan_Denver',\n",
       "       'Wroclaw_Río de Janeiro', 'Poznan_Bogotá', 'Krakow_',\n",
       "       'Poznan_Madrid', 'Wroclaw_Palermo', 'Wroclaw_Oslo',\n",
       "       'Wroclaw_Milwaukee', 'Warsaw_Berlin', 'Warsaw_Marseille',\n",
       "       'Poznan_Milwaukee', 'Krakow_Denver', 'Warsaw_Stockholm',\n",
       "       'Wroclaw_Stockholm', 'Warsaw_Nairobi', 'Poznan_Moscow',\n",
       "       'Warsaw_Moscow', 'Wroclaw_Manila', 'Krakow_Nairobi',\n",
       "       'Krakow_Tokyo', 'Warsaw_Río de Janeiro', 'Krakow_Berlin',\n",
       "       'Krakow_Bogotá', 'Krakow_Milwaukee', 'Poznan_Berlin',\n",
       "       'Warsaw_Palermo', 'Warsaw_Lisbon', 'Poznan_Manila',\n",
       "       'Krakow_Stockholm', 'Warsaw_Bogotá', 'Poznan_Río de Janeiro',\n",
       "       'Warsaw_Manila', 'Warsaw_Denver', 'Poznan_Marseille',\n",
       "       'Wroclaw_Lisbon', 'Wroclaw_Moscow', 'Poznan_Oslo',\n",
       "       'Wroclaw_Madrid'], dtype=object)"
      ]
     },
     "execution_count": 44,
     "metadata": {},
     "output_type": "execute_result"
    }
   ],
   "source": [
    "merged_df[\"wrh_city\"].unique()"
   ]
  },
  {
   "cell_type": "code",
   "execution_count": 45,
   "id": "8cedef73",
   "metadata": {},
   "outputs": [
    {
     "data": {
      "text/plain": [
       "array([99,  7,  5,  9], dtype=int64)"
      ]
     },
     "execution_count": 45,
     "metadata": {},
     "output_type": "execute_result"
    }
   ],
   "source": [
    "merged_df[\"price\"].unique()"
   ]
  },
  {
   "cell_type": "code",
   "execution_count": 46,
   "id": "721993fe",
   "metadata": {},
   "outputs": [
    {
     "data": {
      "text/plain": [
       "array(['Europe', 'Africa', nan, 'America', 'Asia'], dtype=object)"
      ]
     },
     "execution_count": 46,
     "metadata": {},
     "output_type": "execute_result"
    }
   ],
   "source": [
    "merged_df[\"Zone\"].unique()"
   ]
  },
  {
   "cell_type": "code",
   "execution_count": 47,
   "id": "87fe8810",
   "metadata": {},
   "outputs": [],
   "source": [
    "#\"account_name\" - puste, male i duze litery\n",
    "#\"account_surname\" - puste, prefixy \"Old_\"\n",
    "#\"age\" - wartosci po kilka set lat\n",
    "#\"product\" - puste\n",
    "#\"order_city\" - puste\n",
    "#\"color\" - wszystko z malej litery\n",
    "#\"date\" - jako obiekt\n",
    "#\"delivery_date\" - jako obiekt\n",
    "#\"production_date\" - jako obiekt w formacie ktory nie przypomina daty\n",
    "#\"discount\" - puste\n",
    "#\"quantity\" - wartosci ujemne\n",
    "#\"region\" - cala kolumna pusta\n",
    "#\"additional_delivery_cost\" - niezidentyfikowany transport \"?\"\n",
    "#\"wrh_city\" - gdzieniegdzie brak destynacji, powiazane z order_city"
   ]
  },
  {
   "cell_type": "markdown",
   "id": "8f0fe4af",
   "metadata": {},
   "source": [
    "**7. Wyczysc dane I - usuwanie**\n",
    "Po konsultacji z odbiorcami danych ustalono:\n",
    "- \"product\" - nalezy usunac wszystkie rekordy ktore w kolumnie posiadaja puste wartosci, bez tego analiza sprzedazy bedzie skrzywiona\n",
    "- \"quantity\" - nalezy usunac wszystkie rekordy ktore w kolumnie posiadaja ujemne wartosci, bez tego analiza sprzedazy bedzie skrzywiona, dane obarczone bledami\n",
    "- \"region\" - nalezy usunac kolumne gdyz jest pusta"
   ]
  },
  {
   "cell_type": "code",
   "execution_count": 48,
   "id": "970b7010",
   "metadata": {},
   "outputs": [],
   "source": [
    "merged_df.dropna(subset=[\"product\"],inplace=True)\n",
    "merged_df.drop(columns=\"region\",inplace=True)"
   ]
  },
  {
   "cell_type": "code",
   "execution_count": 49,
   "id": "392f614f",
   "metadata": {},
   "outputs": [],
   "source": [
    "ujemne_wartosci = merged_df[(merged_df[\"quantity\"]<=0)].index\n",
    "merged_df.drop(ujemne_wartosci,inplace=True)"
   ]
  },
  {
   "cell_type": "markdown",
   "id": "e79fbded",
   "metadata": {},
   "source": [
    "**8. Wyczysc dane II - zastepowanie pustych**\n",
    "Po konsultacji z odbiorcami danych ustalono ze puste w:\n",
    "- \"account_name\" - uzupelniamy \"John\"\n",
    "- \"account_surname\" - uzupelniamy \"Doe\"\n",
    "- \"order_city\" - uzupelniamy najczestszym wystapieniem w kolumnie dla niepustych\n",
    "- \"discount\" - uzupelniamy \"0\"\n",
    "- \"Zone\" - kasujemy kolumne \"zone\",mergujemy ponownie data set z df4, nowa kolumna Zone powinna byc juz uzupelniona po wypelnieniu \"order_city\", kasujemy kolune \"City\", dataset nadpisujemy z ta sama nazwa"
   ]
  },
  {
   "cell_type": "code",
   "execution_count": 50,
   "id": "5783b0fe",
   "metadata": {},
   "outputs": [],
   "source": [
    "merged_df.fillna(value={\"account_name\":\"John\",\"account_surname\":\"Doe\",\"discount\":\"0.0\"},inplace=True)"
   ]
  },
  {
   "cell_type": "code",
   "execution_count": 51,
   "id": "f20f4257",
   "metadata": {},
   "outputs": [],
   "source": [
    "city = merged_df.groupby(by=\"order_city\")[\"order_city\"].count().nlargest(1).index[0]\n",
    "merged_df.fillna(value={\"order_city\":city},inplace=True)"
   ]
  },
  {
   "cell_type": "code",
   "execution_count": 52,
   "id": "b91ceb63",
   "metadata": {},
   "outputs": [],
   "source": [
    "merged_df.drop(columns=\"Zone\",inplace=True)\n",
    "df4=pd.read_excel(r\"C:\\Users\\michal.zycki\\OneDrive - summ-it s.a\\Desktop\\BigData\\Zajecia2\\ZadaniaDf4.xlsx\")\n",
    "merged_df= merged_df.merge(right=df4[[\"City\",\"Zone\"]],how=\"left\",left_on=\"order_city\",right_on=\"City\")\n",
    "merged_df.drop(columns=\"City\",inplace=True)"
   ]
  },
  {
   "cell_type": "markdown",
   "id": "5f8b3a7d",
   "metadata": {},
   "source": [
    "**9. Wyczysc dane III - podmiana danych, zmiana typow**\n",
    "Po konsultacji z odbiorcami danych ustalono ze zamieniamy dane:\n",
    "- \"age\" - dane powyzej 100 lat sa poprawne ale pomnozone przez 10, nalezy je podzielic przez 10\n",
    "- \"account_name\" - nalezy zkapitalizowac\n",
    "- \"account_surname\" - nalezy usunac prefixy \"Old_\"\n",
    "- \"color\" - nalezy zkapitalizowac\n",
    "- \"production_date\" - kolumne nalezy przekonwertowac na datetime \"RRRR-MM-DD\"\n",
    "- \"date\" - kolumne nalezy przekonwertowac na datetime \"RRRR-MM-DD\"\n",
    "- \"delivery_date\" - kolumne nalezy przekonwertowac na datetime \"RRRR-MM-DD\"\n",
    "- \"wrh_city\" - zostawiamy tylko pierwszy czlon przez \"_\" - wrh\n",
    "- \"discount\" - kolumne nalezy przekonwertowac na float\n",
    "\n",
    "Wszystkie zmiany wykonujemy funkcjami za wyjatkiem konwertowania kolumn"
   ]
  },
  {
   "cell_type": "code",
   "execution_count": 53,
   "id": "3adfdd49",
   "metadata": {},
   "outputs": [],
   "source": [
    "def age(x):\n",
    "    if x >= 100:\n",
    "        return x/10\n",
    "    else:\n",
    "        return x\n",
    "    \n",
    "def accountname(x):\n",
    "    return x.capitalize()\n",
    "\n",
    "def accountsurname(x):\n",
    "    return x.removeprefix(\"Old_\")\n",
    "\n",
    "def accountsurname(x):\n",
    "    return x.removeprefix(\"Old_\")\n",
    "\n",
    "def wrhcity(x):\n",
    "    a = x.split(\"_\")\n",
    "    return a[0]\n"
   ]
  },
  {
   "cell_type": "code",
   "execution_count": 54,
   "id": "97536160",
   "metadata": {},
   "outputs": [],
   "source": [
    "merged_df[\"age\"] = merged_df[\"age\"].apply(age)\n",
    "merged_df[\"account_name\"] = merged_df[\"account_name\"].apply(accountname)\n",
    "merged_df[\"account_surname\"] = merged_df[\"account_surname\"].apply(accountsurname)\n",
    "merged_df[\"color\"] = merged_df[\"color\"].apply(accountname)\n",
    "merged_df[\"production_date\"] = pd.to_datetime(merged_df[\"production_date\"],format=\"%Y%m%d\")\n",
    "merged_df[\"date\"] = pd.to_datetime(merged_df[\"date\"],format=\"%Y-%m-%d\")\n",
    "merged_df[\"delivery_date\"] = pd.to_datetime(merged_df[\"delivery_date\"],format=\"%Y-%m-%d\")\n",
    "merged_df[\"discount\"] = merged_df[\"discount\"].astype(\"float\")\n",
    "merged_df[\"wrh_city\"] = merged_df[\"wrh_city\"].apply(wrhcity)"
   ]
  },
  {
   "cell_type": "markdown",
   "id": "4879887b",
   "metadata": {},
   "source": [
    "**10. Dodawanie kolumn**\n",
    "Po konsultacji z odbiorcami danych ustalono zamieniamy dane:\n",
    "- \"cost\" - tworzymy kolumne wartoscia kosztow na podstawie opisu kolumny 'additional_delivery_cost' np. jezeli w kolumnie mamy TC to mnozymy wartosc quantity x 0.15(T) i dodajemy ordered x 0.11(C), w przypadku \"?\" stosujemy wartosc ((0.15+0.11+0.82)/3) x quantity. Dodatkowo kazdego wyniku dodajemy koszty pozostale na poziomie 1.5(nie mnozymy przez ilosci, jednorazowa kwota)\n",
    "- \"revenue\" - tworzymy kolumne ktora jest wynikiem quantity x (price-(price x discount))\n",
    "- \"margin\" - revenue - cost\n",
    "- \"order_time\" - delivery_time - production_date\n",
    "- \"lost_revenue\" - tworzymy kolumne ktora jest wynikiem (ordered - quantity) x (price-(price x discount))\n",
    "- \"year\" - kolumna z rokiem na podstawie konwersji production_date\n",
    "\n",
    "Wszystkie zmiany wykonujemy funkcjami z poziomu DataFrameu za wyjatkiem konwersji"
   ]
  },
  {
   "cell_type": "code",
   "execution_count": 55,
   "id": "5969100a",
   "metadata": {},
   "outputs": [],
   "source": [
    "def cost(x):\n",
    "    if x[\"additional_delivery_cost\"]==\"TC\":\n",
    "        return  (x[\"quantity\"]*0.15)+(x[\"ordered\"]*0.11)+1.5\n",
    "    elif x[\"additional_delivery_cost\"]==\"TF\":\n",
    "        return (x[\"quantity\"]*0.15)+(x[\"quantity\"]*0.82)+1.5\n",
    "    elif x[\"additional_delivery_cost\"]==\"T\":\n",
    "        return (x[\"quantity\"]*0.15)+1.5\n",
    "    elif x[\"additional_delivery_cost\"]==\"?\":\n",
    "        return (x[\"quantity\"]*((0.15+0.11+0.82)/3))+1.5\n",
    "    else:\n",
    "        return 0\n",
    "\n",
    "def revenue(x):\n",
    "    return x[\"quantity\"]*(x[\"price\"]-(x[\"price\"]*x[\"discount\"]))\n",
    "\n",
    "def margin(x):\n",
    "    return x[\"revenue\"]-x[\"cost\"]\n",
    "\n",
    "def ordertime(x):\n",
    "    return x[\"delivery_date\"]-x[\"production_date\"]\n",
    "\n",
    "def lostrevenue(x):\n",
    "    return (x[\"ordered\"]-x[\"quantity\"])*(x[\"price\"]-(x[\"price\"]*x[\"discount\"]))"
   ]
  },
  {
   "cell_type": "code",
   "execution_count": 56,
   "id": "ad7c739e",
   "metadata": {},
   "outputs": [],
   "source": [
    "merged_df[\"cost\"]=merged_df.apply(cost,axis=1)\n",
    "merged_df[\"revenue\"]=merged_df.apply(revenue,axis=1)\n",
    "merged_df[\"margin\"]=merged_df.apply(ordertime,axis=1)\n",
    "merged_df[\"order_time\"]=merged_df.apply(ordertime,axis=1)\n",
    "merged_df[\"lost_revenue\"]=merged_df.apply(lostrevenue,axis=1)\n",
    "merged_df[\"year\"]=merged_df[\"production_date\"].dt.year"
   ]
  },
  {
   "cell_type": "markdown",
   "id": "36ab4fdb",
   "metadata": {},
   "source": [
    "**11. Redukcja danych zbednych danych i wizualna korekcja**\n",
    "Po konsultacji z odbiorcami danych ustalono:\n",
    "- kasujemy:\n",
    "    - account_name\n",
    "    - account_surname\n",
    "    - Invoice_Id\n",
    "    - date\n",
    "    - delivery_date\n",
    "    - discount\n",
    "    - ordered\n",
    "    - quantity\n",
    "    - additional_delivery_cost\n",
    "    - price\n",
    "- zmieniamy nazwy kolumn:\n",
    "    - \"age\":\"Wiek\",\n",
    "    - \"product\":\"Produkt\",\n",
    "    - \"order_city\":\"Miasto_zamowienia\",\n",
    "    - \"color\":\"Kolor\",\n",
    "    - \"production_date\":\"Data_zamowienia\",\n",
    "    - \"wrh_city\":\"Magazyn\",\n",
    "    - \"Zone\":\"Region\",\n",
    "    - \"revenue\":\"Przychow\",\n",
    "    - \"cost\":\"Koszt\"\n",
    "    - \"margin\":\"Marza\",\n",
    "    - \"order_time\":\"Czas_dostawy\",\n",
    "    - \"lost_revenue\":\"Utracony_przychow\"\n",
    "\n",
    "Wszystkie zmiany wykonujemy funkcjami z poziomu DataFrameu"
   ]
  },
  {
   "cell_type": "code",
   "execution_count": 57,
   "id": "d8754466",
   "metadata": {},
   "outputs": [],
   "source": [
    "merged_df.drop(columns=[\"account_name\",\n",
    "                        \"account_surname\",\n",
    "                        \"Invoice_Id\",\n",
    "                        \"date\",\n",
    "                        \"delivery_date\",\n",
    "                        \"discount\",\n",
    "                        \"ordered\",\n",
    "                        \"quantity\",\n",
    "                        \"additional_delivery_cost\",\n",
    "                        \"price\"],\n",
    "               inplace=True)"
   ]
  },
  {
   "cell_type": "code",
   "execution_count": 58,
   "id": "2e268407",
   "metadata": {},
   "outputs": [],
   "source": [
    "merged_df.rename(columns={\"age\":\"Wiek\",\n",
    "                          \"product\":\"Produkt\",\n",
    "                          \"order_city\":\"Miasto_zamowienia\",\n",
    "                          \"color\":\"Kolor\",\n",
    "                          \"production_date\":\"Data_zamowienia\",\n",
    "                          \"wrh_city\":\"Magazyn\",\n",
    "                          \"Zone\":\"Region\",\n",
    "                          \"revenue\":\"Przychod\",\n",
    "                          \"cost\":\"Koszt\",\n",
    "                          \"margin\":\"Marza\",\n",
    "                          \"order_time\":\"Czas_dostawy\",\n",
    "                          \"lost_revenue\":\"Utracony_przychod\",\n",
    "                          \"year\":\"Rok\"},\n",
    "                 inplace=True)"
   ]
  },
  {
   "cell_type": "markdown",
   "id": "5c44c3f5",
   "metadata": {},
   "source": [
    "**12. Wizualizacje pogladowe**\n",
    "W trakcie przetwarzania danych dzial sprzedazy poprosil Ciebie o pokazanie 3 szybkich widokow danych\n",
    " - wykresu slupkowego (pionowego) na ktorym znajduja sie sumy Przychodu i Utraconego przychodu dla wszystkich lat, wykres powinien posiadac siatke (aby wykonac wykres nalezy zgrupowac Przychod i Utracony przychod po Roku, zsumowac a nastepnie wygenerowac wykres)\n",
    " - wykresu slupkowego (pionowego) na ktorym znajduje sie sumy Przychodu dla top 5 produktow (aby wykonac wykres nalezy zgrupowac Przychod po Produkcie, zsumowac, wylistowac top 5, a nastepnie wygenerowac wykres)\n",
    " - wykresu slupkowego (poziomego) na ktorym znajduja sie sumych Przychodu dla Wieku i Produktu dla top 5 zgrupowan tych elementow (aby wykonac wykres nalezy zgrupowac Przychod po Wieku i Produkcie, zsumowac, wylistowac top 5 a nastepnie wygenerowac wykres)\n",
    "\n",
    "Wszystkie wykresy sa pogladowe, wiec nie ma koniecznosci zmiany ich oprawy wizualnej"
   ]
  },
  {
   "cell_type": "code",
   "execution_count": 59,
   "id": "6d7ba037",
   "metadata": {},
   "outputs": [
    {
     "data": {
      "text/plain": [
       "<Axes: xlabel='Rok'>"
      ]
     },
     "execution_count": 59,
     "metadata": {},
     "output_type": "execute_result"
    },
    {
     "data": {
      "image/png": "[encoded data removed]",
      "text/plain": [
       "<Figure size 1200x600 with 1 Axes>"
      ]
     },
     "metadata": {},
     "output_type": "display_data"
    }
   ],
   "source": [
    "merged_df.groupby(by=\"Rok\")[[\"Przychod\",\"Utracony_przychod\"]].sum().plot(kind=\"bar\",figsize=(12,6),grid=True)"
   ]
  },
  {
   "cell_type": "code",
   "execution_count": 60,
   "id": "5107a4dd",
   "metadata": {},
   "outputs": [
    {
     "data": {
      "text/plain": [
       "<Axes: xlabel='Produkt'>"
      ]
     },
     "execution_count": 60,
     "metadata": {},
     "output_type": "execute_result"
    },
    {
     "data": {
      "image/png": "[encoded data removed]",
      "text/plain": [
       "<Figure size 1000x600 with 1 Axes>"
      ]
     },
     "metadata": {},
     "output_type": "display_data"
    }
   ],
   "source": [
    "merged_df.groupby(by=\"Produkt\")[\"Przychod\"].sum().nlargest(5).plot(kind=\"bar\",figsize=(10,6))"
   ]
  },
  {
   "cell_type": "code",
   "execution_count": 61,
   "id": "9998eade",
   "metadata": {},
   "outputs": [
    {
     "data": {
      "text/plain": [
       "<Axes: ylabel='Wiek,Produkt'>"
      ]
     },
     "execution_count": 61,
     "metadata": {},
     "output_type": "execute_result"
    },
    {
     "data": {
      "image/png": "[encoded data removed]",
      "text/plain": [
       "<Figure size 640x480 with 1 Axes>"
      ]
     },
     "metadata": {},
     "output_type": "display_data"
    }
   ],
   "source": [
    "merged_df.groupby(by=[\"Wiek\",\"Produkt\"])[\"Przychod\"].sum().nlargest(5).plot(kind=\"barh\")"
   ]
  }
 ],
 "metadata": {
  "kernelspec": {
   "display_name": "Python 3 (ipykernel)",
   "language": "python",
   "name": "python3"
  },
  "language_info": {
   "codemirror_mode": {
    "name": "ipython",
    "version": 3
   },
   "file_extension": ".py",
   "mimetype": "text/x-python",
   "name": "python",
   "nbconvert_exporter": "python",
   "pygments_lexer": "ipython3",
   "version": "3.11.3"
  }
 },
 "nbformat": 4,
 "nbformat_minor": 5
}
